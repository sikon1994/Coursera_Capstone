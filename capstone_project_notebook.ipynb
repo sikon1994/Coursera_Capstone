{
 "cells": [
  {
   "cell_type": "markdown",
   "metadata": {},
   "source": [
    "<h1>Applied Data Science Capstone</h1>\n",
    "<h2>Description</h2>\n",
    "<p>This notebook will be mainly used to complete the project on the IBMs final course \"Applied Data Science Capstone\".</p>\n",
    "<p>Our objective is to construct a model for predicting the severity of an accident in order to warn drivers of the risks they might face in real-time</p>"
   ]
  },
  {
   "cell_type": "code",
   "execution_count": 1,
   "metadata": {},
   "outputs": [],
   "source": [
    "import pandas as pd\n",
    "import numpy as np\n",
    "import matplotlib.pyplot as plt\n",
    "import seaborn as sns\n",
    "import scipy.stats as sps\n",
    "from sklearn.preprocessing import LabelEncoder, StandardScaler\n",
    "from scipy.stats import kendalltau\n",
    "from scipy.stats import chi2_contingency\n",
    "from scipy.stats import describe\n",
    "import matplotlib as mpl\n",
    "from sklearn.model_selection import train_test_split, GridSearchCV\n",
    "from sklearn.neighbors import KNeighborsClassifier\n",
    "from sklearn.linear_model import LogisticRegression\n",
    "from sklearn.tree import DecisionTreeClassifier\n",
    "from sklearn.ensemble import RandomForestClassifier\n",
    "from sklearn.metrics import jaccard_score, f1_score, log_loss, confusion_matrix\n",
    "import itertools\n",
    "import folium\n",
    "pd.options.mode.chained_assignment = None"
   ]
  },
  {
   "cell_type": "code",
   "execution_count": 2,
   "metadata": {},
   "outputs": [
    {
     "name": "stdout",
     "output_type": "stream",
     "text": [
      "Hello Capstone Project Course!\n"
     ]
    }
   ],
   "source": [
    "print(\"Hello Capstone Project Course!\")"
   ]
  },
  {
   "cell_type": "markdown",
   "metadata": {},
   "source": [
    "<h2>Definitions</h2>"
   ]
  },
  {
   "cell_type": "code",
   "execution_count": 3,
   "metadata": {},
   "outputs": [],
   "source": [
    "def cramers_v(x,y):\n",
    "    cont_tab = pd.crosstab(x,y)\n",
    "    chi2 = chi2_contingency(cont_tab)\n",
    "    return np.sqrt((chi2[0]/x.shape[0])/np.min([cont_tab.shape[0]-1, cont_tab.shape[1]-1]))"
   ]
  },
  {
   "cell_type": "code",
   "execution_count": 4,
   "metadata": {},
   "outputs": [],
   "source": [
    "def cat2num(un, df, col):\n",
    "    i = 0\n",
    "    for val in un:\n",
    "        df[col] = df[col].replace(val, i)\n",
    "        i = i + 1\n",
    "    return df, pd.DataFrame({\"categorical\": un, \"numerical\": pd.unique(df[col])})"
   ]
  },
  {
   "cell_type": "markdown",
   "metadata": {},
   "source": [
    "<h2>Data Understanding & Preparation</h2>\n",
    "<p>In this section we will choose features that can be used for our purpose, explore relationships in order to understand each feature and process the data so that it can be used in the model</p>"
   ]
  },
  {
   "cell_type": "code",
   "execution_count": 5,
   "metadata": {},
   "outputs": [],
   "source": [
    "df = pd.read_csv(\"Data-Collisions.csv\", low_memory=False)"
   ]
  },
  {
   "cell_type": "code",
   "execution_count": 6,
   "metadata": {},
   "outputs": [
    {
     "data": {
      "text/plain": [
       "SEVERITYCODE        int64\n",
       "X                 float64\n",
       "Y                 float64\n",
       "OBJECTID            int64\n",
       "INCKEY              int64\n",
       "COLDETKEY           int64\n",
       "REPORTNO           object\n",
       "STATUS             object\n",
       "ADDRTYPE           object\n",
       "INTKEY            float64\n",
       "LOCATION           object\n",
       "EXCEPTRSNCODE      object\n",
       "EXCEPTRSNDESC      object\n",
       "SEVERITYCODE.1      int64\n",
       "SEVERITYDESC       object\n",
       "COLLISIONTYPE      object\n",
       "PERSONCOUNT         int64\n",
       "PEDCOUNT            int64\n",
       "PEDCYLCOUNT         int64\n",
       "VEHCOUNT            int64\n",
       "INCDATE            object\n",
       "INCDTTM            object\n",
       "JUNCTIONTYPE       object\n",
       "SDOT_COLCODE        int64\n",
       "SDOT_COLDESC       object\n",
       "INATTENTIONIND     object\n",
       "UNDERINFL          object\n",
       "WEATHER            object\n",
       "ROADCOND           object\n",
       "LIGHTCOND          object\n",
       "PEDROWNOTGRNT      object\n",
       "SDOTCOLNUM        float64\n",
       "SPEEDING           object\n",
       "ST_COLCODE         object\n",
       "ST_COLDESC         object\n",
       "SEGLANEKEY          int64\n",
       "CROSSWALKKEY        int64\n",
       "HITPARKEDCAR       object\n",
       "dtype: object"
      ]
     },
     "execution_count": 6,
     "metadata": {},
     "output_type": "execute_result"
    }
   ],
   "source": [
    "df.dtypes"
   ]
  },
  {
   "cell_type": "markdown",
   "metadata": {},
   "source": [
    "<p>Firstly we have to remove unimportant columns which clearly don't contribute on the prediction of accident severity. The following list shows such columns.</p>\n",
    "<ul>\n",
    "    <li>OBJECTID</li>\n",
    "    <li>INCKEY</li>\n",
    "    <li>COLDETKEY</li>\n",
    "    <li>REPORTNO</li>\n",
    "</ul>\n",
    "<p>The question we are going to ask is which features can be obtained in real-time so that we can make predictions for the drivers. At first glance we can see a few columns containing data that can be obtained using gps, news etc.</p>\n",
    "<ul>\n",
    "    <li>WEATHER: Current weather. We can use weather forecasts to obtain this data in real-time.</li>\n",
    "    <li>SPEEDING: Car crossing the speed threshold. Speedometers can provide this type of information</li>\n",
    "    <li>LIGHTCOND: Whether it's daylight or night or perhaps there are clouds. Sensors could help us obtain this information.</li>\n",
    "    <li>ROADCOND: The condition of the road. We could use news reports to obtain it, for instance if there was a rain a few hours ago at a specific location, the road is going to be wet.</li>\n",
    "    <li>JUNCTIONTYPE: Type of junction. Use a gps to obtain the information.</li>\n",
    "    <li>ADDRTYPE: Whether the car is at an intersection, block etc. Use a gps to obtain the information.</li>\n",
    "    <li>INTKEY: The type of the intersection given that the car is at an intersection. Use a gps to obtain the information.</li>\n",
    "    <li>INCDTTM: Date and time</li>\n",
    "    <li>PEDROWNOTGRNT: Give-way for pedestrians. This should be turned to a binary feature. Gps can provide this information.</li>\n",
    "    <li>HITPARKEDCAR: Whether an accident involved parked cars. We should turn it into a binary feature of whether there were parked cars involved. Information can be obtained by observing every road and determine if there are cars usually parked at the sides.</li>\n",
    "    <li>X,Y: Lat and lon giving the exact location of the accident. We can use a gps for this one.</li>\n",
    "    <li>SEGLANEKEY: A key of the segment where the accident occured if it. This information could be embedded in the gps</li>\n",
    "    <li>CROSSWALKKEY: A key of the crosswalk the accident occured. This information could be embedded in the gps</li>\n",
    "    <li>PEDCYLCOUNT: The number of bicycles involved. This can be used as a binary feature of whether or not there were bicycles involved. In practice we could obtain this information by observing the frequency of bicycles passing from specific locations and saving the statistics in a gps.</li>\n",
    "    <li>PEDCOUNT: The number of pedestrians involved in the accident. This should be used as a binary feature of whether there were pedestrians involved or not. Again we could use a gps to set locations of higher pedestrian count which would increase the probability of pedestrians being involved in an accident.</li>\n",
    "    <li>VEHCOUNT: The number of vehicles involved. This will also be a binary value and the way to obtain the data in real-time is similar to that of PEDCOUNT.</li>\n",
    "</ul>\n",
    "<p>I have given some ideas for obtaining real-time data from the above list of features. I don't claim that all of them can be applied in reality since i have never being involved with the subject.</p>\n",
    "<p>For the remaining columns i believe that even though they could be correlated to accident severity, they can't be used in real-time for making predictions. For instance INATTENTIONIND shows whether the accident occured due to inattention but how can we determine the attention level of the driver or the other drivers in the road? For that reason we will not study these columns.</p>\n",
    "<p>Let's make a new dataframe which will only include the columns we are going to use</p>"
   ]
  },
  {
   "cell_type": "code",
   "execution_count": 7,
   "metadata": {},
   "outputs": [],
   "source": [
    "lab_enc = LabelEncoder()\n",
    "scaler = StandardScaler()"
   ]
  },
  {
   "cell_type": "code",
   "execution_count": 8,
   "metadata": {},
   "outputs": [
    {
     "data": {
      "text/plain": [
       "(194673, 18)"
      ]
     },
     "execution_count": 8,
     "metadata": {},
     "output_type": "execute_result"
    }
   ],
   "source": [
    "df_p = df[[\"SEVERITYCODE\",\"X\",\"Y\",\"WEATHER\",\"SPEEDING\",\"LIGHTCOND\",\"ROADCOND\",\"JUNCTIONTYPE\",\"ADDRTYPE\",\"INTKEY\",\"INCDTTM\",\"PEDROWNOTGRNT\",\"HITPARKEDCAR\",\"SEGLANEKEY\",\"CROSSWALKKEY\",\"PEDCYLCOUNT\",\"PEDCOUNT\",\"VEHCOUNT\"]]\n",
    "df_p.shape"
   ]
  },
  {
   "cell_type": "markdown",
   "metadata": {},
   "source": [
    "<p>We will now look into each feature</p>"
   ]
  },
  {
   "cell_type": "markdown",
   "metadata": {},
   "source": [
    "<p>Let's check the percentage of severe and minor cases in the whole dataset, ~70% of the accidents were minor while ~30% where severe. We will fix the unbalanced data issue later. For now let's look into the dataset</p>"
   ]
  },
  {
   "cell_type": "code",
   "execution_count": 9,
   "metadata": {},
   "outputs": [
    {
     "data": {
      "text/plain": [
       "1    0.701099\n",
       "2    0.298901\n",
       "Name: SEVERITYCODE, dtype: float64"
      ]
     },
     "execution_count": 9,
     "metadata": {},
     "output_type": "execute_result"
    }
   ],
   "source": [
    "df_p[\"SEVERITYCODE\"].value_counts()/df_p.shape[0]"
   ]
  },
  {
   "cell_type": "markdown",
   "metadata": {},
   "source": [
    "<h4>WEATHER</h4>\n",
    "<p>For this feature we will drop all nan values and also the value \"Unknown\". We will then convert categorical values to numeric</p>"
   ]
  },
  {
   "cell_type": "code",
   "execution_count": 10,
   "metadata": {},
   "outputs": [
    {
     "name": "stdout",
     "output_type": "stream",
     "text": [
      "NaN values:  5081\n"
     ]
    },
    {
     "data": {
      "text/html": [
       "<div>\n",
       "<style scoped>\n",
       "    .dataframe tbody tr th:only-of-type {\n",
       "        vertical-align: middle;\n",
       "    }\n",
       "\n",
       "    .dataframe tbody tr th {\n",
       "        vertical-align: top;\n",
       "    }\n",
       "\n",
       "    .dataframe thead th {\n",
       "        text-align: right;\n",
       "    }\n",
       "</style>\n",
       "<table border=\"1\" class=\"dataframe\">\n",
       "  <thead>\n",
       "    <tr style=\"text-align: right;\">\n",
       "      <th></th>\n",
       "      <th>WEATHER</th>\n",
       "    </tr>\n",
       "  </thead>\n",
       "  <tbody>\n",
       "    <tr>\n",
       "      <th>Clear</th>\n",
       "      <td>111135</td>\n",
       "    </tr>\n",
       "    <tr>\n",
       "      <th>Raining</th>\n",
       "      <td>33145</td>\n",
       "    </tr>\n",
       "    <tr>\n",
       "      <th>Overcast</th>\n",
       "      <td>27714</td>\n",
       "    </tr>\n",
       "    <tr>\n",
       "      <th>Unknown</th>\n",
       "      <td>15091</td>\n",
       "    </tr>\n",
       "    <tr>\n",
       "      <th>Snowing</th>\n",
       "      <td>907</td>\n",
       "    </tr>\n",
       "    <tr>\n",
       "      <th>Other</th>\n",
       "      <td>832</td>\n",
       "    </tr>\n",
       "    <tr>\n",
       "      <th>Fog/Smog/Smoke</th>\n",
       "      <td>569</td>\n",
       "    </tr>\n",
       "    <tr>\n",
       "      <th>Sleet/Hail/Freezing Rain</th>\n",
       "      <td>113</td>\n",
       "    </tr>\n",
       "    <tr>\n",
       "      <th>Blowing Sand/Dirt</th>\n",
       "      <td>56</td>\n",
       "    </tr>\n",
       "    <tr>\n",
       "      <th>Severe Crosswind</th>\n",
       "      <td>25</td>\n",
       "    </tr>\n",
       "    <tr>\n",
       "      <th>Partly Cloudy</th>\n",
       "      <td>5</td>\n",
       "    </tr>\n",
       "  </tbody>\n",
       "</table>\n",
       "</div>"
      ],
      "text/plain": [
       "                          WEATHER\n",
       "Clear                      111135\n",
       "Raining                     33145\n",
       "Overcast                    27714\n",
       "Unknown                     15091\n",
       "Snowing                       907\n",
       "Other                         832\n",
       "Fog/Smog/Smoke                569\n",
       "Sleet/Hail/Freezing Rain      113\n",
       "Blowing Sand/Dirt              56\n",
       "Severe Crosswind               25\n",
       "Partly Cloudy                   5"
      ]
     },
     "execution_count": 10,
     "metadata": {},
     "output_type": "execute_result"
    }
   ],
   "source": [
    "print(\"NaN values: \",df_p[df_p[\"WEATHER\"].isnull()].shape[0])\n",
    "df_p[\"WEATHER\"].value_counts().to_frame()"
   ]
  },
  {
   "cell_type": "markdown",
   "metadata": {},
   "source": [
    "<p>For the bottom 2 weather categories there are very few data points for them to give statisticaly significant results so we are going to convert them into \"Other\" instead</p>"
   ]
  },
  {
   "cell_type": "code",
   "execution_count": 11,
   "metadata": {
    "scrolled": false
   },
   "outputs": [
    {
     "name": "stdout",
     "output_type": "stream",
     "text": [
      "NaN values:  0\n"
     ]
    }
   ],
   "source": [
    "# drop nan values and \"unknown\" value\n",
    "df_p[\"WEATHER\"] = df_p[\"WEATHER\"].replace(\"Unknown\", np.nan)\n",
    "df_p[\"WEATHER\"] = df_p[\"WEATHER\"].replace(\"Partly Cloudy\", \"Other\")\n",
    "df_p[\"WEATHER\"] = df_p[\"WEATHER\"].replace(\"Severe Crosswind\", \"Other\")\n",
    "df_p[\"WEATHER\"] = df_p[\"WEATHER\"].replace(\"Severe Crosswind\", \"Other\")\n",
    "df_p.dropna(subset=[\"WEATHER\"], axis=0, inplace=True)\n",
    "print(\"NaN values: \",df_p[df_p[\"WEATHER\"].isnull()].shape[0])"
   ]
  },
  {
   "cell_type": "code",
   "execution_count": 12,
   "metadata": {
    "scrolled": false
   },
   "outputs": [
    {
     "data": {
      "image/png": "[encoded data removed]",
      "text/plain": [
       "<Figure size 864x432 with 1 Axes>"
      ]
     },
     "metadata": {
      "needs_background": "light"
     },
     "output_type": "display_data"
    }
   ],
   "source": [
    "# show relationship to severe accidents\n",
    "df_plt = df_p[df_p[\"SEVERITYCODE\"] == 2][[\"WEATHER\",\"SEVERITYCODE\"]].groupby([\"WEATHER\"]).count()\n",
    "df_plt.columns = [\"severe_count\"]\n",
    "df_plt[\"minor_count\"] = df_p[df_p[\"SEVERITYCODE\"] == 1][[\"WEATHER\",\"SEVERITYCODE\"]].groupby([\"WEATHER\"]).count()\n",
    "df_plt[\"severe%\"] = (df_plt[\"severe_count\"]/(df_plt[\"severe_count\"] + df_plt[\"minor_count\"]))*100\n",
    "df_plt[\"minor%\"] = (df_plt[\"minor_count\"]/(df_plt[\"severe_count\"] + df_plt[\"minor_count\"]))*100\n",
    "df_plt.sort_values(by=[\"severe%\"], ascending=False, inplace=True)\n",
    "\n",
    "\n",
    "w = 0.35\n",
    "plt.figure(figsize=(12,6))\n",
    "ax1 = plt.bar(df_plt.index, df_plt[\"severe%\"], color=\"salmon\", width=w, label=\"Severe\")\n",
    "ax2 = plt.bar(df_plt.index, df_plt[\"minor%\"], color=\"#FFE4B5\", bottom=df_plt[\"severe%\"], width=w, label=\"Minor\")\n",
    "for i in range(0,8):\n",
    "    plt.plot(i, 100*df_p[\"SEVERITYCODE\"].value_counts()[2]/df_p.shape[0], color=\"black\", marker=\"x\")\n",
    "plt.ylabel(\"%Cases\")\n",
    "plt.xticks(df_plt.index, rotation=\"vertical\")\n",
    "plt.title(\"Percentage of Severe and Minor Accidents Given the Weather Conditions\")\n",
    "plt.legend(loc=\"best\")\n",
    "plt.ylim(0,120)\n",
    "plt.yticks(range(0,120,20))\n",
    "plt.savefig(\"weather_severe_minor_barchart.png\")\n",
    "plt.show()"
   ]
  },
  {
   "cell_type": "markdown",
   "metadata": {},
   "source": [
    "<p>The above graph compares the amount of severe against the amount of minor accidents for each weather category. The point marked as 'x' is the percentage of severe cases in the whole dataset (~30%) which we have computed earlier.</p>\n",
    "<p>According to the definition of naive probability, the probability of an accident being severe is equal to the number of severe observations in the dataset divided by the total number of observations in the dataset, therefore the probability of having a severe accident is about 0.3 in general.</p>\n",
    "<p>The conditional probability of an accident being severe given the type of weather is illustrated in the graph above. If the conditional probability of severe accidents given a certain type of weather is much greater or much lower than the general probability then this should indicate that the specified weather condition will be more significant in determining whether the accident will be severe or not</p>\n",
    "<p>Therefore we care about those weather categories that are further away from the 'x' point</p>\n",
    "<p>Lastly, we are going to convert the categories into numeric values</p>"
   ]
  },
  {
   "cell_type": "code",
   "execution_count": 13,
   "metadata": {},
   "outputs": [],
   "source": [
    "# convert categorical to numeric\n",
    "\n",
    "cat = pd.unique(df_plt.index)\n",
    "lab_enc.fit(df_plt.index)\n",
    "df_p[\"WEATHER\"] = lab_enc.transform(df_p[\"WEATHER\"])\n",
    "weather_cat = pd.DataFrame({\"categorical\": cat,\"numeric\": pd.unique(df_p[\"WEATHER\"])})\n"
   ]
  },
  {
   "cell_type": "code",
   "execution_count": 14,
   "metadata": {
    "scrolled": false
   },
   "outputs": [
    {
     "data": {
      "text/html": [
       "<div>\n",
       "<style scoped>\n",
       "    .dataframe tbody tr th:only-of-type {\n",
       "        vertical-align: middle;\n",
       "    }\n",
       "\n",
       "    .dataframe tbody tr th {\n",
       "        vertical-align: top;\n",
       "    }\n",
       "\n",
       "    .dataframe thead th {\n",
       "        text-align: right;\n",
       "    }\n",
       "</style>\n",
       "<table border=\"1\" class=\"dataframe\">\n",
       "  <thead>\n",
       "    <tr style=\"text-align: right;\">\n",
       "      <th></th>\n",
       "      <th>categorical</th>\n",
       "      <th>numeric</th>\n",
       "    </tr>\n",
       "  </thead>\n",
       "  <tbody>\n",
       "    <tr>\n",
       "      <th>0</th>\n",
       "      <td>Raining</td>\n",
       "      <td>4</td>\n",
       "    </tr>\n",
       "    <tr>\n",
       "      <th>1</th>\n",
       "      <td>Fog/Smog/Smoke</td>\n",
       "      <td>5</td>\n",
       "    </tr>\n",
       "    <tr>\n",
       "      <th>2</th>\n",
       "      <td>Clear</td>\n",
       "      <td>1</td>\n",
       "    </tr>\n",
       "    <tr>\n",
       "      <th>3</th>\n",
       "      <td>Overcast</td>\n",
       "      <td>3</td>\n",
       "    </tr>\n",
       "    <tr>\n",
       "      <th>4</th>\n",
       "      <td>Blowing Sand/Dirt</td>\n",
       "      <td>7</td>\n",
       "    </tr>\n",
       "    <tr>\n",
       "      <th>5</th>\n",
       "      <td>Sleet/Hail/Freezing Rain</td>\n",
       "      <td>2</td>\n",
       "    </tr>\n",
       "    <tr>\n",
       "      <th>6</th>\n",
       "      <td>Snowing</td>\n",
       "      <td>6</td>\n",
       "    </tr>\n",
       "    <tr>\n",
       "      <th>7</th>\n",
       "      <td>Other</td>\n",
       "      <td>0</td>\n",
       "    </tr>\n",
       "  </tbody>\n",
       "</table>\n",
       "</div>"
      ],
      "text/plain": [
       "                categorical  numeric\n",
       "0                   Raining        4\n",
       "1            Fog/Smog/Smoke        5\n",
       "2                     Clear        1\n",
       "3                  Overcast        3\n",
       "4         Blowing Sand/Dirt        7\n",
       "5  Sleet/Hail/Freezing Rain        2\n",
       "6                   Snowing        6\n",
       "7                     Other        0"
      ]
     },
     "execution_count": 14,
     "metadata": {},
     "output_type": "execute_result"
    }
   ],
   "source": [
    "\n",
    "df_p[\"WEATHER\"] = df_p[\"WEATHER\"].replace(4, 1)\n",
    "df_p[\"WEATHER\"] = df_p[\"WEATHER\"].replace(5, 1)\n",
    "weather_cat\n"
   ]
  },
  {
   "cell_type": "markdown",
   "metadata": {},
   "source": [
    "<h4>SPEEDING</h4>"
   ]
  },
  {
   "cell_type": "markdown",
   "metadata": {},
   "source": [
    "<p>Whether or not the car invlolved in the accident was speeding. We need this feature to be binary and clean up any nan values that may exist</p>"
   ]
  },
  {
   "cell_type": "code",
   "execution_count": 15,
   "metadata": {},
   "outputs": [
    {
     "name": "stdout",
     "output_type": "stream",
     "text": [
      "NaN values:  165274\n"
     ]
    },
    {
     "data": {
      "text/html": [
       "<div>\n",
       "<style scoped>\n",
       "    .dataframe tbody tr th:only-of-type {\n",
       "        vertical-align: middle;\n",
       "    }\n",
       "\n",
       "    .dataframe tbody tr th {\n",
       "        vertical-align: top;\n",
       "    }\n",
       "\n",
       "    .dataframe thead th {\n",
       "        text-align: right;\n",
       "    }\n",
       "</style>\n",
       "<table border=\"1\" class=\"dataframe\">\n",
       "  <thead>\n",
       "    <tr style=\"text-align: right;\">\n",
       "      <th></th>\n",
       "      <th>SPEEDING</th>\n",
       "    </tr>\n",
       "  </thead>\n",
       "  <tbody>\n",
       "    <tr>\n",
       "      <th>Y</th>\n",
       "      <td>9227</td>\n",
       "    </tr>\n",
       "  </tbody>\n",
       "</table>\n",
       "</div>"
      ],
      "text/plain": [
       "   SPEEDING\n",
       "Y      9227"
      ]
     },
     "execution_count": 15,
     "metadata": {},
     "output_type": "execute_result"
    }
   ],
   "source": [
    "print(\"NaN values: \",df_p[df_p[\"SPEEDING\"].isnull()].shape[0])\n",
    "df_p[\"SPEEDING\"].value_counts().to_frame()"
   ]
  },
  {
   "cell_type": "markdown",
   "metadata": {},
   "source": [
    "<p>There is only 1 possible value this feature takes, 'Y' which most probably means 'YES'. Knowing that and the fact that there are alot NaN values perhaps they've only recorded the cases where there was speeding involved leaving the rest of them empty. That could mean that the NaN values should actually be equal to 'N' which stands for 'NO'.</p> "
   ]
  },
  {
   "cell_type": "code",
   "execution_count": 16,
   "metadata": {},
   "outputs": [
    {
     "name": "stdout",
     "output_type": "stream",
     "text": [
      "NaN values:  0\n"
     ]
    }
   ],
   "source": [
    "df_p[\"SPEEDING\"] = df_p[\"SPEEDING\"].replace(np.nan, \"N\")\n",
    "print(\"NaN values: \",df_p[df_p[\"SPEEDING\"].isnull()].shape[0])"
   ]
  },
  {
   "cell_type": "code",
   "execution_count": 17,
   "metadata": {},
   "outputs": [
    {
     "data": {
      "image/png": "[encoded data removed]",
      "text/plain": [
       "<Figure size 360x360 with 1 Axes>"
      ]
     },
     "metadata": {
      "needs_background": "light"
     },
     "output_type": "display_data"
    }
   ],
   "source": [
    "# show relationship to severe accidents\n",
    "df_plt = df_p[df_p[\"SEVERITYCODE\"] == 2][[\"SPEEDING\",\"SEVERITYCODE\"]].groupby([\"SPEEDING\"]).count()\n",
    "df_plt.columns = [\"severe_count\"]\n",
    "df_plt[\"minor_count\"] = df_p[df_p[\"SEVERITYCODE\"] == 1][[\"SPEEDING\",\"SEVERITYCODE\"]].groupby([\"SPEEDING\"]).count()\n",
    "df_plt[\"severe%\"] = (df_plt[\"severe_count\"]/(df_plt[\"severe_count\"] + df_plt[\"minor_count\"]))*100\n",
    "df_plt[\"minor%\"] = (df_plt[\"minor_count\"]/(df_plt[\"severe_count\"] + df_plt[\"minor_count\"]))*100\n",
    "\n",
    "w = 0.65\n",
    "plt.figure(figsize=(5,5))\n",
    "ax1 = plt.bar(df_plt.index, df_plt[\"severe%\"], color=\"salmon\", width=w, label=\"Severe\")\n",
    "ax2 = plt.bar(df_plt.index, df_plt[\"minor%\"], color=\"#FFE4B5\", bottom=df_plt[\"severe%\"], width=w, label=\"Minor\")\n",
    "for i in range(0,2):\n",
    "    plt.plot(i, 100*df_p[\"SEVERITYCODE\"].value_counts()[2]/df_p.shape[0], color=\"black\", marker=\"x\")\n",
    "plt.ylabel(\"%Cases\")\n",
    "plt.xticks(df_plt.index)\n",
    "plt.title(\"Percentage of Severe and Minor Accidents When Speeding\")\n",
    "plt.legend(loc=\"best\")\n",
    "plt.ylim(0,120)\n",
    "plt.yticks(range(0,120,20))\n",
    "plt.savefig(\"weather_severe_minor_barchart.png\")\n",
    "plt.show()"
   ]
  },
  {
   "cell_type": "markdown",
   "metadata": {},
   "source": [
    "<p>The meaning of the above bar chart is similar to that of the previous feature. We can see that when the cars involved in an accident are speeding the probability of having a severe accident is greater than usual</p>"
   ]
  },
  {
   "cell_type": "markdown",
   "metadata": {},
   "source": [
    "<p>Now we will convert the values ['Y','N'] to [1,0]</p>"
   ]
  },
  {
   "cell_type": "code",
   "execution_count": 18,
   "metadata": {},
   "outputs": [],
   "source": [
    "df_p[\"SPEEDING\"] = df_p[\"SPEEDING\"].replace([\"Y\",\"N\"], [1, 0])"
   ]
  },
  {
   "cell_type": "markdown",
   "metadata": {},
   "source": [
    "<h4>LIGHTCOND</h4>\n",
    "<p>Let's look into the light conditions</p>"
   ]
  },
  {
   "cell_type": "code",
   "execution_count": 19,
   "metadata": {},
   "outputs": [
    {
     "name": "stdout",
     "output_type": "stream",
     "text": [
      "NaN values:  166\n"
     ]
    },
    {
     "data": {
      "text/html": [
       "<div>\n",
       "<style scoped>\n",
       "    .dataframe tbody tr th:only-of-type {\n",
       "        vertical-align: middle;\n",
       "    }\n",
       "\n",
       "    .dataframe tbody tr th {\n",
       "        vertical-align: top;\n",
       "    }\n",
       "\n",
       "    .dataframe thead th {\n",
       "        text-align: right;\n",
       "    }\n",
       "</style>\n",
       "<table border=\"1\" class=\"dataframe\">\n",
       "  <thead>\n",
       "    <tr style=\"text-align: right;\">\n",
       "      <th></th>\n",
       "      <th>LIGHTCOND</th>\n",
       "    </tr>\n",
       "  </thead>\n",
       "  <tbody>\n",
       "    <tr>\n",
       "      <th>Daylight</th>\n",
       "      <td>113542</td>\n",
       "    </tr>\n",
       "    <tr>\n",
       "      <th>Dark - Street Lights On</th>\n",
       "      <td>47120</td>\n",
       "    </tr>\n",
       "    <tr>\n",
       "      <th>Dusk</th>\n",
       "      <td>5710</td>\n",
       "    </tr>\n",
       "    <tr>\n",
       "      <th>Unknown</th>\n",
       "      <td>2755</td>\n",
       "    </tr>\n",
       "    <tr>\n",
       "      <th>Dawn</th>\n",
       "      <td>2437</td>\n",
       "    </tr>\n",
       "    <tr>\n",
       "      <th>Dark - No Street Lights</th>\n",
       "      <td>1432</td>\n",
       "    </tr>\n",
       "    <tr>\n",
       "      <th>Dark - Street Lights Off</th>\n",
       "      <td>1122</td>\n",
       "    </tr>\n",
       "    <tr>\n",
       "      <th>Other</th>\n",
       "      <td>206</td>\n",
       "    </tr>\n",
       "    <tr>\n",
       "      <th>Dark - Unknown Lighting</th>\n",
       "      <td>11</td>\n",
       "    </tr>\n",
       "  </tbody>\n",
       "</table>\n",
       "</div>"
      ],
      "text/plain": [
       "                          LIGHTCOND\n",
       "Daylight                     113542\n",
       "Dark - Street Lights On       47120\n",
       "Dusk                           5710\n",
       "Unknown                        2755\n",
       "Dawn                           2437\n",
       "Dark - No Street Lights        1432\n",
       "Dark - Street Lights Off       1122\n",
       "Other                           206\n",
       "Dark - Unknown Lighting          11"
      ]
     },
     "execution_count": 19,
     "metadata": {},
     "output_type": "execute_result"
    }
   ],
   "source": [
    "print(\"NaN values: \",df_p[df_p[\"LIGHTCOND\"].isnull()].shape[0])\n",
    "df_p[\"LIGHTCOND\"].value_counts().to_frame()"
   ]
  },
  {
   "cell_type": "markdown",
   "metadata": {},
   "source": [
    "<p>We are going to remove the nan values as well as the \"Unknown\" value. Next we will move \"Dark-Unknown Lighting\" to \"Other\" since it only contains 11 observations, not enough to create statisticaly significant results</p>"
   ]
  },
  {
   "cell_type": "code",
   "execution_count": 20,
   "metadata": {},
   "outputs": [
    {
     "name": "stdout",
     "output_type": "stream",
     "text": [
      "NaN values:  0\n"
     ]
    }
   ],
   "source": [
    "df_p[\"LIGHTCOND\"] = df_p[\"LIGHTCOND\"].replace(\"Unknown\", np.nan)\n",
    "df_p.dropna(subset=[\"LIGHTCOND\"], axis=0, inplace=True)\n",
    "df_p[\"LIGHTCOND\"] = df_p[\"LIGHTCOND\"].replace(\"Dark - Unknown Lighting\", \"Other\")\n",
    "print(\"NaN values: \",df_p[df_p[\"LIGHTCOND\"].isnull()].shape[0])"
   ]
  },
  {
   "cell_type": "code",
   "execution_count": 21,
   "metadata": {},
   "outputs": [
    {
     "data": {
      "image/png": "[encoded data removed]",
      "text/plain": [
       "<Figure size 864x432 with 1 Axes>"
      ]
     },
     "metadata": {
      "needs_background": "light"
     },
     "output_type": "display_data"
    }
   ],
   "source": [
    "# show relationship to severe accidents\n",
    "df_plt = df_p[df_p[\"SEVERITYCODE\"] == 2][[\"LIGHTCOND\",\"SEVERITYCODE\"]].groupby([\"LIGHTCOND\"]).count()\n",
    "df_plt.columns = [\"severe_count\"]\n",
    "df_plt[\"minor_count\"] = df_p[df_p[\"SEVERITYCODE\"] == 1][[\"LIGHTCOND\",\"SEVERITYCODE\"]].groupby([\"LIGHTCOND\"]).count()\n",
    "df_plt[\"severe%\"] = (df_plt[\"severe_count\"]/(df_plt[\"severe_count\"] + df_plt[\"minor_count\"]))*100\n",
    "df_plt[\"minor%\"] = (df_plt[\"minor_count\"]/(df_plt[\"severe_count\"] + df_plt[\"minor_count\"]))*100\n",
    "df_plt.sort_values(by=[\"severe%\"], ascending=False, inplace=True)\n",
    "\n",
    "w = 0.35\n",
    "plt.figure(figsize=(12,6))\n",
    "ax1 = plt.bar(df_plt.index, df_plt[\"severe%\"], color=\"salmon\", width=w, label=\"Severe\")\n",
    "ax2 = plt.bar(df_plt.index, df_plt[\"minor%\"], color=\"#FFE4B5\", bottom=df_plt[\"severe%\"], width=w, label=\"Minor\")\n",
    "for i in range(0,7):\n",
    "    plt.plot(i, 100*df_p[\"SEVERITYCODE\"].value_counts()[2]/df_p.shape[0], color=\"black\", marker=\"x\")\n",
    "plt.ylabel(\"%Cases\")\n",
    "plt.xticks(df_plt.index, rotation=\"vertical\")\n",
    "plt.title(\"Percentage of Severe and Minor Accidents Given the Light Conditions\")\n",
    "plt.legend(loc=\"best\")\n",
    "plt.ylim(0,120)\n",
    "plt.yticks(range(0,120,20))\n",
    "plt.savefig(\"weather_severe_minor_barchart.png\")\n",
    "plt.show()"
   ]
  },
  {
   "cell_type": "markdown",
   "metadata": {},
   "source": [
    "<p>Finally we will convert categorical values into numeric values</p>"
   ]
  },
  {
   "cell_type": "code",
   "execution_count": 22,
   "metadata": {},
   "outputs": [
    {
     "data": {
      "text/html": [
       "<div>\n",
       "<style scoped>\n",
       "    .dataframe tbody tr th:only-of-type {\n",
       "        vertical-align: middle;\n",
       "    }\n",
       "\n",
       "    .dataframe tbody tr th {\n",
       "        vertical-align: top;\n",
       "    }\n",
       "\n",
       "    .dataframe thead th {\n",
       "        text-align: right;\n",
       "    }\n",
       "</style>\n",
       "<table border=\"1\" class=\"dataframe\">\n",
       "  <thead>\n",
       "    <tr style=\"text-align: right;\">\n",
       "      <th></th>\n",
       "      <th>categorical</th>\n",
       "      <th>numerical</th>\n",
       "    </tr>\n",
       "  </thead>\n",
       "  <tbody>\n",
       "    <tr>\n",
       "      <th>0</th>\n",
       "      <td>Daylight</td>\n",
       "      <td>4</td>\n",
       "    </tr>\n",
       "    <tr>\n",
       "      <th>1</th>\n",
       "      <td>Dusk</td>\n",
       "      <td>2</td>\n",
       "    </tr>\n",
       "    <tr>\n",
       "      <th>2</th>\n",
       "      <td>Dawn</td>\n",
       "      <td>0</td>\n",
       "    </tr>\n",
       "    <tr>\n",
       "      <th>3</th>\n",
       "      <td>Dark - Street Lights On</td>\n",
       "      <td>5</td>\n",
       "    </tr>\n",
       "    <tr>\n",
       "      <th>4</th>\n",
       "      <td>Dark - Street Lights Off</td>\n",
       "      <td>3</td>\n",
       "    </tr>\n",
       "    <tr>\n",
       "      <th>5</th>\n",
       "      <td>Other</td>\n",
       "      <td>1</td>\n",
       "    </tr>\n",
       "    <tr>\n",
       "      <th>6</th>\n",
       "      <td>Dark - No Street Lights</td>\n",
       "      <td>6</td>\n",
       "    </tr>\n",
       "  </tbody>\n",
       "</table>\n",
       "</div>"
      ],
      "text/plain": [
       "                categorical  numerical\n",
       "0                  Daylight          4\n",
       "1                      Dusk          2\n",
       "2                      Dawn          0\n",
       "3   Dark - Street Lights On          5\n",
       "4  Dark - Street Lights Off          3\n",
       "5                     Other          1\n",
       "6   Dark - No Street Lights          6"
      ]
     },
     "execution_count": 22,
     "metadata": {},
     "output_type": "execute_result"
    }
   ],
   "source": [
    "\n",
    "cat = pd.unique(df_plt.index)\n",
    "lab_enc.fit(df_plt.index)\n",
    "df_p[\"LIGHTCOND\"] = lab_enc.transform(df_p[\"LIGHTCOND\"])\n",
    "lightcond_cat = pd.DataFrame({\"categorical\": cat, \"numerical\": pd.unique(df_p[\"LIGHTCOND\"])})\n",
    "lightcond_cat"
   ]
  },
  {
   "cell_type": "markdown",
   "metadata": {},
   "source": [
    "<h4>ROADCOND</h4>"
   ]
  },
  {
   "cell_type": "code",
   "execution_count": 23,
   "metadata": {},
   "outputs": [
    {
     "name": "stdout",
     "output_type": "stream",
     "text": [
      "NaN values:  32\n"
     ]
    },
    {
     "data": {
      "text/html": [
       "<div>\n",
       "<style scoped>\n",
       "    .dataframe tbody tr th:only-of-type {\n",
       "        vertical-align: middle;\n",
       "    }\n",
       "\n",
       "    .dataframe tbody tr th {\n",
       "        vertical-align: top;\n",
       "    }\n",
       "\n",
       "    .dataframe thead th {\n",
       "        text-align: right;\n",
       "    }\n",
       "</style>\n",
       "<table border=\"1\" class=\"dataframe\">\n",
       "  <thead>\n",
       "    <tr style=\"text-align: right;\">\n",
       "      <th></th>\n",
       "      <th>ROADCOND</th>\n",
       "    </tr>\n",
       "  </thead>\n",
       "  <tbody>\n",
       "    <tr>\n",
       "      <th>Dry</th>\n",
       "      <td>121754</td>\n",
       "    </tr>\n",
       "    <tr>\n",
       "      <th>Wet</th>\n",
       "      <td>46469</td>\n",
       "    </tr>\n",
       "    <tr>\n",
       "      <th>Ice</th>\n",
       "      <td>1096</td>\n",
       "    </tr>\n",
       "    <tr>\n",
       "      <th>Unknown</th>\n",
       "      <td>1038</td>\n",
       "    </tr>\n",
       "    <tr>\n",
       "      <th>Snow/Slush</th>\n",
       "      <td>845</td>\n",
       "    </tr>\n",
       "    <tr>\n",
       "      <th>Other</th>\n",
       "      <td>111</td>\n",
       "    </tr>\n",
       "    <tr>\n",
       "      <th>Standing Water</th>\n",
       "      <td>108</td>\n",
       "    </tr>\n",
       "    <tr>\n",
       "      <th>Sand/Mud/Dirt</th>\n",
       "      <td>66</td>\n",
       "    </tr>\n",
       "    <tr>\n",
       "      <th>Oil</th>\n",
       "      <td>61</td>\n",
       "    </tr>\n",
       "  </tbody>\n",
       "</table>\n",
       "</div>"
      ],
      "text/plain": [
       "                ROADCOND\n",
       "Dry               121754\n",
       "Wet                46469\n",
       "Ice                 1096\n",
       "Unknown             1038\n",
       "Snow/Slush           845\n",
       "Other                111\n",
       "Standing Water       108\n",
       "Sand/Mud/Dirt         66\n",
       "Oil                   61"
      ]
     },
     "execution_count": 23,
     "metadata": {},
     "output_type": "execute_result"
    }
   ],
   "source": [
    "print(\"NaN values: \",df_p[df_p[\"ROADCOND\"].isnull()].shape[0])\n",
    "df_p[\"ROADCOND\"].value_counts().to_frame()"
   ]
  },
  {
   "cell_type": "markdown",
   "metadata": {},
   "source": [
    "<p>We will drop all NaN values</p>"
   ]
  },
  {
   "cell_type": "code",
   "execution_count": 24,
   "metadata": {},
   "outputs": [
    {
     "name": "stdout",
     "output_type": "stream",
     "text": [
      "NaN values:  0\n"
     ]
    }
   ],
   "source": [
    "df_p[\"ROADCOND\"] = df_p[\"ROADCOND\"].replace(\"Unknown\", np.nan)\n",
    "df_p.dropna(subset=[\"ROADCOND\"], axis=0, inplace=True)\n",
    "print(\"NaN values: \",df_p[df_p[\"ROADCOND\"].isnull()].shape[0])"
   ]
  },
  {
   "cell_type": "markdown",
   "metadata": {},
   "source": [
    "<p>The values of this feature suggest that there might be some correlation with the weather conditions</p>"
   ]
  },
  {
   "cell_type": "code",
   "execution_count": 25,
   "metadata": {},
   "outputs": [
    {
     "data": {
      "image/png": "[encoded data removed]",
      "text/plain": [
       "<Figure size 864x432 with 1 Axes>"
      ]
     },
     "metadata": {
      "needs_background": "light"
     },
     "output_type": "display_data"
    }
   ],
   "source": [
    "\n",
    "df_plt = df_p[[\"WEATHER\", \"ROADCOND\"]]\n",
    "df_plt[\"count\"] = np.ones(df_plt.shape[0])\n",
    "df_plt_grp = df_plt.groupby([\"WEATHER\",\"ROADCOND\"]).count()/df_plt.shape[0]\n",
    "x = []\n",
    "y = []\n",
    "count = []\n",
    "color = []\n",
    "for i in range(df_plt_grp.shape[0]):\n",
    "    x.append(df_plt_grp.index[i][0])\n",
    "    y.append(df_plt_grp.index[i][1])\n",
    "    count.append(df_plt_grp[\"count\"].values[i]*5000)\n",
    "    color.append(df_plt_grp[\"count\"].values[i])\n",
    "    \n",
    "plt.figure(figsize=(12,6))\n",
    "plt.scatter(x, y, s=count, alpha=0.5, c=color, cmap=plt.get_cmap('jet'))\n",
    "plt.xticks(range(0,weather_cat[\"categorical\"].shape[0]), weather_cat[\"categorical\"].sort_values().values, rotation=\"vertical\")\n",
    "plt.ylim(-1,)\n",
    "plt.grid(alpha=0.1)\n",
    "plt.title(\"Correlation Between Weather and Road Condition\")\n",
    "plt.show()"
   ]
  },
  {
   "cell_type": "markdown",
   "metadata": {},
   "source": [
    "<p>The bubble plot indicates some correlation between values such as (\"ROADCOND\", \"WEATHER\") = (\"Dry\", \"Clear\") and (\"ROADCOND\", \"WEATHER\") = (\"Wet\", \"Raining\") but this isn't enough to suggest removing one of the features since some values like \"ROADCOND\" = \"Standing Water\" or \"WEATHER\" = \"Fog/Smog/Smoke\" have no (\"ROADCOND\", \"WEATHER\") pair with strong enough correlation.</p>\n",
    "<p>Now we will look into the severity% of each category</p>"
   ]
  },
  {
   "cell_type": "code",
   "execution_count": 26,
   "metadata": {},
   "outputs": [
    {
     "data": {
      "image/png": "[encoded data removed]",
      "text/plain": [
       "<Figure size 864x432 with 1 Axes>"
      ]
     },
     "metadata": {
      "needs_background": "light"
     },
     "output_type": "display_data"
    }
   ],
   "source": [
    "# show relationship to severe accidents\n",
    "df_plt = df_p[df_p[\"SEVERITYCODE\"] == 2][[\"ROADCOND\",\"SEVERITYCODE\"]].groupby([\"ROADCOND\"]).count()\n",
    "df_plt.columns = [\"severe_count\"]\n",
    "df_plt[\"minor_count\"] = df_p[df_p[\"SEVERITYCODE\"] == 1][[\"ROADCOND\",\"SEVERITYCODE\"]].groupby([\"ROADCOND\"]).count()\n",
    "df_plt[\"severe%\"] = (df_plt[\"severe_count\"]/(df_plt[\"severe_count\"] + df_plt[\"minor_count\"]))*100\n",
    "df_plt[\"minor%\"] = (df_plt[\"minor_count\"]/(df_plt[\"severe_count\"] + df_plt[\"minor_count\"]))*100\n",
    "df_plt.sort_values(by=[\"severe%\"], ascending=False, inplace=True)\n",
    "\n",
    "w = 0.35\n",
    "plt.figure(figsize=(12,6))\n",
    "ax1 = plt.bar(df_plt.index, df_plt[\"severe%\"], color=\"salmon\", width=w, label=\"Severe\")\n",
    "ax2 = plt.bar(df_plt.index, df_plt[\"minor%\"], color=\"#FFE4B5\", bottom=df_plt[\"severe%\"], width=w, label=\"Minor\")\n",
    "for i in range(0,8):\n",
    "    plt.plot(i, 100*df_p[\"SEVERITYCODE\"].value_counts()[2]/df_p.shape[0], color=\"black\", marker=\"x\")\n",
    "plt.ylabel(\"%Cases\")\n",
    "plt.xticks(df_plt.index, rotation=\"vertical\")\n",
    "plt.title(\"Percentage of Severe and Minor Accidents Given the Road Condition\")\n",
    "plt.legend(loc=\"best\")\n",
    "plt.ylim(0,120)\n",
    "plt.yticks(range(0,120,20))\n",
    "plt.show()"
   ]
  },
  {
   "cell_type": "markdown",
   "metadata": {},
   "source": [
    "<p>Finally we will convert all categorical values into numerical</p>"
   ]
  },
  {
   "cell_type": "code",
   "execution_count": 27,
   "metadata": {},
   "outputs": [
    {
     "data": {
      "text/html": [
       "<div>\n",
       "<style scoped>\n",
       "    .dataframe tbody tr th:only-of-type {\n",
       "        vertical-align: middle;\n",
       "    }\n",
       "\n",
       "    .dataframe tbody tr th {\n",
       "        vertical-align: top;\n",
       "    }\n",
       "\n",
       "    .dataframe thead th {\n",
       "        text-align: right;\n",
       "    }\n",
       "</style>\n",
       "<table border=\"1\" class=\"dataframe\">\n",
       "  <thead>\n",
       "    <tr style=\"text-align: right;\">\n",
       "      <th></th>\n",
       "      <th>categorical</th>\n",
       "      <th>numeric</th>\n",
       "    </tr>\n",
       "  </thead>\n",
       "  <tbody>\n",
       "    <tr>\n",
       "      <th>0</th>\n",
       "      <td>Oil</td>\n",
       "      <td>7</td>\n",
       "    </tr>\n",
       "    <tr>\n",
       "      <th>1</th>\n",
       "      <td>Other</td>\n",
       "      <td>0</td>\n",
       "    </tr>\n",
       "    <tr>\n",
       "      <th>2</th>\n",
       "      <td>Wet</td>\n",
       "      <td>5</td>\n",
       "    </tr>\n",
       "    <tr>\n",
       "      <th>3</th>\n",
       "      <td>Sand/Mud/Dirt</td>\n",
       "      <td>1</td>\n",
       "    </tr>\n",
       "    <tr>\n",
       "      <th>4</th>\n",
       "      <td>Dry</td>\n",
       "      <td>3</td>\n",
       "    </tr>\n",
       "    <tr>\n",
       "      <th>5</th>\n",
       "      <td>Standing Water</td>\n",
       "      <td>4</td>\n",
       "    </tr>\n",
       "    <tr>\n",
       "      <th>6</th>\n",
       "      <td>Ice</td>\n",
       "      <td>6</td>\n",
       "    </tr>\n",
       "    <tr>\n",
       "      <th>7</th>\n",
       "      <td>Snow/Slush</td>\n",
       "      <td>2</td>\n",
       "    </tr>\n",
       "  </tbody>\n",
       "</table>\n",
       "</div>"
      ],
      "text/plain": [
       "      categorical  numeric\n",
       "0             Oil        7\n",
       "1           Other        0\n",
       "2             Wet        5\n",
       "3   Sand/Mud/Dirt        1\n",
       "4             Dry        3\n",
       "5  Standing Water        4\n",
       "6             Ice        6\n",
       "7      Snow/Slush        2"
      ]
     },
     "execution_count": 27,
     "metadata": {},
     "output_type": "execute_result"
    }
   ],
   "source": [
    "\n",
    "cat = pd.unique(df_plt.index)\n",
    "lab_enc.fit(df_plt.index)\n",
    "df_p[\"ROADCOND\"] = lab_enc.transform(df_p[\"ROADCOND\"])\n",
    "roadcond_cat = pd.DataFrame({\"categorical\": cat, \"numeric\": pd.unique(df_p[\"ROADCOND\"])})\n",
    "roadcond_cat\n"
   ]
  },
  {
   "cell_type": "markdown",
   "metadata": {},
   "source": [
    "<h4>JUNCTIONTYPE</h4>"
   ]
  },
  {
   "cell_type": "code",
   "execution_count": 28,
   "metadata": {},
   "outputs": [
    {
     "name": "stdout",
     "output_type": "stream",
     "text": [
      "NaN values:  2507\n"
     ]
    },
    {
     "data": {
      "text/html": [
       "<div>\n",
       "<style scoped>\n",
       "    .dataframe tbody tr th:only-of-type {\n",
       "        vertical-align: middle;\n",
       "    }\n",
       "\n",
       "    .dataframe tbody tr th {\n",
       "        vertical-align: top;\n",
       "    }\n",
       "\n",
       "    .dataframe thead th {\n",
       "        text-align: right;\n",
       "    }\n",
       "</style>\n",
       "<table border=\"1\" class=\"dataframe\">\n",
       "  <thead>\n",
       "    <tr style=\"text-align: right;\">\n",
       "      <th></th>\n",
       "      <th>JUNCTIONTYPE</th>\n",
       "    </tr>\n",
       "  </thead>\n",
       "  <tbody>\n",
       "    <tr>\n",
       "      <th>Mid-Block (not related to intersection)</th>\n",
       "      <td>75325</td>\n",
       "    </tr>\n",
       "    <tr>\n",
       "      <th>At Intersection (intersection related)</th>\n",
       "      <td>59521</td>\n",
       "    </tr>\n",
       "    <tr>\n",
       "      <th>Mid-Block (but intersection related)</th>\n",
       "      <td>21215</td>\n",
       "    </tr>\n",
       "    <tr>\n",
       "      <th>Driveway Junction</th>\n",
       "      <td>9981</td>\n",
       "    </tr>\n",
       "    <tr>\n",
       "      <th>At Intersection (but not related to intersection)</th>\n",
       "      <td>1798</td>\n",
       "    </tr>\n",
       "    <tr>\n",
       "      <th>Ramp Junction</th>\n",
       "      <td>157</td>\n",
       "    </tr>\n",
       "    <tr>\n",
       "      <th>Unknown</th>\n",
       "      <td>6</td>\n",
       "    </tr>\n",
       "  </tbody>\n",
       "</table>\n",
       "</div>"
      ],
      "text/plain": [
       "                                                   JUNCTIONTYPE\n",
       "Mid-Block (not related to intersection)                   75325\n",
       "At Intersection (intersection related)                    59521\n",
       "Mid-Block (but intersection related)                      21215\n",
       "Driveway Junction                                          9981\n",
       "At Intersection (but not related to intersection)          1798\n",
       "Ramp Junction                                               157\n",
       "Unknown                                                       6"
      ]
     },
     "execution_count": 28,
     "metadata": {},
     "output_type": "execute_result"
    }
   ],
   "source": [
    "print(\"NaN values: \",df_p[df_p[\"JUNCTIONTYPE\"].isnull()].shape[0])\n",
    "df_p[\"JUNCTIONTYPE\"].value_counts().to_frame()"
   ]
  },
  {
   "cell_type": "markdown",
   "metadata": {},
   "source": [
    "<p>Remove nan values and unknown value</p>"
   ]
  },
  {
   "cell_type": "code",
   "execution_count": 29,
   "metadata": {},
   "outputs": [
    {
     "name": "stdout",
     "output_type": "stream",
     "text": [
      "NaN values:  0\n"
     ]
    }
   ],
   "source": [
    "df_p[\"JUNCTIONTYPE\"] = df_p[\"JUNCTIONTYPE\"].replace(\"Unknown\", np.nan)\n",
    "df_p.dropna(subset=[\"JUNCTIONTYPE\"], axis=0, inplace=True)\n",
    "print(\"NaN values: \",df_p[df_p[\"JUNCTIONTYPE\"].isnull()].shape[0])"
   ]
  },
  {
   "cell_type": "code",
   "execution_count": 30,
   "metadata": {},
   "outputs": [
    {
     "data": {
      "image/png": "[encoded data removed]",
      "text/plain": [
       "<Figure size 864x432 with 1 Axes>"
      ]
     },
     "metadata": {
      "needs_background": "light"
     },
     "output_type": "display_data"
    }
   ],
   "source": [
    "# show relationship to severe accidents\n",
    "df_plt = df_p[df_p[\"SEVERITYCODE\"] == 2][[\"JUNCTIONTYPE\",\"SEVERITYCODE\"]].groupby([\"JUNCTIONTYPE\"]).count()\n",
    "df_plt.columns = [\"severe_count\"]\n",
    "df_plt[\"minor_count\"] = df_p[df_p[\"SEVERITYCODE\"] == 1][[\"JUNCTIONTYPE\",\"SEVERITYCODE\"]].groupby([\"JUNCTIONTYPE\"]).count()\n",
    "df_plt[\"severe%\"] = (df_plt[\"severe_count\"]/(df_plt[\"severe_count\"] + df_plt[\"minor_count\"]))*100\n",
    "df_plt[\"minor%\"] = (df_plt[\"minor_count\"]/(df_plt[\"severe_count\"] + df_plt[\"minor_count\"]))*100\n",
    "df_plt.sort_values(by=[\"severe%\"], ascending=False, inplace=True)\n",
    "\n",
    "w = 0.35\n",
    "plt.figure(figsize=(12,6))\n",
    "ax1 = plt.bar(df_plt.index, df_plt[\"severe%\"], color=\"salmon\", width=w, label=\"Severe\")\n",
    "ax2 = plt.bar(df_plt.index, df_plt[\"minor%\"], color=\"#FFE4B5\", bottom=df_plt[\"severe%\"], width=w, label=\"Minor\")\n",
    "for i in range(0,6):\n",
    "    plt.plot(i, 100*df_p[\"SEVERITYCODE\"].value_counts()[2]/df_p.shape[0], color=\"black\", marker=\"x\")\n",
    "plt.ylabel(\"%Cases\")\n",
    "plt.xticks(df_plt.index, rotation=\"vertical\")\n",
    "plt.title(\"Percentage of Severe and Minor Accidents Given the Junction Type\")\n",
    "plt.legend(loc=\"best\")\n",
    "plt.ylim(0,120)\n",
    "plt.yticks(range(0,120,20))\n",
    "plt.show()"
   ]
  },
  {
   "cell_type": "code",
   "execution_count": 31,
   "metadata": {},
   "outputs": [
    {
     "data": {
      "text/html": [
       "<div>\n",
       "<style scoped>\n",
       "    .dataframe tbody tr th:only-of-type {\n",
       "        vertical-align: middle;\n",
       "    }\n",
       "\n",
       "    .dataframe tbody tr th {\n",
       "        vertical-align: top;\n",
       "    }\n",
       "\n",
       "    .dataframe thead th {\n",
       "        text-align: right;\n",
       "    }\n",
       "</style>\n",
       "<table border=\"1\" class=\"dataframe\">\n",
       "  <thead>\n",
       "    <tr style=\"text-align: right;\">\n",
       "      <th></th>\n",
       "      <th>categorical</th>\n",
       "      <th>numeric</th>\n",
       "    </tr>\n",
       "  </thead>\n",
       "  <tbody>\n",
       "    <tr>\n",
       "      <th>0</th>\n",
       "      <td>At Intersection (intersection related)</td>\n",
       "      <td>1</td>\n",
       "    </tr>\n",
       "    <tr>\n",
       "      <th>1</th>\n",
       "      <td>At Intersection (but not related to intersection)</td>\n",
       "      <td>4</td>\n",
       "    </tr>\n",
       "    <tr>\n",
       "      <th>2</th>\n",
       "      <td>Ramp Junction</td>\n",
       "      <td>2</td>\n",
       "    </tr>\n",
       "    <tr>\n",
       "      <th>3</th>\n",
       "      <td>Mid-Block (but intersection related)</td>\n",
       "      <td>3</td>\n",
       "    </tr>\n",
       "    <tr>\n",
       "      <th>4</th>\n",
       "      <td>Driveway Junction</td>\n",
       "      <td>0</td>\n",
       "    </tr>\n",
       "    <tr>\n",
       "      <th>5</th>\n",
       "      <td>Mid-Block (not related to intersection)</td>\n",
       "      <td>5</td>\n",
       "    </tr>\n",
       "  </tbody>\n",
       "</table>\n",
       "</div>"
      ],
      "text/plain": [
       "                                         categorical  numeric\n",
       "0             At Intersection (intersection related)        1\n",
       "1  At Intersection (but not related to intersection)        4\n",
       "2                                      Ramp Junction        2\n",
       "3               Mid-Block (but intersection related)        3\n",
       "4                                  Driveway Junction        0\n",
       "5            Mid-Block (not related to intersection)        5"
      ]
     },
     "execution_count": 31,
     "metadata": {},
     "output_type": "execute_result"
    }
   ],
   "source": [
    "\n",
    "cat = pd.unique(df_plt.index)\n",
    "lab_enc.fit(df_plt.index)\n",
    "df_p[\"JUNCTIONTYPE\"] = lab_enc.transform(df_p[\"JUNCTIONTYPE\"])\n",
    "junctiontype_cat = pd.DataFrame({\"categorical\": cat, \"numeric\": pd.unique(df_p[\"JUNCTIONTYPE\"])})\n",
    "junctiontype_cat\n"
   ]
  },
  {
   "cell_type": "markdown",
   "metadata": {},
   "source": [
    "<h4>ADDRTYPE</h4>"
   ]
  },
  {
   "cell_type": "code",
   "execution_count": 32,
   "metadata": {},
   "outputs": [
    {
     "name": "stdout",
     "output_type": "stream",
     "text": [
      "NaN values:  140\n"
     ]
    },
    {
     "data": {
      "text/html": [
       "<div>\n",
       "<style scoped>\n",
       "    .dataframe tbody tr th:only-of-type {\n",
       "        vertical-align: middle;\n",
       "    }\n",
       "\n",
       "    .dataframe tbody tr th {\n",
       "        vertical-align: top;\n",
       "    }\n",
       "\n",
       "    .dataframe thead th {\n",
       "        text-align: right;\n",
       "    }\n",
       "</style>\n",
       "<table border=\"1\" class=\"dataframe\">\n",
       "  <thead>\n",
       "    <tr style=\"text-align: right;\">\n",
       "      <th></th>\n",
       "      <th>ADDRTYPE</th>\n",
       "    </tr>\n",
       "  </thead>\n",
       "  <tbody>\n",
       "    <tr>\n",
       "      <th>Block</th>\n",
       "      <td>106344</td>\n",
       "    </tr>\n",
       "    <tr>\n",
       "      <th>Intersection</th>\n",
       "      <td>61331</td>\n",
       "    </tr>\n",
       "    <tr>\n",
       "      <th>Alley</th>\n",
       "      <td>182</td>\n",
       "    </tr>\n",
       "  </tbody>\n",
       "</table>\n",
       "</div>"
      ],
      "text/plain": [
       "              ADDRTYPE\n",
       "Block           106344\n",
       "Intersection     61331\n",
       "Alley              182"
      ]
     },
     "execution_count": 32,
     "metadata": {},
     "output_type": "execute_result"
    }
   ],
   "source": [
    "print(\"NaN values: \",df_p[df_p[\"ADDRTYPE\"].isnull()].shape[0])\n",
    "df_p[\"ADDRTYPE\"].value_counts().to_frame()"
   ]
  },
  {
   "cell_type": "code",
   "execution_count": 33,
   "metadata": {},
   "outputs": [
    {
     "name": "stdout",
     "output_type": "stream",
     "text": [
      "NaN values:  0\n"
     ]
    }
   ],
   "source": [
    "df_p.dropna(subset=[\"ADDRTYPE\"], axis=0, inplace=True)\n",
    "print(\"NaN values: \",df_p[df_p[\"ADDRTYPE\"].isnull()].shape[0])"
   ]
  },
  {
   "cell_type": "code",
   "execution_count": 34,
   "metadata": {},
   "outputs": [
    {
     "data": {
      "image/png": "[encoded data removed]",
      "text/plain": [
       "<Figure size 864x432 with 1 Axes>"
      ]
     },
     "metadata": {
      "needs_background": "light"
     },
     "output_type": "display_data"
    }
   ],
   "source": [
    "# show relationship to severe accidents\n",
    "df_plt = df_p[df_p[\"SEVERITYCODE\"] == 2][[\"ADDRTYPE\",\"SEVERITYCODE\"]].groupby([\"ADDRTYPE\"]).count()\n",
    "df_plt.columns = [\"severe_count\"]\n",
    "df_plt[\"minor_count\"] = df_p[df_p[\"SEVERITYCODE\"] == 1][[\"ADDRTYPE\",\"SEVERITYCODE\"]].groupby([\"ADDRTYPE\"]).count()\n",
    "df_plt[\"severe%\"] = (df_plt[\"severe_count\"]/(df_plt[\"severe_count\"] + df_plt[\"minor_count\"]))*100\n",
    "df_plt[\"minor%\"] = (df_plt[\"minor_count\"]/(df_plt[\"severe_count\"] + df_plt[\"minor_count\"]))*100\n",
    "df_plt.sort_values(by=[\"severe%\"], ascending=False, inplace=True)\n",
    "\n",
    "w = 0.35\n",
    "plt.figure(figsize=(12,6))\n",
    "ax1 = plt.bar(df_plt.index, df_plt[\"severe%\"], color=\"salmon\", width=w, label=\"Severe\")\n",
    "ax2 = plt.bar(df_plt.index, df_plt[\"minor%\"], color=\"#FFE4B5\", bottom=df_plt[\"severe%\"], width=w, label=\"Minor\")\n",
    "for i in range(0,3):\n",
    "    plt.plot(i, 100*df_p[\"SEVERITYCODE\"].value_counts()[2]/df_p.shape[0], color=\"black\", marker=\"x\")\n",
    "plt.ylabel(\"%Cases\")\n",
    "plt.xticks(df_plt.index, rotation=\"vertical\")\n",
    "plt.title(\"Percentage of Severe and Minor Accidents Given the Address Type\")\n",
    "plt.legend(loc=\"best\")\n",
    "plt.ylim(0,120)\n",
    "plt.yticks(range(0,120,20))\n",
    "plt.show()"
   ]
  },
  {
   "cell_type": "code",
   "execution_count": 35,
   "metadata": {},
   "outputs": [
    {
     "data": {
      "image/png": "[encoded data removed]",
      "text/plain": [
       "<Figure size 864x432 with 1 Axes>"
      ]
     },
     "metadata": {
      "needs_background": "light"
     },
     "output_type": "display_data"
    }
   ],
   "source": [
    "df_plt = df_p[[\"JUNCTIONTYPE\", \"ADDRTYPE\"]]\n",
    "df_plt[\"count\"] = np.ones(df_plt.shape[0])\n",
    "df_plt_grp = df_plt.groupby([\"JUNCTIONTYPE\",\"ADDRTYPE\"]).count()/df_plt.shape[0]\n",
    "x = []\n",
    "y = []\n",
    "count = []\n",
    "color = []\n",
    "for i in range(df_plt_grp.shape[0]):\n",
    "    x.append(df_plt_grp.index[i][0])\n",
    "    y.append(df_plt_grp.index[i][1])\n",
    "    count.append(df_plt_grp[\"count\"].values[i]*5000)\n",
    "    color.append(df_plt_grp[\"count\"].values[i])\n",
    "    \n",
    "plt.figure(figsize=(12,6))\n",
    "plt.scatter(x, y, s=count, alpha=0.5, c=color, cmap=plt.get_cmap('jet'))\n",
    "plt.xticks(range(0,junctiontype_cat[\"categorical\"].shape[0]), junctiontype_cat[\"categorical\"].sort_values().values, rotation=\"vertical\")\n",
    "plt.ylim(-1,)\n",
    "plt.grid(alpha=0.3)\n",
    "plt.title(\"Correlation Between Junction and Address Type\")\n",
    "plt.show()"
   ]
  },
  {
   "cell_type": "markdown",
   "metadata": {},
   "source": [
    "<p>From the bubble plot above and the value of Kendall's Tau, we can see there is correlation between junction and address type. We can use one of these 2 features for our models training, probably junction type since it contains a bit more information</p>"
   ]
  },
  {
   "cell_type": "code",
   "execution_count": 36,
   "metadata": {},
   "outputs": [
    {
     "data": {
      "text/html": [
       "<div>\n",
       "<style scoped>\n",
       "    .dataframe tbody tr th:only-of-type {\n",
       "        vertical-align: middle;\n",
       "    }\n",
       "\n",
       "    .dataframe tbody tr th {\n",
       "        vertical-align: top;\n",
       "    }\n",
       "\n",
       "    .dataframe thead th {\n",
       "        text-align: right;\n",
       "    }\n",
       "</style>\n",
       "<table border=\"1\" class=\"dataframe\">\n",
       "  <thead>\n",
       "    <tr style=\"text-align: right;\">\n",
       "      <th></th>\n",
       "      <th>categorical</th>\n",
       "      <th>numeric</th>\n",
       "    </tr>\n",
       "  </thead>\n",
       "  <tbody>\n",
       "    <tr>\n",
       "      <th>0</th>\n",
       "      <td>Intersection</td>\n",
       "      <td>2</td>\n",
       "    </tr>\n",
       "    <tr>\n",
       "      <th>1</th>\n",
       "      <td>Block</td>\n",
       "      <td>1</td>\n",
       "    </tr>\n",
       "    <tr>\n",
       "      <th>2</th>\n",
       "      <td>Alley</td>\n",
       "      <td>0</td>\n",
       "    </tr>\n",
       "  </tbody>\n",
       "</table>\n",
       "</div>"
      ],
      "text/plain": [
       "    categorical  numeric\n",
       "0  Intersection        2\n",
       "1         Block        1\n",
       "2         Alley        0"
      ]
     },
     "execution_count": 36,
     "metadata": {},
     "output_type": "execute_result"
    }
   ],
   "source": [
    "# show relationship to severe accidents\n",
    "df_plt = df_p[df_p[\"SEVERITYCODE\"] == 2][[\"ADDRTYPE\",\"SEVERITYCODE\"]].groupby([\"ADDRTYPE\"]).count()\n",
    "df_plt.columns = [\"severe_count\"]\n",
    "df_plt[\"minor_count\"] = df_p[df_p[\"SEVERITYCODE\"] == 1][[\"ADDRTYPE\",\"SEVERITYCODE\"]].groupby([\"ADDRTYPE\"]).count()\n",
    "df_plt[\"severe%\"] = (df_plt[\"severe_count\"]/(df_plt[\"severe_count\"] + df_plt[\"minor_count\"]))*100\n",
    "df_plt[\"minor%\"] = (df_plt[\"minor_count\"]/(df_plt[\"severe_count\"] + df_plt[\"minor_count\"]))*100\n",
    "df_plt.sort_values(by=[\"severe%\"], ascending=False, inplace=True)\n",
    "\n",
    "cat = pd.unique(df_plt.index)\n",
    "lab_enc.fit(df_plt.index)\n",
    "df_p[\"ADDRTYPE\"] = lab_enc.transform(df_p[\"ADDRTYPE\"])\n",
    "addrtype_cat = pd.DataFrame({\"categorical\": cat, \"numeric\": pd.unique(df_p[\"ADDRTYPE\"])})\n",
    "addrtype_cat"
   ]
  },
  {
   "cell_type": "markdown",
   "metadata": {},
   "source": [
    "<h4>INTKEY</h4>"
   ]
  },
  {
   "cell_type": "code",
   "execution_count": 37,
   "metadata": {},
   "outputs": [
    {
     "name": "stdout",
     "output_type": "stream",
     "text": [
      "NaN values:  106526\n",
      "Unique values:  7416\n"
     ]
    },
    {
     "data": {
      "text/plain": [
       "count     61331.000000\n",
       "mean      37547.577815\n",
       "std       51546.585117\n",
       "min       23807.000000\n",
       "25%       28689.000000\n",
       "50%       29999.000000\n",
       "75%       34008.000000\n",
       "max      757580.000000\n",
       "Name: INTKEY, dtype: float64"
      ]
     },
     "execution_count": 37,
     "metadata": {},
     "output_type": "execute_result"
    }
   ],
   "source": [
    "print(\"NaN values: \",df_p[df_p[\"INTKEY\"].isnull()].shape[0])\n",
    "print(\"Unique values: \",df_p[\"INTKEY\"].value_counts().size)\n",
    "df_p[\"INTKEY\"].describe()"
   ]
  },
  {
   "cell_type": "markdown",
   "metadata": {},
   "source": [
    "<p>We will convert all nan values into a separate category '0'. Since all data in column corresponds to intersection codes the nan values should be categorized as 'Non-itersection'</p>"
   ]
  },
  {
   "cell_type": "code",
   "execution_count": 38,
   "metadata": {},
   "outputs": [
    {
     "name": "stdout",
     "output_type": "stream",
     "text": [
      "NaN values:  0\n"
     ]
    }
   ],
   "source": [
    "df_p[\"INTKEY\"] = df_p[\"INTKEY\"].replace(np.nan, 0)\n",
    "print(\"NaN values: \",df_p[df_p[\"INTKEY\"].isnull()].shape[0])"
   ]
  },
  {
   "cell_type": "code",
   "execution_count": 39,
   "metadata": {},
   "outputs": [],
   "source": [
    "# show relationship to severe accidents\n",
    "df_plt = df_p[df_p[\"SEVERITYCODE\"] == 2][[\"INTKEY\",\"SEVERITYCODE\"]].groupby([\"INTKEY\"]).count()\n",
    "df_plt.columns = [\"severe_count\"]\n",
    "df_plt[\"minor_count\"] = df_p[df_p[\"SEVERITYCODE\"] == 1][[\"INTKEY\",\"SEVERITYCODE\"]].groupby([\"INTKEY\"]).count()\n",
    "df_plt[\"severe%\"] = (df_plt[\"severe_count\"]/(df_plt[\"severe_count\"] + df_plt[\"minor_count\"]))*100\n",
    "df_plt[\"minor%\"] = (df_plt[\"minor_count\"]/(df_plt[\"severe_count\"] + df_plt[\"minor_count\"]))*100\n",
    "df_plt.sort_values(by=[\"severe%\"], ascending=False, inplace=True)\n",
    "\n",
    "df_plt.index\n",
    "df_p[\"INTKEY\"] = df_p[\"INTKEY\"].replace(df_plt.index, np.arange(df_plt.index.shape[0]))"
   ]
  },
  {
   "cell_type": "markdown",
   "metadata": {},
   "source": [
    "<p>It is obvious that this feature is strongly correlated with the previous 2 features and that is because it contains information regarding the type of intersection if the accident happened on an intersection.</p>"
   ]
  },
  {
   "cell_type": "markdown",
   "metadata": {},
   "source": [
    "<h4>INCDTTM</h4>"
   ]
  },
  {
   "cell_type": "code",
   "execution_count": 40,
   "metadata": {},
   "outputs": [
    {
     "data": {
      "text/plain": [
       "0      3/27/2013 2:54:00 PM\n",
       "1     12/20/2006 6:55:00 PM\n",
       "2    11/18/2004 10:20:00 AM\n",
       "Name: INCDTTM, dtype: object"
      ]
     },
     "execution_count": 40,
     "metadata": {},
     "output_type": "execute_result"
    }
   ],
   "source": [
    "df_p[\"INCDTTM\"].head(3)"
   ]
  },
  {
   "cell_type": "code",
   "execution_count": 41,
   "metadata": {},
   "outputs": [
    {
     "data": {
      "text/plain": [
       "dtype('<M8[ns]')"
      ]
     },
     "execution_count": 41,
     "metadata": {},
     "output_type": "execute_result"
    }
   ],
   "source": [
    "df_p[\"INCDTTM\"] = pd.to_datetime(df_p[\"INCDTTM\"])\n",
    "df_p[\"INCDTTM\"].dtype"
   ]
  },
  {
   "cell_type": "code",
   "execution_count": 42,
   "metadata": {},
   "outputs": [
    {
     "name": "stdout",
     "output_type": "stream",
     "text": [
      "NaN values:  0\n"
     ]
    }
   ],
   "source": [
    "print(\"NaN values: \",df_p[df_p[\"INCDTTM\"].isnull()].shape[0])"
   ]
  },
  {
   "cell_type": "markdown",
   "metadata": {},
   "source": [
    "<p>We will create 4 new columns, day, month, week, hour and drop this column since we won't be needing it anymore</p>"
   ]
  },
  {
   "cell_type": "code",
   "execution_count": 43,
   "metadata": {},
   "outputs": [],
   "source": [
    "day = []\n",
    "week = []\n",
    "month = []\n",
    "hour = []\n",
    "for el in df_p[\"INCDTTM\"]:\n",
    "    day.append(el.day)\n",
    "    week.append(el.dayofweek)\n",
    "    month.append(el.month)\n",
    "    hour.append(el.hour)\n",
    "df_p[\"DAY\"] = day\n",
    "df_p[\"DAYOFWEEK\"] = week\n",
    "df_p[\"MONTH\"] = month\n",
    "df_p[\"HOUR\"] = hour\n",
    "df_p.drop([\"INCDTTM\"], axis=1, inplace=True)"
   ]
  },
  {
   "cell_type": "markdown",
   "metadata": {},
   "source": [
    "<h4>HOUR</h4>"
   ]
  },
  {
   "cell_type": "code",
   "execution_count": 44,
   "metadata": {
    "scrolled": false
   },
   "outputs": [
    {
     "data": {
      "image/png": "[encoded data removed]",
      "text/plain": [
       "<Figure size 864x432 with 1 Axes>"
      ]
     },
     "metadata": {
      "needs_background": "light"
     },
     "output_type": "display_data"
    }
   ],
   "source": [
    "# show relationship to severe accidents\n",
    "df_plt = df_p[df_p[\"SEVERITYCODE\"] == 2][[\"HOUR\",\"SEVERITYCODE\"]].groupby([\"HOUR\"]).count()\n",
    "df_plt.columns = [\"severe_count\"]\n",
    "df_plt[\"minor_count\"] = df_p[df_p[\"SEVERITYCODE\"] == 1][[\"HOUR\",\"SEVERITYCODE\"]].groupby([\"HOUR\"]).count()\n",
    "df_plt[\"severe%\"] = (df_plt[\"severe_count\"]/(df_plt[\"severe_count\"] + df_plt[\"minor_count\"]))*100\n",
    "df_plt[\"minor%\"] = (df_plt[\"minor_count\"]/(df_plt[\"severe_count\"] + df_plt[\"minor_count\"]))*100\n",
    "#df_plt.sort_values(by=[\"severe%\"], ascending=False, inplace=True)\n",
    "\n",
    "w = 0.35\n",
    "plt.figure(figsize=(12,6))\n",
    "ax1 = plt.bar(df_plt.index, df_plt[\"severe%\"], color=\"salmon\", width=w, label=\"Severe\")\n",
    "ax2 = plt.bar(df_plt.index, df_plt[\"minor%\"], color=\"#FFE4B5\", bottom=df_plt[\"severe%\"], width=w, label=\"Minor\")\n",
    "for i in range(0,24):\n",
    "    plt.plot(i, 100*df_p[\"SEVERITYCODE\"].value_counts()[2]/df_p.shape[0], color=\"black\", marker=\"x\")\n",
    "plt.ylabel(\"%Cases\")\n",
    "plt.xticks(pd.unique(df_p[\"HOUR\"]), rotation=\"vertical\")\n",
    "plt.title(\"Percentage of Severe and Minor Accidents Given the Time of Day\")\n",
    "plt.legend(loc=\"best\")\n",
    "plt.ylim(0,120)\n",
    "plt.yticks(range(0,120,20))\n",
    "plt.show()"
   ]
  },
  {
   "cell_type": "markdown",
   "metadata": {},
   "source": [
    "<h4>DAYOFMONTH</h4>"
   ]
  },
  {
   "cell_type": "code",
   "execution_count": 45,
   "metadata": {
    "scrolled": false
   },
   "outputs": [
    {
     "data": {
      "image/png": "[encoded data removed]",
      "text/plain": [
       "<Figure size 864x432 with 1 Axes>"
      ]
     },
     "metadata": {
      "needs_background": "light"
     },
     "output_type": "display_data"
    }
   ],
   "source": [
    "# show relationship to severe accidents\n",
    "df_plt = df_p[df_p[\"SEVERITYCODE\"] == 2][[\"DAY\",\"SEVERITYCODE\"]].groupby([\"DAY\"]).count()\n",
    "df_plt.columns = [\"severe_count\"]\n",
    "df_plt[\"minor_count\"] = df_p[df_p[\"SEVERITYCODE\"] == 1][[\"DAY\",\"SEVERITYCODE\"]].groupby([\"DAY\"]).count()\n",
    "df_plt[\"severe%\"] = (df_plt[\"severe_count\"]/(df_plt[\"severe_count\"] + df_plt[\"minor_count\"]))*100\n",
    "df_plt[\"minor%\"] = (df_plt[\"minor_count\"]/(df_plt[\"severe_count\"] + df_plt[\"minor_count\"]))*100\n",
    "#df_plt.sort_values(by=[\"severe%\"], ascending=False, inplace=True)\n",
    "\n",
    "w = 0.35\n",
    "plt.figure(figsize=(12,6))\n",
    "ax1 = plt.bar(df_plt.index, df_plt[\"severe%\"], color=\"salmon\", width=w, label=\"Severe\")\n",
    "ax2 = plt.bar(df_plt.index, df_plt[\"minor%\"], color=\"#FFE4B5\", bottom=df_plt[\"severe%\"], width=w, label=\"Minor\")\n",
    "for i in range(1,32):\n",
    "    plt.plot(i, 100*df_p[\"SEVERITYCODE\"].value_counts()[2]/df_p.shape[0], color=\"black\", marker=\"x\")\n",
    "plt.ylabel(\"%Cases\")\n",
    "plt.xticks(pd.unique(df_p[\"DAY\"]), rotation=\"vertical\")\n",
    "plt.title(\"Percentage of Severe and Minor Accidents Given the Day of Month\")\n",
    "plt.legend(loc=\"best\")\n",
    "plt.ylim(0,120)\n",
    "plt.yticks(range(0,120,20))\n",
    "plt.show()"
   ]
  },
  {
   "cell_type": "markdown",
   "metadata": {},
   "source": [
    "<h4>DAYOFWEEK</h4>"
   ]
  },
  {
   "cell_type": "code",
   "execution_count": 46,
   "metadata": {
    "scrolled": false
   },
   "outputs": [
    {
     "data": {
      "image/png": "[encoded data removed]",
      "text/plain": [
       "<Figure size 864x432 with 1 Axes>"
      ]
     },
     "metadata": {
      "needs_background": "light"
     },
     "output_type": "display_data"
    }
   ],
   "source": [
    "# show relationship to severe accidents\n",
    "df_plt = df_p[df_p[\"SEVERITYCODE\"] == 2][[\"DAYOFWEEK\",\"SEVERITYCODE\"]].groupby([\"DAYOFWEEK\"]).count()\n",
    "df_plt.columns = [\"severe_count\"]\n",
    "df_plt[\"minor_count\"] = df_p[df_p[\"SEVERITYCODE\"] == 1][[\"DAYOFWEEK\",\"SEVERITYCODE\"]].groupby([\"DAYOFWEEK\"]).count()\n",
    "df_plt[\"severe%\"] = (df_plt[\"severe_count\"]/(df_plt[\"severe_count\"] + df_plt[\"minor_count\"]))*100\n",
    "df_plt[\"minor%\"] = (df_plt[\"minor_count\"]/(df_plt[\"severe_count\"] + df_plt[\"minor_count\"]))*100\n",
    "#df_plt.sort_values(by=[\"severe%\"], ascending=False, inplace=True)\n",
    "\n",
    "w = 0.35\n",
    "plt.figure(figsize=(12,6))\n",
    "ax1 = plt.bar(df_plt.index, df_plt[\"severe%\"], color=\"salmon\", width=w, label=\"Severe\")\n",
    "ax2 = plt.bar(df_plt.index, df_plt[\"minor%\"], color=\"#FFE4B5\", bottom=df_plt[\"severe%\"], width=w, label=\"Minor\")\n",
    "for i in range(0,7):\n",
    "    plt.plot(i, 100*df_p[\"SEVERITYCODE\"].value_counts()[2]/df_p.shape[0], color=\"black\", marker=\"x\")\n",
    "plt.ylabel(\"%Cases\")\n",
    "plt.xticks(df_plt.index, [\"Monday\", \"Tuesday\", \"Wednesday\", \"Thursday\", \"Friday\", \"Saturday\", \"Sunday\"],rotation=\"vertical\")\n",
    "plt.title(\"Percentage of Severe and Minor Accidents Given the Day of Week\")\n",
    "plt.legend(loc=\"best\")\n",
    "plt.ylim(0,120)\n",
    "plt.yticks(range(0,120,20))\n",
    "plt.show()"
   ]
  },
  {
   "cell_type": "markdown",
   "metadata": {},
   "source": [
    "<h4>MONTH</h4>"
   ]
  },
  {
   "cell_type": "code",
   "execution_count": 47,
   "metadata": {
    "scrolled": false
   },
   "outputs": [
    {
     "data": {
      "image/png": "[encoded data removed]",
      "text/plain": [
       "<Figure size 864x432 with 1 Axes>"
      ]
     },
     "metadata": {
      "needs_background": "light"
     },
     "output_type": "display_data"
    }
   ],
   "source": [
    "# show relationship to severe accidents\n",
    "df_plt = df_p[df_p[\"SEVERITYCODE\"] == 2][[\"MONTH\",\"SEVERITYCODE\"]].groupby([\"MONTH\"]).count()\n",
    "df_plt.columns = [\"severe_count\"]\n",
    "df_plt[\"minor_count\"] = df_p[df_p[\"SEVERITYCODE\"] == 1][[\"MONTH\",\"SEVERITYCODE\"]].groupby([\"MONTH\"]).count()\n",
    "df_plt[\"severe%\"] = (df_plt[\"severe_count\"]/(df_plt[\"severe_count\"] + df_plt[\"minor_count\"]))*100\n",
    "df_plt[\"minor%\"] = (df_plt[\"minor_count\"]/(df_plt[\"severe_count\"] + df_plt[\"minor_count\"]))*100\n",
    "#df_plt.sort_values(by=[\"severe%\"], ascending=False, inplace=True)\n",
    "\n",
    "w = 0.35\n",
    "plt.figure(figsize=(12,6))\n",
    "ax1 = plt.bar(df_plt.index, df_plt[\"severe%\"], color=\"salmon\", width=w, label=\"Severe\")\n",
    "ax2 = plt.bar(df_plt.index, df_plt[\"minor%\"], color=\"#FFE4B5\", bottom=df_plt[\"severe%\"], width=w, label=\"Minor\")\n",
    "for i in range(1,13):\n",
    "    plt.plot(i, 100*df_p[\"SEVERITYCODE\"].value_counts()[2]/df_p.shape[0], color=\"black\", marker=\"x\")\n",
    "plt.ylabel(\"%Cases\")\n",
    "plt.xticks(df_plt.index, [\"January\", \"February\", \"March\", \"April\", \"May\", \"June\", \"July\", \"August\", \"September\", \"October\", \"November\", \"December\"], rotation=\"vertical\")\n",
    "plt.title(\"Percentage of Severe and Minor Accidents Given the Month\")\n",
    "plt.legend(loc=\"best\")\n",
    "plt.ylim(0,120)\n",
    "plt.yticks(range(0,120,20))\n",
    "plt.show()"
   ]
  },
  {
   "cell_type": "markdown",
   "metadata": {},
   "source": [
    "<p>There doesn't seem to be a much correlation between time, day, dayofweek, month and our target data from the charts above except perhaps with time.</p>"
   ]
  },
  {
   "cell_type": "markdown",
   "metadata": {},
   "source": [
    "<h4>PEDROWNOTGRNT</h4>"
   ]
  },
  {
   "cell_type": "code",
   "execution_count": 48,
   "metadata": {},
   "outputs": [
    {
     "name": "stdout",
     "output_type": "stream",
     "text": [
      "NaN values:  163377\n"
     ]
    },
    {
     "data": {
      "text/html": [
       "<div>\n",
       "<style scoped>\n",
       "    .dataframe tbody tr th:only-of-type {\n",
       "        vertical-align: middle;\n",
       "    }\n",
       "\n",
       "    .dataframe tbody tr th {\n",
       "        vertical-align: top;\n",
       "    }\n",
       "\n",
       "    .dataframe thead th {\n",
       "        text-align: right;\n",
       "    }\n",
       "</style>\n",
       "<table border=\"1\" class=\"dataframe\">\n",
       "  <thead>\n",
       "    <tr style=\"text-align: right;\">\n",
       "      <th></th>\n",
       "      <th>PEDROWNOTGRNT</th>\n",
       "    </tr>\n",
       "  </thead>\n",
       "  <tbody>\n",
       "    <tr>\n",
       "      <th>Y</th>\n",
       "      <td>4480</td>\n",
       "    </tr>\n",
       "  </tbody>\n",
       "</table>\n",
       "</div>"
      ],
      "text/plain": [
       "   PEDROWNOTGRNT\n",
       "Y           4480"
      ]
     },
     "execution_count": 48,
     "metadata": {},
     "output_type": "execute_result"
    }
   ],
   "source": [
    "print(\"NaN values: \",df_p[df_p[\"PEDROWNOTGRNT\"].isnull()].shape[0])\n",
    "df_p[\"PEDROWNOTGRNT\"].value_counts().to_frame()"
   ]
  },
  {
   "cell_type": "markdown",
   "metadata": {},
   "source": [
    "<p>Let's turn the nan values into 'N' since this feature should probably be binary</p>"
   ]
  },
  {
   "cell_type": "code",
   "execution_count": 49,
   "metadata": {},
   "outputs": [
    {
     "name": "stdout",
     "output_type": "stream",
     "text": [
      "NaN values:  0\n"
     ]
    }
   ],
   "source": [
    "df_p[\"PEDROWNOTGRNT\"] = df_p[\"PEDROWNOTGRNT\"].replace(np.nan, \"N\")\n",
    "print(\"NaN values: \",df_p[df_p[\"PEDROWNOTGRNT\"].isnull()].shape[0])"
   ]
  },
  {
   "cell_type": "code",
   "execution_count": 50,
   "metadata": {},
   "outputs": [
    {
     "data": {
      "image/png": "[encoded data removed]",
      "text/plain": [
       "<Figure size 360x360 with 1 Axes>"
      ]
     },
     "metadata": {
      "needs_background": "light"
     },
     "output_type": "display_data"
    }
   ],
   "source": [
    "# show relationship to severe accidents\n",
    "df_plt = df_p[df_p[\"SEVERITYCODE\"] == 2][[\"PEDROWNOTGRNT\",\"SEVERITYCODE\"]].groupby([\"PEDROWNOTGRNT\"]).count()\n",
    "df_plt.columns = [\"severe_count\"]\n",
    "df_plt[\"minor_count\"] = df_p[df_p[\"SEVERITYCODE\"] == 1][[\"PEDROWNOTGRNT\",\"SEVERITYCODE\"]].groupby([\"PEDROWNOTGRNT\"]).count()\n",
    "df_plt[\"severe%\"] = (df_plt[\"severe_count\"]/(df_plt[\"severe_count\"] + df_plt[\"minor_count\"]))*100\n",
    "df_plt[\"minor%\"] = (df_plt[\"minor_count\"]/(df_plt[\"severe_count\"] + df_plt[\"minor_count\"]))*100\n",
    "\n",
    "w = 0.65\n",
    "plt.figure(figsize=(5,5))\n",
    "ax1 = plt.bar(df_plt.index, df_plt[\"severe%\"], color=\"salmon\", width=w, label=\"Severe\")\n",
    "ax2 = plt.bar(df_plt.index, df_plt[\"minor%\"], color=\"#FFE4B5\", bottom=df_plt[\"severe%\"], width=w, label=\"Minor\")\n",
    "for i in range(0,2):\n",
    "    plt.plot(i, 100*df_p[\"SEVERITYCODE\"].value_counts()[2]/df_p.shape[0], color=\"black\", marker=\"x\")\n",
    "plt.ylabel(\"%Cases\")\n",
    "plt.xticks(df_plt.index)\n",
    "plt.title(\"Percentage of Severe and Minor Accidents When Right of Way was NOT Granted\")\n",
    "plt.legend(loc=\"best\")\n",
    "plt.ylim(0,120)\n",
    "plt.yticks(range(0,120,20))\n",
    "plt.savefig(\"weather_severe_minor_barchart.png\")\n",
    "plt.show()"
   ]
  },
  {
   "cell_type": "markdown",
   "metadata": {},
   "source": [
    "<p>When right of way isn't granted the probability of severe accidents dramatically increases</p>\n",
    "<p>Let's convert ['N','Y'] to [0,1]</p>"
   ]
  },
  {
   "cell_type": "code",
   "execution_count": 51,
   "metadata": {},
   "outputs": [],
   "source": [
    "df_p[\"PEDROWNOTGRNT\"] = df_p[\"PEDROWNOTGRNT\"].replace([\"N\",\"Y\"], [0,1])"
   ]
  },
  {
   "cell_type": "markdown",
   "metadata": {},
   "source": [
    "<h4>HITPARKEDCAR</h4>"
   ]
  },
  {
   "cell_type": "code",
   "execution_count": 52,
   "metadata": {},
   "outputs": [
    {
     "name": "stdout",
     "output_type": "stream",
     "text": [
      "NaN values:  0\n"
     ]
    },
    {
     "data": {
      "text/html": [
       "<div>\n",
       "<style scoped>\n",
       "    .dataframe tbody tr th:only-of-type {\n",
       "        vertical-align: middle;\n",
       "    }\n",
       "\n",
       "    .dataframe tbody tr th {\n",
       "        vertical-align: top;\n",
       "    }\n",
       "\n",
       "    .dataframe thead th {\n",
       "        text-align: right;\n",
       "    }\n",
       "</style>\n",
       "<table border=\"1\" class=\"dataframe\">\n",
       "  <thead>\n",
       "    <tr style=\"text-align: right;\">\n",
       "      <th></th>\n",
       "      <th>HITPARKEDCAR</th>\n",
       "    </tr>\n",
       "  </thead>\n",
       "  <tbody>\n",
       "    <tr>\n",
       "      <th>N</th>\n",
       "      <td>163397</td>\n",
       "    </tr>\n",
       "    <tr>\n",
       "      <th>Y</th>\n",
       "      <td>4460</td>\n",
       "    </tr>\n",
       "  </tbody>\n",
       "</table>\n",
       "</div>"
      ],
      "text/plain": [
       "   HITPARKEDCAR\n",
       "N        163397\n",
       "Y          4460"
      ]
     },
     "execution_count": 52,
     "metadata": {},
     "output_type": "execute_result"
    }
   ],
   "source": [
    "print(\"NaN values: \",df_p[df_p[\"HITPARKEDCAR\"].isnull()].shape[0])\n",
    "df_p[\"HITPARKEDCAR\"].value_counts().to_frame()"
   ]
  },
  {
   "cell_type": "code",
   "execution_count": 53,
   "metadata": {},
   "outputs": [
    {
     "data": {
      "image/png": "[encoded data removed]",
      "text/plain": [
       "<Figure size 360x360 with 1 Axes>"
      ]
     },
     "metadata": {
      "needs_background": "light"
     },
     "output_type": "display_data"
    }
   ],
   "source": [
    "# show relationship to severe accidents\n",
    "df_plt = df_p[df_p[\"SEVERITYCODE\"] == 2][[\"HITPARKEDCAR\",\"SEVERITYCODE\"]].groupby([\"HITPARKEDCAR\"]).count()\n",
    "df_plt.columns = [\"severe_count\"]\n",
    "df_plt[\"minor_count\"] = df_p[df_p[\"SEVERITYCODE\"] == 1][[\"HITPARKEDCAR\",\"SEVERITYCODE\"]].groupby([\"HITPARKEDCAR\"]).count()\n",
    "df_plt[\"severe%\"] = (df_plt[\"severe_count\"]/(df_plt[\"severe_count\"] + df_plt[\"minor_count\"]))*100\n",
    "df_plt[\"minor%\"] = (df_plt[\"minor_count\"]/(df_plt[\"severe_count\"] + df_plt[\"minor_count\"]))*100\n",
    "\n",
    "w = 0.65\n",
    "plt.figure(figsize=(5,5))\n",
    "ax1 = plt.bar(df_plt.index, df_plt[\"severe%\"], color=\"salmon\", width=w, label=\"Severe\")\n",
    "ax2 = plt.bar(df_plt.index, df_plt[\"minor%\"], color=\"#FFE4B5\", bottom=df_plt[\"severe%\"], width=w, label=\"Minor\")\n",
    "for i in range(0,2):\n",
    "    plt.plot(i, 100*df_p[\"SEVERITYCODE\"].value_counts()[2]/df_p.shape[0], color=\"black\", marker=\"x\")\n",
    "plt.ylabel(\"%Cases\")\n",
    "plt.xticks(df_plt.index)\n",
    "plt.title(\"Percentage of Severe and Minor Accidents When Parked Cars were Involved\")\n",
    "plt.legend(loc=\"best\")\n",
    "plt.ylim(0,120)\n",
    "plt.yticks(range(0,120,20))\n",
    "plt.savefig(\"weather_severe_minor_barchart.png\")\n",
    "plt.show()"
   ]
  },
  {
   "cell_type": "markdown",
   "metadata": {},
   "source": [
    "<p>Probability of severe accident is low if parked cars are hit</p>\n",
    "<p>Convert [\"Y\",\"N\"] to [1,0]</p>"
   ]
  },
  {
   "cell_type": "code",
   "execution_count": 54,
   "metadata": {},
   "outputs": [],
   "source": [
    "df_p[\"HITPARKEDCAR\"] = df_p[\"HITPARKEDCAR\"].replace([\"Y\",\"N\"], [1,0])"
   ]
  },
  {
   "cell_type": "markdown",
   "metadata": {},
   "source": [
    "<h4>SEGLANEKEY</h4>"
   ]
  },
  {
   "cell_type": "code",
   "execution_count": 55,
   "metadata": {},
   "outputs": [
    {
     "name": "stdout",
     "output_type": "stream",
     "text": [
      "NaN values:  0\n",
      "Total Rows:  167857\n"
     ]
    },
    {
     "data": {
      "text/html": [
       "<div>\n",
       "<style scoped>\n",
       "    .dataframe tbody tr th:only-of-type {\n",
       "        vertical-align: middle;\n",
       "    }\n",
       "\n",
       "    .dataframe tbody tr th {\n",
       "        vertical-align: top;\n",
       "    }\n",
       "\n",
       "    .dataframe thead th {\n",
       "        text-align: right;\n",
       "    }\n",
       "</style>\n",
       "<table border=\"1\" class=\"dataframe\">\n",
       "  <thead>\n",
       "    <tr style=\"text-align: right;\">\n",
       "      <th></th>\n",
       "      <th>SEGLANEKEY</th>\n",
       "    </tr>\n",
       "  </thead>\n",
       "  <tbody>\n",
       "    <tr>\n",
       "      <th>0</th>\n",
       "      <td>165223</td>\n",
       "    </tr>\n",
       "    <tr>\n",
       "      <th>6532</th>\n",
       "      <td>19</td>\n",
       "    </tr>\n",
       "    <tr>\n",
       "      <th>6078</th>\n",
       "      <td>16</td>\n",
       "    </tr>\n",
       "    <tr>\n",
       "      <th>12162</th>\n",
       "      <td>14</td>\n",
       "    </tr>\n",
       "    <tr>\n",
       "      <th>10336</th>\n",
       "      <td>14</td>\n",
       "    </tr>\n",
       "    <tr>\n",
       "      <th>...</th>\n",
       "      <td>...</td>\n",
       "    </tr>\n",
       "    <tr>\n",
       "      <th>37987</th>\n",
       "      <td>1</td>\n",
       "    </tr>\n",
       "    <tr>\n",
       "      <th>35157</th>\n",
       "      <td>1</td>\n",
       "    </tr>\n",
       "    <tr>\n",
       "      <th>10817</th>\n",
       "      <td>1</td>\n",
       "    </tr>\n",
       "    <tr>\n",
       "      <th>15043</th>\n",
       "      <td>1</td>\n",
       "    </tr>\n",
       "    <tr>\n",
       "      <th>16376</th>\n",
       "      <td>1</td>\n",
       "    </tr>\n",
       "  </tbody>\n",
       "</table>\n",
       "<p>1877 rows × 1 columns</p>\n",
       "</div>"
      ],
      "text/plain": [
       "       SEGLANEKEY\n",
       "0          165223\n",
       "6532           19\n",
       "6078           16\n",
       "12162          14\n",
       "10336          14\n",
       "...           ...\n",
       "37987           1\n",
       "35157           1\n",
       "10817           1\n",
       "15043           1\n",
       "16376           1\n",
       "\n",
       "[1877 rows x 1 columns]"
      ]
     },
     "execution_count": 55,
     "metadata": {},
     "output_type": "execute_result"
    }
   ],
   "source": [
    "print(\"NaN values: \", df_p[df_p[\"SEGLANEKEY\"].isnull()].shape[0])\n",
    "print(\"Total Rows: \", df_p[\"SEGLANEKEY\"].shape[0])\n",
    "df_p[\"SEGLANEKEY\"].value_counts().to_frame()"
   ]
  },
  {
   "cell_type": "markdown",
   "metadata": {},
   "source": [
    "<p>Since there are very few observations > 0 we will convert all of them into 1</p>"
   ]
  },
  {
   "cell_type": "code",
   "execution_count": 56,
   "metadata": {},
   "outputs": [
    {
     "data": {
      "text/html": [
       "<div>\n",
       "<style scoped>\n",
       "    .dataframe tbody tr th:only-of-type {\n",
       "        vertical-align: middle;\n",
       "    }\n",
       "\n",
       "    .dataframe tbody tr th {\n",
       "        vertical-align: top;\n",
       "    }\n",
       "\n",
       "    .dataframe thead th {\n",
       "        text-align: right;\n",
       "    }\n",
       "</style>\n",
       "<table border=\"1\" class=\"dataframe\">\n",
       "  <thead>\n",
       "    <tr style=\"text-align: right;\">\n",
       "      <th></th>\n",
       "      <th>SEGLANEKEY</th>\n",
       "    </tr>\n",
       "  </thead>\n",
       "  <tbody>\n",
       "    <tr>\n",
       "      <th>0</th>\n",
       "      <td>165223</td>\n",
       "    </tr>\n",
       "    <tr>\n",
       "      <th>1</th>\n",
       "      <td>2634</td>\n",
       "    </tr>\n",
       "  </tbody>\n",
       "</table>\n",
       "</div>"
      ],
      "text/plain": [
       "   SEGLANEKEY\n",
       "0      165223\n",
       "1        2634"
      ]
     },
     "execution_count": 56,
     "metadata": {},
     "output_type": "execute_result"
    }
   ],
   "source": [
    "df_p[\"SEGLANEKEY\"] = df_p[\"SEGLANEKEY\"].replace(pd.unique(df_p[\"SEGLANEKEY\"])[1:].tolist(), 1)\n",
    "df_p[\"SEGLANEKEY\"].value_counts().to_frame()"
   ]
  },
  {
   "cell_type": "code",
   "execution_count": 57,
   "metadata": {},
   "outputs": [
    {
     "data": {
      "image/png": "[encoded data removed]",
      "text/plain": [
       "<Figure size 360x360 with 1 Axes>"
      ]
     },
     "metadata": {
      "needs_background": "light"
     },
     "output_type": "display_data"
    }
   ],
   "source": [
    "# show relationship to severe accidents\n",
    "df_plt = df_p[df_p[\"SEVERITYCODE\"] == 2][[\"SEGLANEKEY\",\"SEVERITYCODE\"]].groupby([\"SEGLANEKEY\"]).count()\n",
    "df_plt.columns = [\"severe_count\"]\n",
    "df_plt[\"minor_count\"] = df_p[df_p[\"SEVERITYCODE\"] == 1][[\"SEGLANEKEY\",\"SEVERITYCODE\"]].groupby([\"SEGLANEKEY\"]).count()\n",
    "df_plt[\"severe%\"] = (df_plt[\"severe_count\"]/(df_plt[\"severe_count\"] + df_plt[\"minor_count\"]))*100\n",
    "df_plt[\"minor%\"] = (df_plt[\"minor_count\"]/(df_plt[\"severe_count\"] + df_plt[\"minor_count\"]))*100\n",
    "\n",
    "w = 0.65\n",
    "plt.figure(figsize=(5,5))\n",
    "ax1 = plt.bar(df_plt.index, df_plt[\"severe%\"], color=\"salmon\", width=w, label=\"Severe\")\n",
    "ax2 = plt.bar(df_plt.index, df_plt[\"minor%\"], color=\"#FFE4B5\", bottom=df_plt[\"severe%\"], width=w, label=\"Minor\")\n",
    "for i in range(0,2):\n",
    "    plt.plot(i, 100*df_p[\"SEVERITYCODE\"].value_counts()[2]/df_p.shape[0], color=\"black\", marker=\"x\")\n",
    "plt.ylabel(\"%Cases\")\n",
    "plt.xticks(df_plt.index)\n",
    "plt.title(\"Percentage of Severe and Minor Accidents For Segment Lanes\")\n",
    "plt.legend(loc=\"best\")\n",
    "plt.ylim(0,120)\n",
    "plt.yticks(range(0,120,20))\n",
    "plt.savefig(\"weather_severe_minor_barchart.png\")\n",
    "plt.show()"
   ]
  },
  {
   "cell_type": "markdown",
   "metadata": {},
   "source": [
    "<h4>CROSSWALKKEY</h4>"
   ]
  },
  {
   "cell_type": "code",
   "execution_count": 58,
   "metadata": {},
   "outputs": [
    {
     "name": "stdout",
     "output_type": "stream",
     "text": [
      "NaN values:  0\n",
      "Total Rows:  167857\n"
     ]
    },
    {
     "data": {
      "text/html": [
       "<div>\n",
       "<style scoped>\n",
       "    .dataframe tbody tr th:only-of-type {\n",
       "        vertical-align: middle;\n",
       "    }\n",
       "\n",
       "    .dataframe tbody tr th {\n",
       "        vertical-align: top;\n",
       "    }\n",
       "\n",
       "    .dataframe thead th {\n",
       "        text-align: right;\n",
       "    }\n",
       "</style>\n",
       "<table border=\"1\" class=\"dataframe\">\n",
       "  <thead>\n",
       "    <tr style=\"text-align: right;\">\n",
       "      <th></th>\n",
       "      <th>CROSSWALKKEY</th>\n",
       "    </tr>\n",
       "  </thead>\n",
       "  <tbody>\n",
       "    <tr>\n",
       "      <th>0</th>\n",
       "      <td>164262</td>\n",
       "    </tr>\n",
       "    <tr>\n",
       "      <th>523609</th>\n",
       "      <td>16</td>\n",
       "    </tr>\n",
       "    <tr>\n",
       "      <th>520838</th>\n",
       "      <td>14</td>\n",
       "    </tr>\n",
       "    <tr>\n",
       "      <th>525567</th>\n",
       "      <td>13</td>\n",
       "    </tr>\n",
       "    <tr>\n",
       "      <th>523699</th>\n",
       "      <td>10</td>\n",
       "    </tr>\n",
       "    <tr>\n",
       "      <th>...</th>\n",
       "      <td>...</td>\n",
       "    </tr>\n",
       "    <tr>\n",
       "      <th>577500</th>\n",
       "      <td>1</td>\n",
       "    </tr>\n",
       "    <tr>\n",
       "      <th>29000</th>\n",
       "      <td>1</td>\n",
       "    </tr>\n",
       "    <tr>\n",
       "      <th>522373</th>\n",
       "      <td>1</td>\n",
       "    </tr>\n",
       "    <tr>\n",
       "      <th>631282</th>\n",
       "      <td>1</td>\n",
       "    </tr>\n",
       "    <tr>\n",
       "      <th>522564</th>\n",
       "      <td>1</td>\n",
       "    </tr>\n",
       "  </tbody>\n",
       "</table>\n",
       "<p>2114 rows × 1 columns</p>\n",
       "</div>"
      ],
      "text/plain": [
       "        CROSSWALKKEY\n",
       "0             164262\n",
       "523609            16\n",
       "520838            14\n",
       "525567            13\n",
       "523699            10\n",
       "...              ...\n",
       "577500             1\n",
       "29000              1\n",
       "522373             1\n",
       "631282             1\n",
       "522564             1\n",
       "\n",
       "[2114 rows x 1 columns]"
      ]
     },
     "execution_count": 58,
     "metadata": {},
     "output_type": "execute_result"
    }
   ],
   "source": [
    "print(\"NaN values: \", df_p[df_p[\"CROSSWALKKEY\"].isnull()].shape[0])\n",
    "print(\"Total Rows: \", df_p[\"CROSSWALKKEY\"].shape[0])\n",
    "df_p[\"CROSSWALKKEY\"].value_counts().to_frame()"
   ]
  },
  {
   "cell_type": "markdown",
   "metadata": {},
   "source": [
    "<p>We will do the same as before</p>"
   ]
  },
  {
   "cell_type": "code",
   "execution_count": 59,
   "metadata": {},
   "outputs": [
    {
     "data": {
      "text/html": [
       "<div>\n",
       "<style scoped>\n",
       "    .dataframe tbody tr th:only-of-type {\n",
       "        vertical-align: middle;\n",
       "    }\n",
       "\n",
       "    .dataframe tbody tr th {\n",
       "        vertical-align: top;\n",
       "    }\n",
       "\n",
       "    .dataframe thead th {\n",
       "        text-align: right;\n",
       "    }\n",
       "</style>\n",
       "<table border=\"1\" class=\"dataframe\">\n",
       "  <thead>\n",
       "    <tr style=\"text-align: right;\">\n",
       "      <th></th>\n",
       "      <th>CROSSWALKKEY</th>\n",
       "    </tr>\n",
       "  </thead>\n",
       "  <tbody>\n",
       "    <tr>\n",
       "      <th>0</th>\n",
       "      <td>164262</td>\n",
       "    </tr>\n",
       "    <tr>\n",
       "      <th>1</th>\n",
       "      <td>3595</td>\n",
       "    </tr>\n",
       "  </tbody>\n",
       "</table>\n",
       "</div>"
      ],
      "text/plain": [
       "   CROSSWALKKEY\n",
       "0        164262\n",
       "1          3595"
      ]
     },
     "execution_count": 59,
     "metadata": {},
     "output_type": "execute_result"
    }
   ],
   "source": [
    "df_p[\"CROSSWALKKEY\"] = df_p[\"CROSSWALKKEY\"].replace(pd.unique(df_p[\"CROSSWALKKEY\"])[1:].tolist(), 1)\n",
    "df_p[\"CROSSWALKKEY\"].value_counts().to_frame()"
   ]
  },
  {
   "cell_type": "code",
   "execution_count": 60,
   "metadata": {},
   "outputs": [
    {
     "data": {
      "image/png": "[encoded data removed]",
      "text/plain": [
       "<Figure size 360x360 with 1 Axes>"
      ]
     },
     "metadata": {
      "needs_background": "light"
     },
     "output_type": "display_data"
    }
   ],
   "source": [
    "# show relationship to severe accidents\n",
    "df_plt = df_p[df_p[\"SEVERITYCODE\"] == 2][[\"CROSSWALKKEY\",\"SEVERITYCODE\"]].groupby([\"CROSSWALKKEY\"]).count()\n",
    "df_plt.columns = [\"severe_count\"]\n",
    "df_plt[\"minor_count\"] = df_p[df_p[\"SEVERITYCODE\"] == 1][[\"CROSSWALKKEY\",\"SEVERITYCODE\"]].groupby([\"CROSSWALKKEY\"]).count()\n",
    "df_plt[\"severe%\"] = (df_plt[\"severe_count\"]/(df_plt[\"severe_count\"] + df_plt[\"minor_count\"]))*100\n",
    "df_plt[\"minor%\"] = (df_plt[\"minor_count\"]/(df_plt[\"severe_count\"] + df_plt[\"minor_count\"]))*100\n",
    "\n",
    "w = 0.65\n",
    "plt.figure(figsize=(5,5))\n",
    "ax1 = plt.bar(df_plt.index, df_plt[\"severe%\"], color=\"salmon\", width=w, label=\"Severe\")\n",
    "ax2 = plt.bar(df_plt.index, df_plt[\"minor%\"], color=\"#FFE4B5\", bottom=df_plt[\"severe%\"], width=w, label=\"Minor\")\n",
    "for i in range(0,2):\n",
    "    plt.plot(i, 100*df_p[\"SEVERITYCODE\"].value_counts()[2]/df_p.shape[0], color=\"black\", marker=\"x\")\n",
    "plt.ylabel(\"%Cases\")\n",
    "plt.xticks(df_plt.index)\n",
    "plt.title(\"Percentage of Severe and Minor Accidents For Crosswalks\")\n",
    "plt.legend(loc=\"best\")\n",
    "plt.ylim(0,120)\n",
    "plt.yticks(range(0,120,20))\n",
    "plt.savefig(\"weather_severe_minor_barchart.png\")\n",
    "plt.show()"
   ]
  },
  {
   "cell_type": "markdown",
   "metadata": {},
   "source": [
    "<h4>PEDCYLCOUNT</h4>"
   ]
  },
  {
   "cell_type": "code",
   "execution_count": 61,
   "metadata": {},
   "outputs": [
    {
     "name": "stdout",
     "output_type": "stream",
     "text": [
      "NaN values:  0\n"
     ]
    },
    {
     "data": {
      "text/html": [
       "<div>\n",
       "<style scoped>\n",
       "    .dataframe tbody tr th:only-of-type {\n",
       "        vertical-align: middle;\n",
       "    }\n",
       "\n",
       "    .dataframe tbody tr th {\n",
       "        vertical-align: top;\n",
       "    }\n",
       "\n",
       "    .dataframe thead th {\n",
       "        text-align: right;\n",
       "    }\n",
       "</style>\n",
       "<table border=\"1\" class=\"dataframe\">\n",
       "  <thead>\n",
       "    <tr style=\"text-align: right;\">\n",
       "      <th></th>\n",
       "      <th>PEDCYLCOUNT</th>\n",
       "    </tr>\n",
       "  </thead>\n",
       "  <tbody>\n",
       "    <tr>\n",
       "      <th>0</th>\n",
       "      <td>162591</td>\n",
       "    </tr>\n",
       "    <tr>\n",
       "      <th>1</th>\n",
       "      <td>5225</td>\n",
       "    </tr>\n",
       "    <tr>\n",
       "      <th>2</th>\n",
       "      <td>41</td>\n",
       "    </tr>\n",
       "  </tbody>\n",
       "</table>\n",
       "</div>"
      ],
      "text/plain": [
       "   PEDCYLCOUNT\n",
       "0       162591\n",
       "1         5225\n",
       "2           41"
      ]
     },
     "execution_count": 61,
     "metadata": {},
     "output_type": "execute_result"
    }
   ],
   "source": [
    "print(\"NaN values: \",df_p[df_p[\"PEDCYLCOUNT\"].isnull()].shape[0])\n",
    "df_p[\"PEDCYLCOUNT\"].value_counts().to_frame()"
   ]
  },
  {
   "cell_type": "code",
   "execution_count": 62,
   "metadata": {},
   "outputs": [
    {
     "data": {
      "text/html": [
       "<div>\n",
       "<style scoped>\n",
       "    .dataframe tbody tr th:only-of-type {\n",
       "        vertical-align: middle;\n",
       "    }\n",
       "\n",
       "    .dataframe tbody tr th {\n",
       "        vertical-align: top;\n",
       "    }\n",
       "\n",
       "    .dataframe thead th {\n",
       "        text-align: right;\n",
       "    }\n",
       "</style>\n",
       "<table border=\"1\" class=\"dataframe\">\n",
       "  <thead>\n",
       "    <tr style=\"text-align: right;\">\n",
       "      <th></th>\n",
       "      <th>severe_count</th>\n",
       "      <th>minor_count</th>\n",
       "      <th>severe%</th>\n",
       "      <th>minor%</th>\n",
       "    </tr>\n",
       "    <tr>\n",
       "      <th>PEDCYLCOUNT</th>\n",
       "      <th></th>\n",
       "      <th></th>\n",
       "      <th></th>\n",
       "      <th></th>\n",
       "    </tr>\n",
       "  </thead>\n",
       "  <tbody>\n",
       "    <tr>\n",
       "      <th>0</th>\n",
       "      <td>50834</td>\n",
       "      <td>111757.0</td>\n",
       "      <td>31.264953</td>\n",
       "      <td>68.735047</td>\n",
       "    </tr>\n",
       "    <tr>\n",
       "      <th>1</th>\n",
       "      <td>4610</td>\n",
       "      <td>615.0</td>\n",
       "      <td>88.229665</td>\n",
       "      <td>11.770335</td>\n",
       "    </tr>\n",
       "    <tr>\n",
       "      <th>2</th>\n",
       "      <td>41</td>\n",
       "      <td>0.0</td>\n",
       "      <td>100.000000</td>\n",
       "      <td>0.000000</td>\n",
       "    </tr>\n",
       "  </tbody>\n",
       "</table>\n",
       "</div>"
      ],
      "text/plain": [
       "             severe_count  minor_count     severe%     minor%\n",
       "PEDCYLCOUNT                                                  \n",
       "0                   50834     111757.0   31.264953  68.735047\n",
       "1                    4610        615.0   88.229665  11.770335\n",
       "2                      41          0.0  100.000000   0.000000"
      ]
     },
     "execution_count": 62,
     "metadata": {},
     "output_type": "execute_result"
    }
   ],
   "source": [
    "# show relationship to severe accidents\n",
    "df_plt = df_p[df_p[\"SEVERITYCODE\"] == 2][[\"PEDCYLCOUNT\",\"SEVERITYCODE\"]].groupby([\"PEDCYLCOUNT\"]).count()\n",
    "df_plt.columns = [\"severe_count\"]\n",
    "df_plt[\"minor_count\"] = df_p[df_p[\"SEVERITYCODE\"] == 1][[\"PEDCYLCOUNT\",\"SEVERITYCODE\"]].groupby([\"PEDCYLCOUNT\"]).count()\n",
    "df_plt[\"minor_count\"] = df_plt[\"minor_count\"].replace(np.nan, 0)\n",
    "df_plt[\"severe%\"] = (df_plt[\"severe_count\"]/(df_plt[\"severe_count\"] + df_plt[\"minor_count\"]))*100\n",
    "df_plt[\"minor%\"] = (df_plt[\"minor_count\"]/(df_plt[\"severe_count\"] + df_plt[\"minor_count\"]))*100\n",
    "df_plt"
   ]
  },
  {
   "cell_type": "markdown",
   "metadata": {},
   "source": [
    "<p>From the above table we see that the values of 1, 2 have a high percentage of severe accidents which is almost identical. We can put them together so that we can turn this feature into binary.</p>"
   ]
  },
  {
   "cell_type": "code",
   "execution_count": 63,
   "metadata": {},
   "outputs": [
    {
     "data": {
      "image/png": "[encoded data removed]",
      "text/plain": [
       "<Figure size 360x360 with 1 Axes>"
      ]
     },
     "metadata": {
      "needs_background": "light"
     },
     "output_type": "display_data"
    }
   ],
   "source": [
    "df_p[\"PEDCYLCOUNT\"] = df_p[\"PEDCYLCOUNT\"].replace(2, 1)\n",
    "# show relationship to severe accidents\n",
    "df_plt = df_p[df_p[\"SEVERITYCODE\"] == 2][[\"PEDCYLCOUNT\",\"SEVERITYCODE\"]].groupby([\"PEDCYLCOUNT\"]).count()\n",
    "df_plt.columns = [\"severe_count\"]\n",
    "df_plt[\"minor_count\"] = df_p[df_p[\"SEVERITYCODE\"] == 1][[\"PEDCYLCOUNT\",\"SEVERITYCODE\"]].groupby([\"PEDCYLCOUNT\"]).count()\n",
    "df_plt[\"severe%\"] = (df_plt[\"severe_count\"]/(df_plt[\"severe_count\"] + df_plt[\"minor_count\"]))*100\n",
    "df_plt[\"minor%\"] = (df_plt[\"minor_count\"]/(df_plt[\"severe_count\"] + df_plt[\"minor_count\"]))*100\n",
    "\n",
    "w = 0.65\n",
    "plt.figure(figsize=(5,5))\n",
    "ax1 = plt.bar(df_plt.index, df_plt[\"severe%\"], color=\"salmon\", width=w, label=\"Severe\")\n",
    "ax2 = plt.bar(df_plt.index, df_plt[\"minor%\"], color=\"#FFE4B5\", bottom=df_plt[\"severe%\"], width=w, label=\"Minor\")\n",
    "for i in range(0,2):\n",
    "    plt.plot(i, 100*df_p[\"SEVERITYCODE\"].value_counts()[2]/df_p.shape[0], color=\"black\", marker=\"x\")\n",
    "plt.ylabel(\"%Cases\")\n",
    "plt.xticks(df_plt.index)\n",
    "plt.title(\"Percentage of Severe and Minor Accidents when bicycles were Involved\")\n",
    "plt.legend(loc=\"best\")\n",
    "plt.ylim(0,120)\n",
    "plt.yticks(range(0,120,20))\n",
    "plt.savefig(\"weather_severe_minor_barchart.png\")\n",
    "plt.show()"
   ]
  },
  {
   "cell_type": "markdown",
   "metadata": {},
   "source": [
    "<h4>PEDCOUNT</h4>"
   ]
  },
  {
   "cell_type": "code",
   "execution_count": 64,
   "metadata": {},
   "outputs": [
    {
     "name": "stdout",
     "output_type": "stream",
     "text": [
      "NaN values:  0\n"
     ]
    },
    {
     "data": {
      "text/html": [
       "<div>\n",
       "<style scoped>\n",
       "    .dataframe tbody tr th:only-of-type {\n",
       "        vertical-align: middle;\n",
       "    }\n",
       "\n",
       "    .dataframe tbody tr th {\n",
       "        vertical-align: top;\n",
       "    }\n",
       "\n",
       "    .dataframe thead th {\n",
       "        text-align: right;\n",
       "    }\n",
       "</style>\n",
       "<table border=\"1\" class=\"dataframe\">\n",
       "  <thead>\n",
       "    <tr style=\"text-align: right;\">\n",
       "      <th></th>\n",
       "      <th>PEDCOUNT</th>\n",
       "    </tr>\n",
       "  </thead>\n",
       "  <tbody>\n",
       "    <tr>\n",
       "      <th>0</th>\n",
       "      <td>161264</td>\n",
       "    </tr>\n",
       "    <tr>\n",
       "      <th>1</th>\n",
       "      <td>6344</td>\n",
       "    </tr>\n",
       "    <tr>\n",
       "      <th>2</th>\n",
       "      <td>221</td>\n",
       "    </tr>\n",
       "    <tr>\n",
       "      <th>3</th>\n",
       "      <td>22</td>\n",
       "    </tr>\n",
       "    <tr>\n",
       "      <th>4</th>\n",
       "      <td>4</td>\n",
       "    </tr>\n",
       "    <tr>\n",
       "      <th>6</th>\n",
       "      <td>1</td>\n",
       "    </tr>\n",
       "    <tr>\n",
       "      <th>5</th>\n",
       "      <td>1</td>\n",
       "    </tr>\n",
       "  </tbody>\n",
       "</table>\n",
       "</div>"
      ],
      "text/plain": [
       "   PEDCOUNT\n",
       "0    161264\n",
       "1      6344\n",
       "2       221\n",
       "3        22\n",
       "4         4\n",
       "6         1\n",
       "5         1"
      ]
     },
     "execution_count": 64,
     "metadata": {},
     "output_type": "execute_result"
    }
   ],
   "source": [
    "print(\"NaN values: \",df_p[df_p[\"PEDCOUNT\"].isnull()].shape[0])\n",
    "df_p[\"PEDCOUNT\"].value_counts().to_frame()"
   ]
  },
  {
   "cell_type": "code",
   "execution_count": 65,
   "metadata": {},
   "outputs": [
    {
     "data": {
      "text/html": [
       "<div>\n",
       "<style scoped>\n",
       "    .dataframe tbody tr th:only-of-type {\n",
       "        vertical-align: middle;\n",
       "    }\n",
       "\n",
       "    .dataframe tbody tr th {\n",
       "        vertical-align: top;\n",
       "    }\n",
       "\n",
       "    .dataframe thead th {\n",
       "        text-align: right;\n",
       "    }\n",
       "</style>\n",
       "<table border=\"1\" class=\"dataframe\">\n",
       "  <thead>\n",
       "    <tr style=\"text-align: right;\">\n",
       "      <th></th>\n",
       "      <th>severe_count</th>\n",
       "      <th>minor_count</th>\n",
       "      <th>severe%</th>\n",
       "      <th>minor%</th>\n",
       "    </tr>\n",
       "    <tr>\n",
       "      <th>PEDCOUNT</th>\n",
       "      <th></th>\n",
       "      <th></th>\n",
       "      <th></th>\n",
       "      <th></th>\n",
       "    </tr>\n",
       "  </thead>\n",
       "  <tbody>\n",
       "    <tr>\n",
       "      <th>0</th>\n",
       "      <td>49548</td>\n",
       "      <td>111716.0</td>\n",
       "      <td>30.724774</td>\n",
       "      <td>69.275226</td>\n",
       "    </tr>\n",
       "    <tr>\n",
       "      <th>1</th>\n",
       "      <td>5707</td>\n",
       "      <td>637.0</td>\n",
       "      <td>89.959016</td>\n",
       "      <td>10.040984</td>\n",
       "    </tr>\n",
       "    <tr>\n",
       "      <th>2</th>\n",
       "      <td>203</td>\n",
       "      <td>18.0</td>\n",
       "      <td>91.855204</td>\n",
       "      <td>8.144796</td>\n",
       "    </tr>\n",
       "    <tr>\n",
       "      <th>3</th>\n",
       "      <td>21</td>\n",
       "      <td>1.0</td>\n",
       "      <td>95.454545</td>\n",
       "      <td>4.545455</td>\n",
       "    </tr>\n",
       "    <tr>\n",
       "      <th>4</th>\n",
       "      <td>4</td>\n",
       "      <td>0.0</td>\n",
       "      <td>100.000000</td>\n",
       "      <td>0.000000</td>\n",
       "    </tr>\n",
       "    <tr>\n",
       "      <th>5</th>\n",
       "      <td>1</td>\n",
       "      <td>0.0</td>\n",
       "      <td>100.000000</td>\n",
       "      <td>0.000000</td>\n",
       "    </tr>\n",
       "    <tr>\n",
       "      <th>6</th>\n",
       "      <td>1</td>\n",
       "      <td>0.0</td>\n",
       "      <td>100.000000</td>\n",
       "      <td>0.000000</td>\n",
       "    </tr>\n",
       "  </tbody>\n",
       "</table>\n",
       "</div>"
      ],
      "text/plain": [
       "          severe_count  minor_count     severe%     minor%\n",
       "PEDCOUNT                                                  \n",
       "0                49548     111716.0   30.724774  69.275226\n",
       "1                 5707        637.0   89.959016  10.040984\n",
       "2                  203         18.0   91.855204   8.144796\n",
       "3                   21          1.0   95.454545   4.545455\n",
       "4                    4          0.0  100.000000   0.000000\n",
       "5                    1          0.0  100.000000   0.000000\n",
       "6                    1          0.0  100.000000   0.000000"
      ]
     },
     "execution_count": 65,
     "metadata": {},
     "output_type": "execute_result"
    }
   ],
   "source": [
    "# show relationship to severe accidents\n",
    "df_plt = df_p[df_p[\"SEVERITYCODE\"] == 2][[\"PEDCOUNT\",\"SEVERITYCODE\"]].groupby([\"PEDCOUNT\"]).count()\n",
    "df_plt.columns = [\"severe_count\"]\n",
    "df_plt[\"minor_count\"] = df_p[df_p[\"SEVERITYCODE\"] == 1][[\"PEDCOUNT\",\"SEVERITYCODE\"]].groupby([\"PEDCOUNT\"]).count()\n",
    "df_plt[\"minor_count\"] = df_plt[\"minor_count\"].replace(np.nan, 0)\n",
    "df_plt[\"severe%\"] = (df_plt[\"severe_count\"]/(df_plt[\"severe_count\"] + df_plt[\"minor_count\"]))*100\n",
    "df_plt[\"minor%\"] = (df_plt[\"minor_count\"]/(df_plt[\"severe_count\"] + df_plt[\"minor_count\"]))*100\n",
    "df_plt"
   ]
  },
  {
   "cell_type": "markdown",
   "metadata": {},
   "source": [
    "<p>It's obvious that when there where pedestrians involved the severity was very high. We can put together all values not equal to 0 in order to turn this into a binary feature.</p>"
   ]
  },
  {
   "cell_type": "code",
   "execution_count": 66,
   "metadata": {},
   "outputs": [
    {
     "data": {
      "image/png": "[encoded data removed]",
      "text/plain": [
       "<Figure size 360x360 with 1 Axes>"
      ]
     },
     "metadata": {
      "needs_background": "light"
     },
     "output_type": "display_data"
    }
   ],
   "source": [
    "df_p[\"PEDCOUNT\"] = df_p[\"PEDCOUNT\"].replace([2,3,4,5,6], 1)\n",
    "\n",
    "# show relationship to severe accidents\n",
    "df_plt = df_p[df_p[\"SEVERITYCODE\"] == 2][[\"PEDCOUNT\",\"SEVERITYCODE\"]].groupby([\"PEDCOUNT\"]).count()\n",
    "df_plt.columns = [\"severe_count\"]\n",
    "df_plt[\"minor_count\"] = df_p[df_p[\"SEVERITYCODE\"] == 1][[\"PEDCOUNT\",\"SEVERITYCODE\"]].groupby([\"PEDCOUNT\"]).count()\n",
    "df_plt[\"severe%\"] = (df_plt[\"severe_count\"]/(df_plt[\"severe_count\"] + df_plt[\"minor_count\"]))*100\n",
    "df_plt[\"minor%\"] = (df_plt[\"minor_count\"]/(df_plt[\"severe_count\"] + df_plt[\"minor_count\"]))*100\n",
    "\n",
    "w = 0.65\n",
    "plt.figure(figsize=(5,5))\n",
    "ax1 = plt.bar(df_plt.index, df_plt[\"severe%\"], color=\"salmon\", width=w, label=\"Severe\")\n",
    "ax2 = plt.bar(df_plt.index, df_plt[\"minor%\"], color=\"#FFE4B5\", bottom=df_plt[\"severe%\"], width=w, label=\"Minor\")\n",
    "for i in range(0,2):\n",
    "    plt.plot(i, 100*df_p[\"SEVERITYCODE\"].value_counts()[2]/df_p.shape[0], color=\"black\", marker=\"x\")\n",
    "plt.ylabel(\"%Cases\")\n",
    "plt.xticks(df_plt.index)\n",
    "plt.title(\"Percentage of Severe and Minor Accidents when Pedestrians were Involved\")\n",
    "plt.legend(loc=\"best\")\n",
    "plt.ylim(0,120)\n",
    "plt.yticks(range(0,120,20))\n",
    "plt.savefig(\"weather_severe_minor_barchart.png\")\n",
    "plt.show()"
   ]
  },
  {
   "cell_type": "markdown",
   "metadata": {},
   "source": [
    "<h4>VEHCOUNT</h4>"
   ]
  },
  {
   "cell_type": "code",
   "execution_count": 67,
   "metadata": {},
   "outputs": [
    {
     "name": "stdout",
     "output_type": "stream",
     "text": [
      "NaN values:  0\n"
     ]
    },
    {
     "data": {
      "text/html": [
       "<div>\n",
       "<style scoped>\n",
       "    .dataframe tbody tr th:only-of-type {\n",
       "        vertical-align: middle;\n",
       "    }\n",
       "\n",
       "    .dataframe tbody tr th {\n",
       "        vertical-align: top;\n",
       "    }\n",
       "\n",
       "    .dataframe thead th {\n",
       "        text-align: right;\n",
       "    }\n",
       "</style>\n",
       "<table border=\"1\" class=\"dataframe\">\n",
       "  <thead>\n",
       "    <tr style=\"text-align: right;\">\n",
       "      <th></th>\n",
       "      <th>VEHCOUNT</th>\n",
       "    </tr>\n",
       "  </thead>\n",
       "  <tbody>\n",
       "    <tr>\n",
       "      <th>2</th>\n",
       "      <td>127917</td>\n",
       "    </tr>\n",
       "    <tr>\n",
       "      <th>1</th>\n",
       "      <td>24147</td>\n",
       "    </tr>\n",
       "    <tr>\n",
       "      <th>3</th>\n",
       "      <td>12512</td>\n",
       "    </tr>\n",
       "    <tr>\n",
       "      <th>4</th>\n",
       "      <td>2354</td>\n",
       "    </tr>\n",
       "    <tr>\n",
       "      <th>5</th>\n",
       "      <td>517</td>\n",
       "    </tr>\n",
       "    <tr>\n",
       "      <th>0</th>\n",
       "      <td>191</td>\n",
       "    </tr>\n",
       "    <tr>\n",
       "      <th>6</th>\n",
       "      <td>141</td>\n",
       "    </tr>\n",
       "    <tr>\n",
       "      <th>7</th>\n",
       "      <td>45</td>\n",
       "    </tr>\n",
       "    <tr>\n",
       "      <th>8</th>\n",
       "      <td>15</td>\n",
       "    </tr>\n",
       "    <tr>\n",
       "      <th>9</th>\n",
       "      <td>9</td>\n",
       "    </tr>\n",
       "    <tr>\n",
       "      <th>11</th>\n",
       "      <td>6</td>\n",
       "    </tr>\n",
       "    <tr>\n",
       "      <th>10</th>\n",
       "      <td>2</td>\n",
       "    </tr>\n",
       "    <tr>\n",
       "      <th>12</th>\n",
       "      <td>1</td>\n",
       "    </tr>\n",
       "  </tbody>\n",
       "</table>\n",
       "</div>"
      ],
      "text/plain": [
       "    VEHCOUNT\n",
       "2     127917\n",
       "1      24147\n",
       "3      12512\n",
       "4       2354\n",
       "5        517\n",
       "0        191\n",
       "6        141\n",
       "7         45\n",
       "8         15\n",
       "9          9\n",
       "11         6\n",
       "10         2\n",
       "12         1"
      ]
     },
     "execution_count": 67,
     "metadata": {},
     "output_type": "execute_result"
    }
   ],
   "source": [
    "print(\"NaN values: \",df_p[df_p[\"VEHCOUNT\"].isnull()].shape[0])\n",
    "df_p[\"VEHCOUNT\"].value_counts().to_frame()"
   ]
  },
  {
   "cell_type": "code",
   "execution_count": 68,
   "metadata": {},
   "outputs": [
    {
     "data": {
      "text/html": [
       "<div>\n",
       "<style scoped>\n",
       "    .dataframe tbody tr th:only-of-type {\n",
       "        vertical-align: middle;\n",
       "    }\n",
       "\n",
       "    .dataframe tbody tr th {\n",
       "        vertical-align: top;\n",
       "    }\n",
       "\n",
       "    .dataframe thead th {\n",
       "        text-align: right;\n",
       "    }\n",
       "</style>\n",
       "<table border=\"1\" class=\"dataframe\">\n",
       "  <thead>\n",
       "    <tr style=\"text-align: right;\">\n",
       "      <th></th>\n",
       "      <th>severe_count</th>\n",
       "      <th>minor_count</th>\n",
       "      <th>severe%</th>\n",
       "      <th>minor%</th>\n",
       "    </tr>\n",
       "    <tr>\n",
       "      <th>VEHCOUNT</th>\n",
       "      <th></th>\n",
       "      <th></th>\n",
       "      <th></th>\n",
       "      <th></th>\n",
       "    </tr>\n",
       "  </thead>\n",
       "  <tbody>\n",
       "    <tr>\n",
       "      <th>0</th>\n",
       "      <td>188</td>\n",
       "      <td>3.0</td>\n",
       "      <td>98.429319</td>\n",
       "      <td>1.570681</td>\n",
       "    </tr>\n",
       "    <tr>\n",
       "      <th>1</th>\n",
       "      <td>13532</td>\n",
       "      <td>10615.0</td>\n",
       "      <td>56.040088</td>\n",
       "      <td>43.959912</td>\n",
       "    </tr>\n",
       "    <tr>\n",
       "      <th>2</th>\n",
       "      <td>34961</td>\n",
       "      <td>92956.0</td>\n",
       "      <td>27.331004</td>\n",
       "      <td>72.668996</td>\n",
       "    </tr>\n",
       "    <tr>\n",
       "      <th>3</th>\n",
       "      <td>5382</td>\n",
       "      <td>7130.0</td>\n",
       "      <td>43.014706</td>\n",
       "      <td>56.985294</td>\n",
       "    </tr>\n",
       "    <tr>\n",
       "      <th>4</th>\n",
       "      <td>1066</td>\n",
       "      <td>1288.0</td>\n",
       "      <td>45.284622</td>\n",
       "      <td>54.715378</td>\n",
       "    </tr>\n",
       "    <tr>\n",
       "      <th>5</th>\n",
       "      <td>259</td>\n",
       "      <td>258.0</td>\n",
       "      <td>50.096712</td>\n",
       "      <td>49.903288</td>\n",
       "    </tr>\n",
       "    <tr>\n",
       "      <th>6</th>\n",
       "      <td>59</td>\n",
       "      <td>82.0</td>\n",
       "      <td>41.843972</td>\n",
       "      <td>58.156028</td>\n",
       "    </tr>\n",
       "    <tr>\n",
       "      <th>7</th>\n",
       "      <td>22</td>\n",
       "      <td>23.0</td>\n",
       "      <td>48.888889</td>\n",
       "      <td>51.111111</td>\n",
       "    </tr>\n",
       "    <tr>\n",
       "      <th>8</th>\n",
       "      <td>5</td>\n",
       "      <td>10.0</td>\n",
       "      <td>33.333333</td>\n",
       "      <td>66.666667</td>\n",
       "    </tr>\n",
       "    <tr>\n",
       "      <th>9</th>\n",
       "      <td>6</td>\n",
       "      <td>3.0</td>\n",
       "      <td>66.666667</td>\n",
       "      <td>33.333333</td>\n",
       "    </tr>\n",
       "    <tr>\n",
       "      <th>10</th>\n",
       "      <td>2</td>\n",
       "      <td>0.0</td>\n",
       "      <td>100.000000</td>\n",
       "      <td>0.000000</td>\n",
       "    </tr>\n",
       "    <tr>\n",
       "      <th>11</th>\n",
       "      <td>3</td>\n",
       "      <td>3.0</td>\n",
       "      <td>50.000000</td>\n",
       "      <td>50.000000</td>\n",
       "    </tr>\n",
       "  </tbody>\n",
       "</table>\n",
       "</div>"
      ],
      "text/plain": [
       "          severe_count  minor_count     severe%     minor%\n",
       "VEHCOUNT                                                  \n",
       "0                  188          3.0   98.429319   1.570681\n",
       "1                13532      10615.0   56.040088  43.959912\n",
       "2                34961      92956.0   27.331004  72.668996\n",
       "3                 5382       7130.0   43.014706  56.985294\n",
       "4                 1066       1288.0   45.284622  54.715378\n",
       "5                  259        258.0   50.096712  49.903288\n",
       "6                   59         82.0   41.843972  58.156028\n",
       "7                   22         23.0   48.888889  51.111111\n",
       "8                    5         10.0   33.333333  66.666667\n",
       "9                    6          3.0   66.666667  33.333333\n",
       "10                   2          0.0  100.000000   0.000000\n",
       "11                   3          3.0   50.000000  50.000000"
      ]
     },
     "execution_count": 68,
     "metadata": {},
     "output_type": "execute_result"
    }
   ],
   "source": [
    "# show relationship to severe accidents\n",
    "df_plt = df_p[df_p[\"SEVERITYCODE\"] == 2][[\"VEHCOUNT\",\"SEVERITYCODE\"]].groupby([\"VEHCOUNT\"]).count()\n",
    "df_plt.columns = [\"severe_count\"]\n",
    "df_plt[\"minor_count\"] = df_p[df_p[\"SEVERITYCODE\"] == 1][[\"VEHCOUNT\",\"SEVERITYCODE\"]].groupby([\"VEHCOUNT\"]).count()\n",
    "df_plt[\"minor_count\"] = df_plt[\"minor_count\"].replace(np.nan, 0)\n",
    "df_plt[\"severe%\"] = (df_plt[\"severe_count\"]/(df_plt[\"severe_count\"] + df_plt[\"minor_count\"]))*100\n",
    "df_plt[\"minor%\"] = (df_plt[\"minor_count\"]/(df_plt[\"severe_count\"] + df_plt[\"minor_count\"]))*100\n",
    "df_plt"
   ]
  },
  {
   "cell_type": "markdown",
   "metadata": {},
   "source": [
    "<p>We can create 3 categories instead, for category 0 we will have the cases where vehicles involved were either none or just 1, category 1 will have all cases where vehicles were 2 and category 3 will mean that vehicles count was greater than 2. This is done because of the similarity of the values = [0,1] and [3,4,5,...]. </p>"
   ]
  },
  {
   "cell_type": "code",
   "execution_count": 69,
   "metadata": {},
   "outputs": [
    {
     "data": {
      "image/png": "[encoded data removed]",
      "text/plain": [
       "<Figure size 864x432 with 1 Axes>"
      ]
     },
     "metadata": {
      "needs_background": "light"
     },
     "output_type": "display_data"
    }
   ],
   "source": [
    "df_p[\"VEHCOUNT\"] = df_p[\"VEHCOUNT\"].replace(1, 0)\n",
    "df_p[\"VEHCOUNT\"] = df_p[\"VEHCOUNT\"].replace(2, 1)\n",
    "df_p[\"VEHCOUNT\"] = df_p[\"VEHCOUNT\"].replace([3,4,5,6,7,8,9,10,11], 2)\n",
    "\n",
    "# show relationship to severe accidents\n",
    "df_plt = df_p[df_p[\"SEVERITYCODE\"] == 2][[\"VEHCOUNT\",\"SEVERITYCODE\"]].groupby([\"VEHCOUNT\"]).count()\n",
    "df_plt.columns = [\"severe_count\"]\n",
    "df_plt[\"minor_count\"] = df_p[df_p[\"SEVERITYCODE\"] == 1][[\"VEHCOUNT\",\"SEVERITYCODE\"]].groupby([\"VEHCOUNT\"]).count()\n",
    "df_plt[\"severe%\"] = (df_plt[\"severe_count\"]/(df_plt[\"severe_count\"] + df_plt[\"minor_count\"]))*100\n",
    "df_plt[\"minor%\"] = (df_plt[\"minor_count\"]/(df_plt[\"severe_count\"] + df_plt[\"minor_count\"]))*100\n",
    "df_plt.sort_values(by=[\"severe%\"], ascending=False, inplace=True)\n",
    "\n",
    "w = 0.35\n",
    "plt.figure(figsize=(12,6))\n",
    "ax1 = plt.bar(df_plt.index, df_plt[\"severe%\"], color=\"salmon\", width=w, label=\"Severe\")\n",
    "ax2 = plt.bar(df_plt.index, df_plt[\"minor%\"], color=\"#FFE4B5\", bottom=df_plt[\"severe%\"], width=w, label=\"Minor\")\n",
    "for i in range(0,3):\n",
    "    plt.plot(i, 100*df_p[\"SEVERITYCODE\"].value_counts()[2]/df_p.shape[0], color=\"black\", marker=\"x\")\n",
    "plt.ylabel(\"%Cases\")\n",
    "plt.xticks(df_plt.index, [\"No Vehicles/One Vehicle\", \"Two Vehicles\", \"Three or more Vehicles\"], rotation=\"vertical\")\n",
    "plt.title(\"Percentage of Severe and Minor Accidents Compared to the Number of Vehicles Involved\")\n",
    "plt.legend(loc=\"best\")\n",
    "plt.ylim(0,120)\n",
    "plt.yticks(range(0,120,20))\n",
    "plt.savefig(\"weather_severe_minor_barchart.png\")\n",
    "plt.show()"
   ]
  },
  {
   "cell_type": "markdown",
   "metadata": {},
   "source": [
    "<h4>Location</h4>"
   ]
  },
  {
   "cell_type": "code",
   "execution_count": 70,
   "metadata": {},
   "outputs": [
    {
     "name": "stdout",
     "output_type": "stream",
     "text": [
      "NaN values:  2654\n",
      "NaN values:  2654\n"
     ]
    }
   ],
   "source": [
    "print(\"NaN values: \",df_p[df_p[\"X\"].isnull()].shape[0])\n",
    "print(\"NaN values: \",df_p[df_p[\"Y\"].isnull()].shape[0])\n"
   ]
  },
  {
   "cell_type": "code",
   "execution_count": 71,
   "metadata": {},
   "outputs": [
    {
     "name": "stdout",
     "output_type": "stream",
     "text": [
      "NaN values:  0\n",
      "NaN values:  0\n"
     ]
    }
   ],
   "source": [
    "df_p.dropna(subset=[\"X\"], axis=0, inplace=True)\n",
    "print(\"NaN values: \",df_p[df_p[\"X\"].isnull()].shape[0])\n",
    "print(\"NaN values: \",df_p[df_p[\"Y\"].isnull()].shape[0])\n",
    "locmean = [df_p[\"Y\"].mean(), df_p[\"X\"].mean()]"
   ]
  },
  {
   "cell_type": "code",
   "execution_count": 72,
   "metadata": {},
   "outputs": [
    {
     "data": {
      "image/png": "[encoded data removed]",
      "text/plain": [
       "<Figure size 432x288 with 1 Axes>"
      ]
     },
     "metadata": {
      "needs_background": "light"
     },
     "output_type": "display_data"
    }
   ],
   "source": [
    "from sklearn.cluster import KMeans\n",
    "\n",
    "distance_mat = []\n",
    "\n",
    "for k in range(2, 15):\n",
    "    km = KMeans(init=\"k-means++\", n_clusters=k, n_init= 15)\n",
    "    km.fit(df_p[[\"X\",\"Y\"]])\n",
    "    distance_mat.append(km.inertia_)\n",
    "plt.plot(range(2,15), distance_mat)\n",
    "plt.plot(6, distance_mat[4], marker=\"x\", color=\"black\")\n",
    "plt.xlabel(\"k Value\")\n",
    "plt.xticks(range(2,15))\n",
    "plt.ylabel(\"Sum of Squared Distances\")\n",
    "plt.title(\"Elbow Criterion\")\n",
    "plt.show()"
   ]
  },
  {
   "cell_type": "code",
   "execution_count": 73,
   "metadata": {},
   "outputs": [],
   "source": [
    "km = KMeans(init=\"k-means++\", n_clusters=6, n_init=15)\n",
    "km.fit(df_p[[\"X\",\"Y\"]])\n",
    "df_p[\"LOCATIONCLUSTER\"] = km.labels_\n",
    "df_p.drop(columns=[\"X\",\"Y\"], inplace=True)"
   ]
  },
  {
   "cell_type": "code",
   "execution_count": 74,
   "metadata": {},
   "outputs": [
    {
     "data": {
      "text/html": [
       "<div style=\"width:100%;\"><div style=\"position:relative;width:100%;height:0;padding-bottom:60%;\"><span style=\"color:#565656\">Make this Notebook Trusted to load map: File -> Trust Notebook</span><iframe src=\"about:blank\" style=\"position:absolute;width:100%;height:100%;left:0;top:0;border:none !important;\" data-html=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 onload=\"this.contentDocument.open();this.contentDocument.write(atob(this.getAttribute('data-html')));this.contentDocument.close();\" allowfullscreen webkitallowfullscreen mozallowfullscreen></iframe></div></div>"
      ],
      "text/plain": [
       "<folium.folium.Map at 0x1e6b7906048>"
      ]
     },
     "execution_count": 74,
     "metadata": {},
     "output_type": "execute_result"
    }
   ],
   "source": [
    "mp = folium.Map(location=locmean, zoom_start=11)\n",
    "for i in range(6):\n",
    "    pt = folium.map.FeatureGroup()\n",
    "    pt.add_child(folium.features.CircleMarker([km.cluster_centers_[i][1],km.cluster_centers_[i][0]], radius=3, color=\"blue\", fill_color=\"blue\"))\n",
    "    mp.add_child(pt)\n",
    "mp"
   ]
  },
  {
   "cell_type": "code",
   "execution_count": 75,
   "metadata": {},
   "outputs": [
    {
     "data": {
      "image/png": "[encoded data removed]",
      "text/plain": [
       "<Figure size 864x432 with 1 Axes>"
      ]
     },
     "metadata": {
      "needs_background": "light"
     },
     "output_type": "display_data"
    }
   ],
   "source": [
    "# show relationship to severe accidents\n",
    "df_plt = df_p[df_p[\"SEVERITYCODE\"] == 2][[\"LOCATIONCLUSTER\",\"SEVERITYCODE\"]].groupby([\"LOCATIONCLUSTER\"]).count()\n",
    "df_plt.columns = [\"severe_count\"]\n",
    "df_plt[\"minor_count\"] = df_p[df_p[\"SEVERITYCODE\"] == 1][[\"LOCATIONCLUSTER\",\"SEVERITYCODE\"]].groupby([\"LOCATIONCLUSTER\"]).count()\n",
    "df_plt[\"severe%\"] = (df_plt[\"severe_count\"]/(df_plt[\"severe_count\"] + df_plt[\"minor_count\"]))*100\n",
    "df_plt[\"minor%\"] = (df_plt[\"minor_count\"]/(df_plt[\"severe_count\"] + df_plt[\"minor_count\"]))*100\n",
    "df_plt.sort_values(by=[\"severe%\"], ascending=False, inplace=True)\n",
    "\n",
    "\n",
    "w = 0.35\n",
    "plt.figure(figsize=(12,6))\n",
    "ax1 = plt.bar(df_plt.index, df_plt[\"severe%\"], color=\"salmon\", width=w, label=\"Severe\")\n",
    "ax2 = plt.bar(df_plt.index, df_plt[\"minor%\"], color=\"#FFE4B5\", bottom=df_plt[\"severe%\"], width=w, label=\"Minor\")\n",
    "for i in range(0,6):\n",
    "    plt.plot(i, 100*df_p[\"SEVERITYCODE\"].value_counts()[2]/df_p.shape[0], color=\"black\", marker=\"x\")\n",
    "plt.ylabel(\"%Cases\")\n",
    "plt.xticks(df_plt.index, rotation=\"vertical\")\n",
    "plt.title(\"Percentage of Severe and Minor Accidents Given the Location Clusters\")\n",
    "plt.legend(loc=\"best\")\n",
    "plt.ylim(0,120)\n",
    "plt.yticks(range(0,120,20))\n",
    "plt.savefig(\"weather_severe_minor_barchart.png\")\n",
    "plt.show()"
   ]
  },
  {
   "cell_type": "markdown",
   "metadata": {},
   "source": [
    "<h4>Balancing the Data</h4>\n",
    "<p>Lastly, we have to balance our data since our target data is consisted of ~67% of class 1 and ~33% of class 2</p>\n",
    "<p>To do that we will use down-sampling which means that we will take a random sample without replacement from the rows containing \"SEVERITYCODE\" = 1 values which will have the same size as the sum of all rows containing \"SEVERITYCODE\" = 2 values.</p>"
   ]
  },
  {
   "cell_type": "code",
   "execution_count": 76,
   "metadata": {},
   "outputs": [
    {
     "data": {
      "text/plain": [
       "1    0.668953\n",
       "2    0.331047\n",
       "Name: SEVERITYCODE, dtype: float64"
      ]
     },
     "execution_count": 76,
     "metadata": {},
     "output_type": "execute_result"
    }
   ],
   "source": [
    "df_p[\"SEVERITYCODE\"].value_counts()/df_p.shape[0]"
   ]
  },
  {
   "cell_type": "code",
   "execution_count": 77,
   "metadata": {},
   "outputs": [
    {
     "data": {
      "text/plain": [
       "2    54690\n",
       "1    54690\n",
       "Name: SEVERITYCODE, dtype: int64"
      ]
     },
     "execution_count": 77,
     "metadata": {},
     "output_type": "execute_result"
    }
   ],
   "source": [
    "df_bal = df_p[df_p[\"SEVERITYCODE\"]==1].sample(df_p[df_p[\"SEVERITYCODE\"]==2].shape[0])\n",
    "svr_2 = df_p[df_p[\"SEVERITYCODE\"]==2]\n",
    "df_bal = df_bal.append(svr_2, ignore_index=True)\n",
    "df_bal[\"SEVERITYCODE\"].value_counts()"
   ]
  },
  {
   "cell_type": "markdown",
   "metadata": {},
   "source": [
    "<h4>Feature Correlation</h4>\n",
    "<p>It is important to check the correlation between each feature and the target data. It is also interesting to see how each feature correlates with the rest of the features, two strongly correlated features would contain the same type of information which me one of them is obsolete</p>\n",
    "<p>Our features were all categorical therefore we can't use pearson's correlation coefficient. Instead we are going to use Cramer's V as our correlation metric, more information can be found <a href=\"https://en.wikipedia.org/wiki/Cram%C3%A9r%27s_V\">here</a>. We will define the function which calculates the coefficient bellow and then we will see the correlation table and a heatmap in order to visualize the results</p>"
   ]
  },
  {
   "cell_type": "code",
   "execution_count": 78,
   "metadata": {},
   "outputs": [
    {
     "data": {
      "text/html": [
       "<div>\n",
       "<style scoped>\n",
       "    .dataframe tbody tr th:only-of-type {\n",
       "        vertical-align: middle;\n",
       "    }\n",
       "\n",
       "    .dataframe tbody tr th {\n",
       "        vertical-align: top;\n",
       "    }\n",
       "\n",
       "    .dataframe thead th {\n",
       "        text-align: right;\n",
       "    }\n",
       "</style>\n",
       "<table border=\"1\" class=\"dataframe\">\n",
       "  <thead>\n",
       "    <tr style=\"text-align: right;\">\n",
       "      <th></th>\n",
       "      <th>SEVERITYCODE</th>\n",
       "      <th>WEATHER</th>\n",
       "      <th>SPEEDING</th>\n",
       "      <th>LIGHTCOND</th>\n",
       "      <th>ROADCOND</th>\n",
       "      <th>JUNCTIONTYPE</th>\n",
       "      <th>ADDRTYPE</th>\n",
       "      <th>INTKEY</th>\n",
       "      <th>PEDROWNOTGRNT</th>\n",
       "      <th>HITPARKEDCAR</th>\n",
       "      <th>SEGLANEKEY</th>\n",
       "      <th>CROSSWALKKEY</th>\n",
       "      <th>PEDCYLCOUNT</th>\n",
       "      <th>PEDCOUNT</th>\n",
       "      <th>VEHCOUNT</th>\n",
       "      <th>DAY</th>\n",
       "      <th>DAYOFWEEK</th>\n",
       "      <th>MONTH</th>\n",
       "      <th>HOUR</th>\n",
       "      <th>LOCATIONCLUSTER</th>\n",
       "    </tr>\n",
       "  </thead>\n",
       "  <tbody>\n",
       "    <tr>\n",
       "      <th>SEVERITYCODE</th>\n",
       "      <td>1.000000</td>\n",
       "      <td>0.020040</td>\n",
       "      <td>0.026660</td>\n",
       "      <td>0.037435</td>\n",
       "      <td>0.028274</td>\n",
       "      <td>0.186719</td>\n",
       "      <td>0.174428</td>\n",
       "      <td>0.297816</td>\n",
       "      <td>0.203360</td>\n",
       "      <td>0.085575</td>\n",
       "      <td>0.152393</td>\n",
       "      <td>0.177488</td>\n",
       "      <td>0.212266</td>\n",
       "      <td>0.245886</td>\n",
       "      <td>0.232022</td>\n",
       "      <td>0.015219</td>\n",
       "      <td>0.021258</td>\n",
       "      <td>0.023514</td>\n",
       "      <td>0.061298</td>\n",
       "      <td>0.043400</td>\n",
       "    </tr>\n",
       "    <tr>\n",
       "      <th>WEATHER</th>\n",
       "      <td>0.020040</td>\n",
       "      <td>1.000000</td>\n",
       "      <td>0.057463</td>\n",
       "      <td>0.033503</td>\n",
       "      <td>0.282858</td>\n",
       "      <td>0.011672</td>\n",
       "      <td>0.018691</td>\n",
       "      <td>0.211512</td>\n",
       "      <td>0.007949</td>\n",
       "      <td>0.014205</td>\n",
       "      <td>0.009921</td>\n",
       "      <td>0.006573</td>\n",
       "      <td>0.014779</td>\n",
       "      <td>0.005959</td>\n",
       "      <td>0.011228</td>\n",
       "      <td>0.023649</td>\n",
       "      <td>0.014183</td>\n",
       "      <td>0.054139</td>\n",
       "      <td>0.035360</td>\n",
       "      <td>0.011389</td>\n",
       "    </tr>\n",
       "    <tr>\n",
       "      <th>SPEEDING</th>\n",
       "      <td>0.026660</td>\n",
       "      <td>0.057463</td>\n",
       "      <td>1.000000</td>\n",
       "      <td>0.087903</td>\n",
       "      <td>0.159987</td>\n",
       "      <td>0.087093</td>\n",
       "      <td>0.069946</td>\n",
       "      <td>0.235505</td>\n",
       "      <td>0.031608</td>\n",
       "      <td>0.019343</td>\n",
       "      <td>0.015649</td>\n",
       "      <td>0.028933</td>\n",
       "      <td>0.023570</td>\n",
       "      <td>0.037707</td>\n",
       "      <td>0.151084</td>\n",
       "      <td>0.012711</td>\n",
       "      <td>0.039860</td>\n",
       "      <td>0.040571</td>\n",
       "      <td>0.099558</td>\n",
       "      <td>0.090877</td>\n",
       "    </tr>\n",
       "    <tr>\n",
       "      <th>LIGHTCOND</th>\n",
       "      <td>0.037435</td>\n",
       "      <td>0.033503</td>\n",
       "      <td>0.087903</td>\n",
       "      <td>1.000000</td>\n",
       "      <td>0.075714</td>\n",
       "      <td>0.035711</td>\n",
       "      <td>0.039345</td>\n",
       "      <td>0.217614</td>\n",
       "      <td>0.015770</td>\n",
       "      <td>0.040994</td>\n",
       "      <td>0.027858</td>\n",
       "      <td>0.018156</td>\n",
       "      <td>0.043775</td>\n",
       "      <td>0.026627</td>\n",
       "      <td>0.060869</td>\n",
       "      <td>0.015101</td>\n",
       "      <td>0.060396</td>\n",
       "      <td>0.107664</td>\n",
       "      <td>0.346512</td>\n",
       "      <td>0.027079</td>\n",
       "    </tr>\n",
       "    <tr>\n",
       "      <th>ROADCOND</th>\n",
       "      <td>0.028274</td>\n",
       "      <td>0.282858</td>\n",
       "      <td>0.159987</td>\n",
       "      <td>0.075714</td>\n",
       "      <td>1.000000</td>\n",
       "      <td>0.027397</td>\n",
       "      <td>0.047656</td>\n",
       "      <td>0.205794</td>\n",
       "      <td>0.017033</td>\n",
       "      <td>0.024410</td>\n",
       "      <td>0.030625</td>\n",
       "      <td>0.023459</td>\n",
       "      <td>0.043443</td>\n",
       "      <td>0.024054</td>\n",
       "      <td>0.037232</td>\n",
       "      <td>0.027493</td>\n",
       "      <td>0.014789</td>\n",
       "      <td>0.140920</td>\n",
       "      <td>0.045300</td>\n",
       "      <td>0.025791</td>\n",
       "    </tr>\n",
       "    <tr>\n",
       "      <th>JUNCTIONTYPE</th>\n",
       "      <td>0.186719</td>\n",
       "      <td>0.011672</td>\n",
       "      <td>0.087093</td>\n",
       "      <td>0.035711</td>\n",
       "      <td>0.027397</td>\n",
       "      <td>1.000000</td>\n",
       "      <td>0.999628</td>\n",
       "      <td>0.485691</td>\n",
       "      <td>0.160923</td>\n",
       "      <td>0.155353</td>\n",
       "      <td>0.053825</td>\n",
       "      <td>0.184265</td>\n",
       "      <td>0.096687</td>\n",
       "      <td>0.148661</td>\n",
       "      <td>0.074761</td>\n",
       "      <td>0.015923</td>\n",
       "      <td>0.014940</td>\n",
       "      <td>0.020710</td>\n",
       "      <td>0.050156</td>\n",
       "      <td>0.045708</td>\n",
       "    </tr>\n",
       "    <tr>\n",
       "      <th>ADDRTYPE</th>\n",
       "      <td>0.174428</td>\n",
       "      <td>0.018691</td>\n",
       "      <td>0.069946</td>\n",
       "      <td>0.039345</td>\n",
       "      <td>0.047656</td>\n",
       "      <td>0.999628</td>\n",
       "      <td>1.000000</td>\n",
       "      <td>1.000000</td>\n",
       "      <td>0.151226</td>\n",
       "      <td>0.117352</td>\n",
       "      <td>0.045706</td>\n",
       "      <td>0.180650</td>\n",
       "      <td>0.078118</td>\n",
       "      <td>0.142258</td>\n",
       "      <td>0.106552</td>\n",
       "      <td>0.014426</td>\n",
       "      <td>0.011991</td>\n",
       "      <td>0.023758</td>\n",
       "      <td>0.067221</td>\n",
       "      <td>0.073774</td>\n",
       "    </tr>\n",
       "    <tr>\n",
       "      <th>INTKEY</th>\n",
       "      <td>0.297816</td>\n",
       "      <td>0.211512</td>\n",
       "      <td>0.235505</td>\n",
       "      <td>0.217614</td>\n",
       "      <td>0.205794</td>\n",
       "      <td>0.485691</td>\n",
       "      <td>1.000000</td>\n",
       "      <td>1.000000</td>\n",
       "      <td>0.374064</td>\n",
       "      <td>0.163840</td>\n",
       "      <td>0.320874</td>\n",
       "      <td>0.408114</td>\n",
       "      <td>0.371903</td>\n",
       "      <td>0.357648</td>\n",
       "      <td>0.215618</td>\n",
       "      <td>0.210394</td>\n",
       "      <td>0.214524</td>\n",
       "      <td>0.212607</td>\n",
       "      <td>0.212681</td>\n",
       "      <td>0.599645</td>\n",
       "    </tr>\n",
       "    <tr>\n",
       "      <th>PEDROWNOTGRNT</th>\n",
       "      <td>0.203360</td>\n",
       "      <td>0.007949</td>\n",
       "      <td>0.031608</td>\n",
       "      <td>0.015770</td>\n",
       "      <td>0.017033</td>\n",
       "      <td>0.160923</td>\n",
       "      <td>0.151226</td>\n",
       "      <td>0.374064</td>\n",
       "      <td>1.000000</td>\n",
       "      <td>0.027624</td>\n",
       "      <td>0.241625</td>\n",
       "      <td>0.453672</td>\n",
       "      <td>0.327805</td>\n",
       "      <td>0.502331</td>\n",
       "      <td>0.405287</td>\n",
       "      <td>0.014200</td>\n",
       "      <td>0.033374</td>\n",
       "      <td>0.026311</td>\n",
       "      <td>0.051457</td>\n",
       "      <td>0.064314</td>\n",
       "    </tr>\n",
       "    <tr>\n",
       "      <th>HITPARKEDCAR</th>\n",
       "      <td>0.085575</td>\n",
       "      <td>0.014205</td>\n",
       "      <td>0.019343</td>\n",
       "      <td>0.040994</td>\n",
       "      <td>0.024410</td>\n",
       "      <td>0.155353</td>\n",
       "      <td>0.117352</td>\n",
       "      <td>0.163840</td>\n",
       "      <td>0.027624</td>\n",
       "      <td>1.000000</td>\n",
       "      <td>0.019203</td>\n",
       "      <td>0.024664</td>\n",
       "      <td>0.026807</td>\n",
       "      <td>0.031640</td>\n",
       "      <td>0.076293</td>\n",
       "      <td>0.015386</td>\n",
       "      <td>0.023287</td>\n",
       "      <td>0.012342</td>\n",
       "      <td>0.081829</td>\n",
       "      <td>0.031598</td>\n",
       "    </tr>\n",
       "    <tr>\n",
       "      <th>SEGLANEKEY</th>\n",
       "      <td>0.152393</td>\n",
       "      <td>0.009921</td>\n",
       "      <td>0.015649</td>\n",
       "      <td>0.027858</td>\n",
       "      <td>0.030625</td>\n",
       "      <td>0.053825</td>\n",
       "      <td>0.045706</td>\n",
       "      <td>0.320874</td>\n",
       "      <td>0.241625</td>\n",
       "      <td>0.019203</td>\n",
       "      <td>1.000000</td>\n",
       "      <td>0.008468</td>\n",
       "      <td>0.692673</td>\n",
       "      <td>0.013073</td>\n",
       "      <td>0.303562</td>\n",
       "      <td>0.013419</td>\n",
       "      <td>0.027400</td>\n",
       "      <td>0.032316</td>\n",
       "      <td>0.056612</td>\n",
       "      <td>0.065966</td>\n",
       "    </tr>\n",
       "    <tr>\n",
       "      <th>CROSSWALKKEY</th>\n",
       "      <td>0.177488</td>\n",
       "      <td>0.006573</td>\n",
       "      <td>0.028933</td>\n",
       "      <td>0.018156</td>\n",
       "      <td>0.023459</td>\n",
       "      <td>0.184265</td>\n",
       "      <td>0.180650</td>\n",
       "      <td>0.408114</td>\n",
       "      <td>0.453672</td>\n",
       "      <td>0.024664</td>\n",
       "      <td>0.008468</td>\n",
       "      <td>1.000000</td>\n",
       "      <td>0.115382</td>\n",
       "      <td>0.611286</td>\n",
       "      <td>0.362103</td>\n",
       "      <td>0.016317</td>\n",
       "      <td>0.021817</td>\n",
       "      <td>0.036163</td>\n",
       "      <td>0.053661</td>\n",
       "      <td>0.062205</td>\n",
       "    </tr>\n",
       "    <tr>\n",
       "      <th>PEDCYLCOUNT</th>\n",
       "      <td>0.212266</td>\n",
       "      <td>0.014779</td>\n",
       "      <td>0.023570</td>\n",
       "      <td>0.043775</td>\n",
       "      <td>0.043443</td>\n",
       "      <td>0.096687</td>\n",
       "      <td>0.078118</td>\n",
       "      <td>0.371903</td>\n",
       "      <td>0.327805</td>\n",
       "      <td>0.026807</td>\n",
       "      <td>0.692673</td>\n",
       "      <td>0.115382</td>\n",
       "      <td>1.000000</td>\n",
       "      <td>0.021317</td>\n",
       "      <td>0.436820</td>\n",
       "      <td>0.015223</td>\n",
       "      <td>0.035232</td>\n",
       "      <td>0.046681</td>\n",
       "      <td>0.068337</td>\n",
       "      <td>0.077390</td>\n",
       "    </tr>\n",
       "    <tr>\n",
       "      <th>PEDCOUNT</th>\n",
       "      <td>0.245886</td>\n",
       "      <td>0.005959</td>\n",
       "      <td>0.037707</td>\n",
       "      <td>0.026627</td>\n",
       "      <td>0.024054</td>\n",
       "      <td>0.148661</td>\n",
       "      <td>0.142258</td>\n",
       "      <td>0.357648</td>\n",
       "      <td>0.502331</td>\n",
       "      <td>0.031640</td>\n",
       "      <td>0.013073</td>\n",
       "      <td>0.611286</td>\n",
       "      <td>0.021317</td>\n",
       "      <td>1.000000</td>\n",
       "      <td>0.477406</td>\n",
       "      <td>0.015302</td>\n",
       "      <td>0.027420</td>\n",
       "      <td>0.046933</td>\n",
       "      <td>0.046193</td>\n",
       "      <td>0.068372</td>\n",
       "    </tr>\n",
       "    <tr>\n",
       "      <th>VEHCOUNT</th>\n",
       "      <td>0.232022</td>\n",
       "      <td>0.011228</td>\n",
       "      <td>0.151084</td>\n",
       "      <td>0.060869</td>\n",
       "      <td>0.037232</td>\n",
       "      <td>0.074761</td>\n",
       "      <td>0.106552</td>\n",
       "      <td>0.215618</td>\n",
       "      <td>0.405287</td>\n",
       "      <td>0.076293</td>\n",
       "      <td>0.303562</td>\n",
       "      <td>0.362103</td>\n",
       "      <td>0.436820</td>\n",
       "      <td>0.477406</td>\n",
       "      <td>1.000000</td>\n",
       "      <td>0.013607</td>\n",
       "      <td>0.011463</td>\n",
       "      <td>0.018418</td>\n",
       "      <td>0.075658</td>\n",
       "      <td>0.032596</td>\n",
       "    </tr>\n",
       "    <tr>\n",
       "      <th>DAY</th>\n",
       "      <td>0.015219</td>\n",
       "      <td>0.023649</td>\n",
       "      <td>0.012711</td>\n",
       "      <td>0.015101</td>\n",
       "      <td>0.027493</td>\n",
       "      <td>0.015923</td>\n",
       "      <td>0.014426</td>\n",
       "      <td>0.210394</td>\n",
       "      <td>0.014200</td>\n",
       "      <td>0.015386</td>\n",
       "      <td>0.013419</td>\n",
       "      <td>0.016317</td>\n",
       "      <td>0.015223</td>\n",
       "      <td>0.015302</td>\n",
       "      <td>0.013607</td>\n",
       "      <td>1.000000</td>\n",
       "      <td>0.025486</td>\n",
       "      <td>0.046250</td>\n",
       "      <td>0.116965</td>\n",
       "      <td>0.015289</td>\n",
       "    </tr>\n",
       "    <tr>\n",
       "      <th>DAYOFWEEK</th>\n",
       "      <td>0.021258</td>\n",
       "      <td>0.014183</td>\n",
       "      <td>0.039860</td>\n",
       "      <td>0.060396</td>\n",
       "      <td>0.014789</td>\n",
       "      <td>0.014940</td>\n",
       "      <td>0.011991</td>\n",
       "      <td>0.214524</td>\n",
       "      <td>0.033374</td>\n",
       "      <td>0.023287</td>\n",
       "      <td>0.027400</td>\n",
       "      <td>0.021817</td>\n",
       "      <td>0.035232</td>\n",
       "      <td>0.027420</td>\n",
       "      <td>0.011463</td>\n",
       "      <td>0.025486</td>\n",
       "      <td>1.000000</td>\n",
       "      <td>0.013463</td>\n",
       "      <td>0.091433</td>\n",
       "      <td>0.011932</td>\n",
       "    </tr>\n",
       "    <tr>\n",
       "      <th>MONTH</th>\n",
       "      <td>0.023514</td>\n",
       "      <td>0.054139</td>\n",
       "      <td>0.040571</td>\n",
       "      <td>0.107664</td>\n",
       "      <td>0.140920</td>\n",
       "      <td>0.020710</td>\n",
       "      <td>0.023758</td>\n",
       "      <td>0.212607</td>\n",
       "      <td>0.026311</td>\n",
       "      <td>0.012342</td>\n",
       "      <td>0.032316</td>\n",
       "      <td>0.036163</td>\n",
       "      <td>0.046681</td>\n",
       "      <td>0.046933</td>\n",
       "      <td>0.018418</td>\n",
       "      <td>0.046250</td>\n",
       "      <td>0.013463</td>\n",
       "      <td>1.000000</td>\n",
       "      <td>0.020986</td>\n",
       "      <td>0.012679</td>\n",
       "    </tr>\n",
       "    <tr>\n",
       "      <th>HOUR</th>\n",
       "      <td>0.061298</td>\n",
       "      <td>0.035360</td>\n",
       "      <td>0.099558</td>\n",
       "      <td>0.346512</td>\n",
       "      <td>0.045300</td>\n",
       "      <td>0.050156</td>\n",
       "      <td>0.067221</td>\n",
       "      <td>0.212681</td>\n",
       "      <td>0.051457</td>\n",
       "      <td>0.081829</td>\n",
       "      <td>0.056612</td>\n",
       "      <td>0.053661</td>\n",
       "      <td>0.068337</td>\n",
       "      <td>0.046193</td>\n",
       "      <td>0.075658</td>\n",
       "      <td>0.116965</td>\n",
       "      <td>0.091433</td>\n",
       "      <td>0.020986</td>\n",
       "      <td>1.000000</td>\n",
       "      <td>0.044202</td>\n",
       "    </tr>\n",
       "    <tr>\n",
       "      <th>LOCATIONCLUSTER</th>\n",
       "      <td>0.043400</td>\n",
       "      <td>0.011389</td>\n",
       "      <td>0.090877</td>\n",
       "      <td>0.027079</td>\n",
       "      <td>0.025791</td>\n",
       "      <td>0.045708</td>\n",
       "      <td>0.073774</td>\n",
       "      <td>0.599645</td>\n",
       "      <td>0.064314</td>\n",
       "      <td>0.031598</td>\n",
       "      <td>0.065966</td>\n",
       "      <td>0.062205</td>\n",
       "      <td>0.077390</td>\n",
       "      <td>0.068372</td>\n",
       "      <td>0.032596</td>\n",
       "      <td>0.015289</td>\n",
       "      <td>0.011932</td>\n",
       "      <td>0.012679</td>\n",
       "      <td>0.044202</td>\n",
       "      <td>1.000000</td>\n",
       "    </tr>\n",
       "  </tbody>\n",
       "</table>\n",
       "</div>"
      ],
      "text/plain": [
       "                 SEVERITYCODE   WEATHER  SPEEDING  LIGHTCOND  ROADCOND  \\\n",
       "SEVERITYCODE         1.000000  0.020040  0.026660   0.037435  0.028274   \n",
       "WEATHER              0.020040  1.000000  0.057463   0.033503  0.282858   \n",
       "SPEEDING             0.026660  0.057463  1.000000   0.087903  0.159987   \n",
       "LIGHTCOND            0.037435  0.033503  0.087903   1.000000  0.075714   \n",
       "ROADCOND             0.028274  0.282858  0.159987   0.075714  1.000000   \n",
       "JUNCTIONTYPE         0.186719  0.011672  0.087093   0.035711  0.027397   \n",
       "ADDRTYPE             0.174428  0.018691  0.069946   0.039345  0.047656   \n",
       "INTKEY               0.297816  0.211512  0.235505   0.217614  0.205794   \n",
       "PEDROWNOTGRNT        0.203360  0.007949  0.031608   0.015770  0.017033   \n",
       "HITPARKEDCAR         0.085575  0.014205  0.019343   0.040994  0.024410   \n",
       "SEGLANEKEY           0.152393  0.009921  0.015649   0.027858  0.030625   \n",
       "CROSSWALKKEY         0.177488  0.006573  0.028933   0.018156  0.023459   \n",
       "PEDCYLCOUNT          0.212266  0.014779  0.023570   0.043775  0.043443   \n",
       "PEDCOUNT             0.245886  0.005959  0.037707   0.026627  0.024054   \n",
       "VEHCOUNT             0.232022  0.011228  0.151084   0.060869  0.037232   \n",
       "DAY                  0.015219  0.023649  0.012711   0.015101  0.027493   \n",
       "DAYOFWEEK            0.021258  0.014183  0.039860   0.060396  0.014789   \n",
       "MONTH                0.023514  0.054139  0.040571   0.107664  0.140920   \n",
       "HOUR                 0.061298  0.035360  0.099558   0.346512  0.045300   \n",
       "LOCATIONCLUSTER      0.043400  0.011389  0.090877   0.027079  0.025791   \n",
       "\n",
       "                 JUNCTIONTYPE  ADDRTYPE    INTKEY  PEDROWNOTGRNT  \\\n",
       "SEVERITYCODE         0.186719  0.174428  0.297816       0.203360   \n",
       "WEATHER              0.011672  0.018691  0.211512       0.007949   \n",
       "SPEEDING             0.087093  0.069946  0.235505       0.031608   \n",
       "LIGHTCOND            0.035711  0.039345  0.217614       0.015770   \n",
       "ROADCOND             0.027397  0.047656  0.205794       0.017033   \n",
       "JUNCTIONTYPE         1.000000  0.999628  0.485691       0.160923   \n",
       "ADDRTYPE             0.999628  1.000000  1.000000       0.151226   \n",
       "INTKEY               0.485691  1.000000  1.000000       0.374064   \n",
       "PEDROWNOTGRNT        0.160923  0.151226  0.374064       1.000000   \n",
       "HITPARKEDCAR         0.155353  0.117352  0.163840       0.027624   \n",
       "SEGLANEKEY           0.053825  0.045706  0.320874       0.241625   \n",
       "CROSSWALKKEY         0.184265  0.180650  0.408114       0.453672   \n",
       "PEDCYLCOUNT          0.096687  0.078118  0.371903       0.327805   \n",
       "PEDCOUNT             0.148661  0.142258  0.357648       0.502331   \n",
       "VEHCOUNT             0.074761  0.106552  0.215618       0.405287   \n",
       "DAY                  0.015923  0.014426  0.210394       0.014200   \n",
       "DAYOFWEEK            0.014940  0.011991  0.214524       0.033374   \n",
       "MONTH                0.020710  0.023758  0.212607       0.026311   \n",
       "HOUR                 0.050156  0.067221  0.212681       0.051457   \n",
       "LOCATIONCLUSTER      0.045708  0.073774  0.599645       0.064314   \n",
       "\n",
       "                 HITPARKEDCAR  SEGLANEKEY  CROSSWALKKEY  PEDCYLCOUNT  \\\n",
       "SEVERITYCODE         0.085575    0.152393      0.177488     0.212266   \n",
       "WEATHER              0.014205    0.009921      0.006573     0.014779   \n",
       "SPEEDING             0.019343    0.015649      0.028933     0.023570   \n",
       "LIGHTCOND            0.040994    0.027858      0.018156     0.043775   \n",
       "ROADCOND             0.024410    0.030625      0.023459     0.043443   \n",
       "JUNCTIONTYPE         0.155353    0.053825      0.184265     0.096687   \n",
       "ADDRTYPE             0.117352    0.045706      0.180650     0.078118   \n",
       "INTKEY               0.163840    0.320874      0.408114     0.371903   \n",
       "PEDROWNOTGRNT        0.027624    0.241625      0.453672     0.327805   \n",
       "HITPARKEDCAR         1.000000    0.019203      0.024664     0.026807   \n",
       "SEGLANEKEY           0.019203    1.000000      0.008468     0.692673   \n",
       "CROSSWALKKEY         0.024664    0.008468      1.000000     0.115382   \n",
       "PEDCYLCOUNT          0.026807    0.692673      0.115382     1.000000   \n",
       "PEDCOUNT             0.031640    0.013073      0.611286     0.021317   \n",
       "VEHCOUNT             0.076293    0.303562      0.362103     0.436820   \n",
       "DAY                  0.015386    0.013419      0.016317     0.015223   \n",
       "DAYOFWEEK            0.023287    0.027400      0.021817     0.035232   \n",
       "MONTH                0.012342    0.032316      0.036163     0.046681   \n",
       "HOUR                 0.081829    0.056612      0.053661     0.068337   \n",
       "LOCATIONCLUSTER      0.031598    0.065966      0.062205     0.077390   \n",
       "\n",
       "                 PEDCOUNT  VEHCOUNT       DAY  DAYOFWEEK     MONTH      HOUR  \\\n",
       "SEVERITYCODE     0.245886  0.232022  0.015219   0.021258  0.023514  0.061298   \n",
       "WEATHER          0.005959  0.011228  0.023649   0.014183  0.054139  0.035360   \n",
       "SPEEDING         0.037707  0.151084  0.012711   0.039860  0.040571  0.099558   \n",
       "LIGHTCOND        0.026627  0.060869  0.015101   0.060396  0.107664  0.346512   \n",
       "ROADCOND         0.024054  0.037232  0.027493   0.014789  0.140920  0.045300   \n",
       "JUNCTIONTYPE     0.148661  0.074761  0.015923   0.014940  0.020710  0.050156   \n",
       "ADDRTYPE         0.142258  0.106552  0.014426   0.011991  0.023758  0.067221   \n",
       "INTKEY           0.357648  0.215618  0.210394   0.214524  0.212607  0.212681   \n",
       "PEDROWNOTGRNT    0.502331  0.405287  0.014200   0.033374  0.026311  0.051457   \n",
       "HITPARKEDCAR     0.031640  0.076293  0.015386   0.023287  0.012342  0.081829   \n",
       "SEGLANEKEY       0.013073  0.303562  0.013419   0.027400  0.032316  0.056612   \n",
       "CROSSWALKKEY     0.611286  0.362103  0.016317   0.021817  0.036163  0.053661   \n",
       "PEDCYLCOUNT      0.021317  0.436820  0.015223   0.035232  0.046681  0.068337   \n",
       "PEDCOUNT         1.000000  0.477406  0.015302   0.027420  0.046933  0.046193   \n",
       "VEHCOUNT         0.477406  1.000000  0.013607   0.011463  0.018418  0.075658   \n",
       "DAY              0.015302  0.013607  1.000000   0.025486  0.046250  0.116965   \n",
       "DAYOFWEEK        0.027420  0.011463  0.025486   1.000000  0.013463  0.091433   \n",
       "MONTH            0.046933  0.018418  0.046250   0.013463  1.000000  0.020986   \n",
       "HOUR             0.046193  0.075658  0.116965   0.091433  0.020986  1.000000   \n",
       "LOCATIONCLUSTER  0.068372  0.032596  0.015289   0.011932  0.012679  0.044202   \n",
       "\n",
       "                 LOCATIONCLUSTER  \n",
       "SEVERITYCODE            0.043400  \n",
       "WEATHER                 0.011389  \n",
       "SPEEDING                0.090877  \n",
       "LIGHTCOND               0.027079  \n",
       "ROADCOND                0.025791  \n",
       "JUNCTIONTYPE            0.045708  \n",
       "ADDRTYPE                0.073774  \n",
       "INTKEY                  0.599645  \n",
       "PEDROWNOTGRNT           0.064314  \n",
       "HITPARKEDCAR            0.031598  \n",
       "SEGLANEKEY              0.065966  \n",
       "CROSSWALKKEY            0.062205  \n",
       "PEDCYLCOUNT             0.077390  \n",
       "PEDCOUNT                0.068372  \n",
       "VEHCOUNT                0.032596  \n",
       "DAY                     0.015289  \n",
       "DAYOFWEEK               0.011932  \n",
       "MONTH                   0.012679  \n",
       "HOUR                    0.044202  \n",
       "LOCATIONCLUSTER         1.000000  "
      ]
     },
     "execution_count": 78,
     "metadata": {},
     "output_type": "execute_result"
    }
   ],
   "source": [
    "cor_mat = df_p.corr(method=cramers_v)\n",
    "cor_mat"
   ]
  },
  {
   "cell_type": "code",
   "execution_count": 79,
   "metadata": {},
   "outputs": [
    {
     "data": {
      "image/png": "[encoded data removed]",
      "text/plain": [
       "<Figure size 864x576 with 2 Axes>"
      ]
     },
     "metadata": {
      "needs_background": "light"
     },
     "output_type": "display_data"
    }
   ],
   "source": [
    "plt.figure(figsize=(12,8))\n",
    "sns.heatmap(np.abs(cor_mat), cbar=True, cmap=\"Blues\")\n",
    "plt.title(\"Feature Correlations\")\n",
    "plt.show()"
   ]
  },
  {
   "cell_type": "markdown",
   "metadata": {},
   "source": [
    "<h4>Standardization</h4>"
   ]
  },
  {
   "cell_type": "code",
   "execution_count": 80,
   "metadata": {},
   "outputs": [
    {
     "data": {
      "text/html": [
       "<div>\n",
       "<style scoped>\n",
       "    .dataframe tbody tr th:only-of-type {\n",
       "        vertical-align: middle;\n",
       "    }\n",
       "\n",
       "    .dataframe tbody tr th {\n",
       "        vertical-align: top;\n",
       "    }\n",
       "\n",
       "    .dataframe thead th {\n",
       "        text-align: right;\n",
       "    }\n",
       "</style>\n",
       "<table border=\"1\" class=\"dataframe\">\n",
       "  <thead>\n",
       "    <tr style=\"text-align: right;\">\n",
       "      <th></th>\n",
       "      <th>SEVERITYCODE</th>\n",
       "      <th>WEATHER</th>\n",
       "      <th>SPEEDING</th>\n",
       "      <th>LIGHTCOND</th>\n",
       "      <th>ROADCOND</th>\n",
       "      <th>JUNCTIONTYPE</th>\n",
       "      <th>ADDRTYPE</th>\n",
       "      <th>INTKEY</th>\n",
       "      <th>PEDROWNOTGRNT</th>\n",
       "      <th>HITPARKEDCAR</th>\n",
       "      <th>SEGLANEKEY</th>\n",
       "      <th>CROSSWALKKEY</th>\n",
       "      <th>PEDCYLCOUNT</th>\n",
       "      <th>PEDCOUNT</th>\n",
       "      <th>VEHCOUNT</th>\n",
       "      <th>DAY</th>\n",
       "      <th>DAYOFWEEK</th>\n",
       "      <th>MONTH</th>\n",
       "      <th>HOUR</th>\n",
       "      <th>LOCATIONCLUSTER</th>\n",
       "    </tr>\n",
       "  </thead>\n",
       "  <tbody>\n",
       "    <tr>\n",
       "      <th>count</th>\n",
       "      <td>109380.000000</td>\n",
       "      <td>1.093800e+05</td>\n",
       "      <td>1.093800e+05</td>\n",
       "      <td>1.093800e+05</td>\n",
       "      <td>1.093800e+05</td>\n",
       "      <td>1.093800e+05</td>\n",
       "      <td>1.093800e+05</td>\n",
       "      <td>1.093800e+05</td>\n",
       "      <td>1.093800e+05</td>\n",
       "      <td>1.093800e+05</td>\n",
       "      <td>1.093800e+05</td>\n",
       "      <td>1.093800e+05</td>\n",
       "      <td>1.093800e+05</td>\n",
       "      <td>1.093800e+05</td>\n",
       "      <td>1.093800e+05</td>\n",
       "      <td>1.093800e+05</td>\n",
       "      <td>1.093800e+05</td>\n",
       "      <td>1.093800e+05</td>\n",
       "      <td>1.093800e+05</td>\n",
       "      <td>1.093800e+05</td>\n",
       "    </tr>\n",
       "    <tr>\n",
       "      <th>mean</th>\n",
       "      <td>1.500000</td>\n",
       "      <td>1.692309e-14</td>\n",
       "      <td>-1.251312e-14</td>\n",
       "      <td>-2.171769e-14</td>\n",
       "      <td>1.753434e-15</td>\n",
       "      <td>-2.006276e-14</td>\n",
       "      <td>-1.610409e-13</td>\n",
       "      <td>2.695384e-14</td>\n",
       "      <td>-7.019625e-14</td>\n",
       "      <td>-5.304509e-14</td>\n",
       "      <td>-8.229563e-14</td>\n",
       "      <td>2.492991e-14</td>\n",
       "      <td>-1.569310e-13</td>\n",
       "      <td>2.218637e-14</td>\n",
       "      <td>1.007459e-13</td>\n",
       "      <td>6.356631e-17</td>\n",
       "      <td>4.323889e-15</td>\n",
       "      <td>5.217557e-15</td>\n",
       "      <td>-7.044913e-15</td>\n",
       "      <td>-1.734173e-14</td>\n",
       "    </tr>\n",
       "    <tr>\n",
       "      <th>std</th>\n",
       "      <td>0.500002</td>\n",
       "      <td>1.000005e+00</td>\n",
       "      <td>1.000005e+00</td>\n",
       "      <td>1.000005e+00</td>\n",
       "      <td>1.000005e+00</td>\n",
       "      <td>1.000005e+00</td>\n",
       "      <td>1.000005e+00</td>\n",
       "      <td>1.000005e+00</td>\n",
       "      <td>1.000005e+00</td>\n",
       "      <td>1.000005e+00</td>\n",
       "      <td>1.000005e+00</td>\n",
       "      <td>1.000005e+00</td>\n",
       "      <td>1.000005e+00</td>\n",
       "      <td>1.000005e+00</td>\n",
       "      <td>1.000005e+00</td>\n",
       "      <td>1.000005e+00</td>\n",
       "      <td>1.000005e+00</td>\n",
       "      <td>1.000005e+00</td>\n",
       "      <td>1.000005e+00</td>\n",
       "      <td>1.000005e+00</td>\n",
       "    </tr>\n",
       "    <tr>\n",
       "      <th>min</th>\n",
       "      <td>1.000000</td>\n",
       "      <td>-2.414561e+00</td>\n",
       "      <td>-2.379231e-01</td>\n",
       "      <td>-3.467422e+00</td>\n",
       "      <td>-6.227689e-01</td>\n",
       "      <td>-1.834746e+00</td>\n",
       "      <td>-8.175389e-01</td>\n",
       "      <td>-3.884480e-01</td>\n",
       "      <td>-2.011363e-01</td>\n",
       "      <td>-1.493649e-01</td>\n",
       "      <td>-1.523758e-01</td>\n",
       "      <td>-1.790860e-01</td>\n",
       "      <td>-2.170239e-01</td>\n",
       "      <td>-2.456753e-01</td>\n",
       "      <td>-1.813414e+00</td>\n",
       "      <td>-1.668217e+00</td>\n",
       "      <td>-1.529729e+00</td>\n",
       "      <td>-1.635713e+00</td>\n",
       "      <td>-1.685026e+00</td>\n",
       "      <td>-1.068998e+00</td>\n",
       "    </tr>\n",
       "    <tr>\n",
       "      <th>25%</th>\n",
       "      <td>1.000000</td>\n",
       "      <td>-8.341654e-02</td>\n",
       "      <td>-2.379231e-01</td>\n",
       "      <td>-1.448457e+00</td>\n",
       "      <td>-6.227689e-01</td>\n",
       "      <td>-1.113593e+00</td>\n",
       "      <td>-8.175389e-01</td>\n",
       "      <td>-1.082285e-01</td>\n",
       "      <td>-2.011363e-01</td>\n",
       "      <td>-1.493649e-01</td>\n",
       "      <td>-1.523758e-01</td>\n",
       "      <td>-1.790860e-01</td>\n",
       "      <td>-2.170239e-01</td>\n",
       "      <td>-2.456753e-01</td>\n",
       "      <td>1.314537e-01</td>\n",
       "      <td>-8.714416e-01</td>\n",
       "      <td>-1.007154e+00</td>\n",
       "      <td>-7.527016e-01</td>\n",
       "      <td>-6.630265e-01</td>\n",
       "      <td>-1.068998e+00</td>\n",
       "    </tr>\n",
       "    <tr>\n",
       "      <th>50%</th>\n",
       "      <td>1.500000</td>\n",
       "      <td>-8.341654e-02</td>\n",
       "      <td>-2.379231e-01</td>\n",
       "      <td>5.705080e-01</td>\n",
       "      <td>-6.227689e-01</td>\n",
       "      <td>3.287119e-01</td>\n",
       "      <td>-8.175389e-01</td>\n",
       "      <td>5.578321e-03</td>\n",
       "      <td>-2.011363e-01</td>\n",
       "      <td>-1.493649e-01</td>\n",
       "      <td>-1.523758e-01</td>\n",
       "      <td>-1.790860e-01</td>\n",
       "      <td>-2.170239e-01</td>\n",
       "      <td>-2.456753e-01</td>\n",
       "      <td>1.314537e-01</td>\n",
       "      <td>3.915925e-02</td>\n",
       "      <td>3.799635e-02</td>\n",
       "      <td>1.303097e-01</td>\n",
       "      <td>2.129734e-01</td>\n",
       "      <td>1.591967e-02</td>\n",
       "    </tr>\n",
       "    <tr>\n",
       "      <th>75%</th>\n",
       "      <td>2.000000</td>\n",
       "      <td>-8.341654e-02</td>\n",
       "      <td>-2.379231e-01</td>\n",
       "      <td>5.705080e-01</td>\n",
       "      <td>1.621936e+00</td>\n",
       "      <td>1.049864e+00</td>\n",
       "      <td>1.223183e+00</td>\n",
       "      <td>5.578321e-03</td>\n",
       "      <td>-2.011363e-01</td>\n",
       "      <td>-1.493649e-01</td>\n",
       "      <td>-1.523758e-01</td>\n",
       "      <td>-1.790860e-01</td>\n",
       "      <td>-2.170239e-01</td>\n",
       "      <td>-2.456753e-01</td>\n",
       "      <td>1.314537e-01</td>\n",
       "      <td>8.359350e-01</td>\n",
       "      <td>1.083147e+00</td>\n",
       "      <td>1.013321e+00</td>\n",
       "      <td>7.969732e-01</td>\n",
       "      <td>1.100838e+00</td>\n",
       "    </tr>\n",
       "    <tr>\n",
       "      <th>max</th>\n",
       "      <td>2.000000</td>\n",
       "      <td>1.390345e+01</td>\n",
       "      <td>4.203038e+00</td>\n",
       "      <td>2.589473e+00</td>\n",
       "      <td>1.621936e+00</td>\n",
       "      <td>1.771017e+00</td>\n",
       "      <td>1.223183e+00</td>\n",
       "      <td>6.935276e+01</td>\n",
       "      <td>4.971752e+00</td>\n",
       "      <td>6.695014e+00</td>\n",
       "      <td>6.562720e+00</td>\n",
       "      <td>5.583910e+00</td>\n",
       "      <td>4.607788e+00</td>\n",
       "      <td>4.070413e+00</td>\n",
       "      <td>2.152500e+01</td>\n",
       "      <td>1.746536e+00</td>\n",
       "      <td>1.605722e+00</td>\n",
       "      <td>1.601995e+00</td>\n",
       "      <td>1.672973e+00</td>\n",
       "      <td>1.643297e+00</td>\n",
       "    </tr>\n",
       "  </tbody>\n",
       "</table>\n",
       "</div>"
      ],
      "text/plain": [
       "        SEVERITYCODE       WEATHER      SPEEDING     LIGHTCOND      ROADCOND  \\\n",
       "count  109380.000000  1.093800e+05  1.093800e+05  1.093800e+05  1.093800e+05   \n",
       "mean        1.500000  1.692309e-14 -1.251312e-14 -2.171769e-14  1.753434e-15   \n",
       "std         0.500002  1.000005e+00  1.000005e+00  1.000005e+00  1.000005e+00   \n",
       "min         1.000000 -2.414561e+00 -2.379231e-01 -3.467422e+00 -6.227689e-01   \n",
       "25%         1.000000 -8.341654e-02 -2.379231e-01 -1.448457e+00 -6.227689e-01   \n",
       "50%         1.500000 -8.341654e-02 -2.379231e-01  5.705080e-01 -6.227689e-01   \n",
       "75%         2.000000 -8.341654e-02 -2.379231e-01  5.705080e-01  1.621936e+00   \n",
       "max         2.000000  1.390345e+01  4.203038e+00  2.589473e+00  1.621936e+00   \n",
       "\n",
       "       JUNCTIONTYPE      ADDRTYPE        INTKEY  PEDROWNOTGRNT  HITPARKEDCAR  \\\n",
       "count  1.093800e+05  1.093800e+05  1.093800e+05   1.093800e+05  1.093800e+05   \n",
       "mean  -2.006276e-14 -1.610409e-13  2.695384e-14  -7.019625e-14 -5.304509e-14   \n",
       "std    1.000005e+00  1.000005e+00  1.000005e+00   1.000005e+00  1.000005e+00   \n",
       "min   -1.834746e+00 -8.175389e-01 -3.884480e-01  -2.011363e-01 -1.493649e-01   \n",
       "25%   -1.113593e+00 -8.175389e-01 -1.082285e-01  -2.011363e-01 -1.493649e-01   \n",
       "50%    3.287119e-01 -8.175389e-01  5.578321e-03  -2.011363e-01 -1.493649e-01   \n",
       "75%    1.049864e+00  1.223183e+00  5.578321e-03  -2.011363e-01 -1.493649e-01   \n",
       "max    1.771017e+00  1.223183e+00  6.935276e+01   4.971752e+00  6.695014e+00   \n",
       "\n",
       "         SEGLANEKEY  CROSSWALKKEY   PEDCYLCOUNT      PEDCOUNT      VEHCOUNT  \\\n",
       "count  1.093800e+05  1.093800e+05  1.093800e+05  1.093800e+05  1.093800e+05   \n",
       "mean  -8.229563e-14  2.492991e-14 -1.569310e-13  2.218637e-14  1.007459e-13   \n",
       "std    1.000005e+00  1.000005e+00  1.000005e+00  1.000005e+00  1.000005e+00   \n",
       "min   -1.523758e-01 -1.790860e-01 -2.170239e-01 -2.456753e-01 -1.813414e+00   \n",
       "25%   -1.523758e-01 -1.790860e-01 -2.170239e-01 -2.456753e-01  1.314537e-01   \n",
       "50%   -1.523758e-01 -1.790860e-01 -2.170239e-01 -2.456753e-01  1.314537e-01   \n",
       "75%   -1.523758e-01 -1.790860e-01 -2.170239e-01 -2.456753e-01  1.314537e-01   \n",
       "max    6.562720e+00  5.583910e+00  4.607788e+00  4.070413e+00  2.152500e+01   \n",
       "\n",
       "                DAY     DAYOFWEEK         MONTH          HOUR  LOCATIONCLUSTER  \n",
       "count  1.093800e+05  1.093800e+05  1.093800e+05  1.093800e+05     1.093800e+05  \n",
       "mean   6.356631e-17  4.323889e-15  5.217557e-15 -7.044913e-15    -1.734173e-14  \n",
       "std    1.000005e+00  1.000005e+00  1.000005e+00  1.000005e+00     1.000005e+00  \n",
       "min   -1.668217e+00 -1.529729e+00 -1.635713e+00 -1.685026e+00    -1.068998e+00  \n",
       "25%   -8.714416e-01 -1.007154e+00 -7.527016e-01 -6.630265e-01    -1.068998e+00  \n",
       "50%    3.915925e-02  3.799635e-02  1.303097e-01  2.129734e-01     1.591967e-02  \n",
       "75%    8.359350e-01  1.083147e+00  1.013321e+00  7.969732e-01     1.100838e+00  \n",
       "max    1.746536e+00  1.605722e+00  1.601995e+00  1.672973e+00     1.643297e+00  "
      ]
     },
     "execution_count": 80,
     "metadata": {},
     "output_type": "execute_result"
    }
   ],
   "source": [
    "scaler = StandardScaler()\n",
    "for col in df_bal.columns[1:]:\n",
    "    scaler.fit(df_bal[[col]])\n",
    "    df_bal[col] = scaler.transform(df_bal[[col]])\n",
    "df_bal.describe()"
   ]
  },
  {
   "cell_type": "markdown",
   "metadata": {},
   "source": [
    "<p>Now we are going to choose which features to use for our model based on the above information</p>\n",
    "<p>The following features have a relatively good correlation with the severity of the accidents:</p>\n",
    "<p>[\"JUNCTIONTYPE\",\"ADDRTYPE\",\"INTKEY\",\"PEDROWNOTGRNT\",\"SEGLANEKEY\",\"PEDCYLCOUNT\",\"PEDCOUNT\",\"VEHCOUNT\",\"LOCATIONCLUSTER\"]</p>"
   ]
  },
  {
   "cell_type": "code",
   "execution_count": 81,
   "metadata": {},
   "outputs": [],
   "source": [
    "df_model = df_bal[[\"JUNCTIONTYPE\",\"ADDRTYPE\",\"INTKEY\",\"PEDROWNOTGRNT\",\"SEGLANEKEY\",\"PEDCYLCOUNT\",\"PEDCOUNT\",\"VEHCOUNT\",\"LOCATIONCLUSTER\"]]"
   ]
  },
  {
   "cell_type": "markdown",
   "metadata": {},
   "source": [
    "<h2>Model Selection and Evaluation</h2>\n",
    "<p>In order to train and test our models we will first split the data into a training and a testing set.</p>\n",
    "<p>We will use 10-fold-crossvalidation to train our models using the train set</p>\n",
    "<p>We will then use the test set to generate evaluation metrics for each model</p>"
   ]
  },
  {
   "cell_type": "code",
   "execution_count": 82,
   "metadata": {},
   "outputs": [],
   "source": [
    "X = df_model.values\n",
    "y = df_bal[\"SEVERITYCODE\"].values"
   ]
  },
  {
   "cell_type": "code",
   "execution_count": 83,
   "metadata": {},
   "outputs": [
    {
     "name": "stdout",
     "output_type": "stream",
     "text": [
      "Training Set Size:  (76566, 9)\n",
      "Test Set Size:  (32814, 9)\n"
     ]
    }
   ],
   "source": [
    "xtrain, xtest, ytrain, ytest = train_test_split(X, y, test_size=0.3, random_state=3)\n",
    "print(\"Training Set Size: \", xtrain.shape)\n",
    "print(\"Test Set Size: \", xtest.shape)"
   ]
  },
  {
   "cell_type": "markdown",
   "metadata": {},
   "source": [
    "<h4>K-Nearest-Neighbors</h4>"
   ]
  },
  {
   "cell_type": "code",
   "execution_count": 84,
   "metadata": {},
   "outputs": [
    {
     "name": "stdout",
     "output_type": "stream",
     "text": [
      "0.53788285867813\n"
     ]
    },
    {
     "data": {
      "text/plain": [
       "KNeighborsClassifier(algorithm='auto', leaf_size=30, metric='minkowski',\n",
       "                     metric_params=None, n_jobs=None, n_neighbors=30, p=2,\n",
       "                     weights='uniform')"
      ]
     },
     "execution_count": 84,
     "metadata": {},
     "output_type": "execute_result"
    }
   ],
   "source": [
    "param = {\"n_neighbors\": [20,25,30]}\n",
    "grid = GridSearchCV(KNeighborsClassifier(), param, cv=10)\n",
    "knn = grid.fit(xtrain, ytrain)\n",
    "print(jaccard_score(ytest, knn.predict(xtest)))\n",
    "knn.best_estimator_"
   ]
  },
  {
   "cell_type": "markdown",
   "metadata": {},
   "source": [
    "<h4>Logistic Regression</h4>"
   ]
  },
  {
   "cell_type": "code",
   "execution_count": 85,
   "metadata": {},
   "outputs": [
    {
     "name": "stdout",
     "output_type": "stream",
     "text": [
      "0.5294652826599396\n",
      "LogisticRegression(C=0.3, class_weight=None, dual=False, fit_intercept=True,\n",
      "                   intercept_scaling=1, l1_ratio=None, max_iter=100,\n",
      "                   multi_class='auto', n_jobs=None, penalty='l2',\n",
      "                   random_state=None, solver='lbfgs', tol=0.0001, verbose=0,\n",
      "                   warm_start=False)\n",
      "           Feature  Importance\n",
      "6         PEDCOUNT    0.781344\n",
      "5      PEDCYLCOUNT    0.657449\n",
      "7         VEHCOUNT    0.203538\n",
      "8  LOCATIONCLUSTER    0.167161\n",
      "4       SEGLANEKEY    0.053132\n",
      "3    PEDROWNOTGRNT   -0.020038\n",
      "1         ADDRTYPE   -0.139703\n",
      "0     JUNCTIONTYPE   -0.296398\n",
      "2           INTKEY   -2.740102\n"
     ]
    }
   ],
   "source": [
    "param = {\"C\": [0.1, 0.2, 0.3]}\n",
    "grid = GridSearchCV(LogisticRegression(), param, cv=10)\n",
    "log_reg = grid.fit(xtrain, ytrain)\n",
    "print(jaccard_score(ytest, log_reg.predict(xtest)))\n",
    "print(log_reg.best_estimator_)\n",
    "print(pd.DataFrame({\"Feature\": df_model.columns, \"Importance\": log_reg.best_estimator_.coef_[0]}).sort_values(by=\"Importance\", ascending=False))"
   ]
  },
  {
   "cell_type": "markdown",
   "metadata": {},
   "source": [
    "<h4>Decision Tree</h4>"
   ]
  },
  {
   "cell_type": "code",
   "execution_count": 86,
   "metadata": {},
   "outputs": [
    {
     "name": "stdout",
     "output_type": "stream",
     "text": [
      "0.5354830465155904\n",
      "DecisionTreeClassifier(ccp_alpha=0.0, class_weight=None, criterion='gini',\n",
      "                       max_depth=6, max_features=None, max_leaf_nodes=None,\n",
      "                       min_impurity_decrease=0.0, min_impurity_split=None,\n",
      "                       min_samples_leaf=1, min_samples_split=2,\n",
      "                       min_weight_fraction_leaf=0.0, presort='deprecated',\n",
      "                       random_state=None, splitter='best')\n",
      "           Feature  Importance\n",
      "2           INTKEY    0.463794\n",
      "5      PEDCYLCOUNT    0.183038\n",
      "6         PEDCOUNT    0.174541\n",
      "7         VEHCOUNT    0.168082\n",
      "0     JUNCTIONTYPE    0.005665\n",
      "8  LOCATIONCLUSTER    0.004838\n",
      "3    PEDROWNOTGRNT    0.000042\n",
      "1         ADDRTYPE    0.000000\n",
      "4       SEGLANEKEY    0.000000\n"
     ]
    }
   ],
   "source": [
    "param = {\"max_depth\": [5,6,7]}\n",
    "grid = GridSearchCV(DecisionTreeClassifier(), param, cv=10)\n",
    "dec_tree = grid.fit(xtrain, ytrain)\n",
    "print(jaccard_score(ytest, dec_tree.predict(xtest)))\n",
    "print(dec_tree.best_estimator_)\n",
    "print(pd.DataFrame({\"Feature\": df_model.columns, \"Importance\": dec_tree.best_estimator_.feature_importances_}).sort_values(by=\"Importance\", ascending=False))"
   ]
  },
  {
   "cell_type": "markdown",
   "metadata": {},
   "source": [
    "<h4>Random Forest</h4>"
   ]
  },
  {
   "cell_type": "code",
   "execution_count": 87,
   "metadata": {},
   "outputs": [
    {
     "name": "stdout",
     "output_type": "stream",
     "text": [
      "0.5408635636730915\n",
      "RandomForestClassifier(bootstrap=True, ccp_alpha=0.0, class_weight=None,\n",
      "                       criterion='gini', max_depth=7, max_features='auto',\n",
      "                       max_leaf_nodes=None, max_samples=None,\n",
      "                       min_impurity_decrease=0.0, min_impurity_split=None,\n",
      "                       min_samples_leaf=1, min_samples_split=2,\n",
      "                       min_weight_fraction_leaf=0.0, n_estimators=100,\n",
      "                       n_jobs=None, oob_score=False, random_state=None,\n",
      "                       verbose=0, warm_start=False)\n",
      "           Feature  Importance\n",
      "2           INTKEY    0.285984\n",
      "6         PEDCOUNT    0.213696\n",
      "7         VEHCOUNT    0.158570\n",
      "5      PEDCYLCOUNT    0.148200\n",
      "0     JUNCTIONTYPE    0.072692\n",
      "3    PEDROWNOTGRNT    0.035091\n",
      "1         ADDRTYPE    0.031253\n",
      "4       SEGLANEKEY    0.028424\n",
      "8  LOCATIONCLUSTER    0.026090\n"
     ]
    }
   ],
   "source": [
    "param = {\"max_depth\": [5,6,7]}\n",
    "grid = GridSearchCV(RandomForestClassifier(), param, cv=10)\n",
    "ran_for = grid.fit(xtrain, ytrain)\n",
    "print(jaccard_score(ytest, ran_for.predict(xtest)))\n",
    "print(ran_for.best_estimator_)\n",
    "print(pd.DataFrame({\"Feature\": df_model.columns, \"Importance\": ran_for.best_estimator_.feature_importances_}).sort_values(by=\"Importance\", ascending=False))"
   ]
  },
  {
   "cell_type": "markdown",
   "metadata": {},
   "source": [
    "<h3>Evaluation</h3>\n",
    "<h4>Metrics</h4>"
   ]
  },
  {
   "cell_type": "code",
   "execution_count": 88,
   "metadata": {},
   "outputs": [
    {
     "data": {
      "text/html": [
       "<div>\n",
       "<style scoped>\n",
       "    .dataframe tbody tr th:only-of-type {\n",
       "        vertical-align: middle;\n",
       "    }\n",
       "\n",
       "    .dataframe tbody tr th {\n",
       "        vertical-align: top;\n",
       "    }\n",
       "\n",
       "    .dataframe thead th {\n",
       "        text-align: right;\n",
       "    }\n",
       "</style>\n",
       "<table border=\"1\" class=\"dataframe\">\n",
       "  <thead>\n",
       "    <tr style=\"text-align: right;\">\n",
       "      <th></th>\n",
       "      <th>Model</th>\n",
       "      <th>Jaccard Index</th>\n",
       "      <th>F1-Score</th>\n",
       "      <th>Log Loss</th>\n",
       "    </tr>\n",
       "  </thead>\n",
       "  <tbody>\n",
       "    <tr>\n",
       "      <th>0</th>\n",
       "      <td>KNN</td>\n",
       "      <td>0.537883</td>\n",
       "      <td>0.699511</td>\n",
       "      <td>NaN</td>\n",
       "    </tr>\n",
       "    <tr>\n",
       "      <th>1</th>\n",
       "      <td>Logistic Regression</td>\n",
       "      <td>0.529465</td>\n",
       "      <td>0.692353</td>\n",
       "      <td>0.604617</td>\n",
       "    </tr>\n",
       "    <tr>\n",
       "      <th>2</th>\n",
       "      <td>Decision Tree</td>\n",
       "      <td>0.535483</td>\n",
       "      <td>0.697478</td>\n",
       "      <td>NaN</td>\n",
       "    </tr>\n",
       "    <tr>\n",
       "      <th>3</th>\n",
       "      <td>Random Forest</td>\n",
       "      <td>0.540864</td>\n",
       "      <td>0.702027</td>\n",
       "      <td>NaN</td>\n",
       "    </tr>\n",
       "  </tbody>\n",
       "</table>\n",
       "</div>"
      ],
      "text/plain": [
       "                 Model  Jaccard Index  F1-Score  Log Loss\n",
       "0                  KNN       0.537883  0.699511       NaN\n",
       "1  Logistic Regression       0.529465  0.692353  0.604617\n",
       "2        Decision Tree       0.535483  0.697478       NaN\n",
       "3        Random Forest       0.540864  0.702027       NaN"
      ]
     },
     "execution_count": 88,
     "metadata": {},
     "output_type": "execute_result"
    }
   ],
   "source": [
    "models = [\"KNN\", \"Logistic Regression\", \"Decision Tree\", \"Random Forest\"]\n",
    "jac_ind = [jaccard_score(ytest, knn.predict(xtest)),\n",
    "          jaccard_score(ytest, log_reg.predict(xtest)),\n",
    "          jaccard_score(ytest, dec_tree.predict(xtest)),\n",
    "          jaccard_score(ytest, ran_for.predict(xtest))]\n",
    "f1_scr = [f1_score(ytest, knn.predict(xtest)),\n",
    "          f1_score(ytest, log_reg.predict(xtest)),\n",
    "          f1_score(ytest, dec_tree.predict(xtest)),\n",
    "          f1_score(ytest, ran_for.predict(xtest))]\n",
    "log_ls = [np.nan,\n",
    "          log_loss(ytest, log_reg.predict_proba(xtest)),\n",
    "          np.nan,\n",
    "          np.nan]\n",
    "df_eval_metrics = pd.DataFrame({\"Model\": models, \"Jaccard Index\": jac_ind, \"F1-Score\": f1_scr, \"Log Loss\": log_ls})\n",
    "df_eval_metrics"
   ]
  },
  {
   "cell_type": "markdown",
   "metadata": {},
   "source": [
    "<h4>Confusion Matrices</h4>"
   ]
  },
  {
   "cell_type": "code",
   "execution_count": 89,
   "metadata": {},
   "outputs": [],
   "source": [
    "def plot_confusion_matrix(cm, classes,\n",
    "                          normalize=False,\n",
    "                          title='Confusion matrix',\n",
    "                          cmap=plt.cm.Blues):\n",
    "    \"\"\"\n",
    "    This function prints and plots the confusion matrix.\n",
    "    Normalization can be applied by setting `normalize=True`.\n",
    "    \"\"\"\n",
    "    if normalize:\n",
    "        cm = cm.astype('float') / cm.sum(axis=1)[:, np.newaxis]\n",
    "\n",
    "    plt.imshow(cm, interpolation='nearest', cmap=cmap)\n",
    "    plt.title(title)\n",
    "    plt.colorbar()\n",
    "    tick_marks = np.arange(len(classes))\n",
    "    plt.xticks(tick_marks, classes, rotation=45)\n",
    "    plt.yticks(tick_marks, classes)\n",
    "\n",
    "    fmt = '.2f' if normalize else 'd'\n",
    "    thresh = cm.max() / 2.\n",
    "    for i, j in itertools.product(range(cm.shape[0]), range(cm.shape[1])):\n",
    "        plt.text(j, i, format(cm[i, j], fmt),\n",
    "                 horizontalalignment=\"center\",\n",
    "                 color=\"white\" if cm[i, j] > thresh else \"black\")\n",
    "\n",
    "    plt.tight_layout()\n",
    "    plt.ylabel('True label')\n",
    "    plt.xlabel('Predicted label')"
   ]
  },
  {
   "cell_type": "code",
   "execution_count": 90,
   "metadata": {},
   "outputs": [
    {
     "data": {
      "image/png": "[encoded data removed]",
      "text/plain": [
       "<Figure size 432x288 with 2 Axes>"
      ]
     },
     "metadata": {
      "needs_background": "light"
     },
     "output_type": "display_data"
    }
   ],
   "source": [
    "np.set_printoptions(precision=2)\n",
    "\n",
    "cnf_matrix_knn = confusion_matrix(ytest, knn.predict(xtest), labels=[1,2])\n",
    "cnf_matrix_logreg = confusion_matrix(ytest, log_reg.predict(xtest), labels=[1,2])\n",
    "cnf_matrix_dectree = confusion_matrix(ytest, dec_tree.predict(xtest), labels=[1,2])\n",
    "cnf_matrix_ranfor = confusion_matrix(ytest, ran_for.predict(xtest), labels=[1,2])\n",
    "\n",
    "\n",
    "\n",
    "plt.figure()\n",
    "plot_confusion_matrix(cnf_matrix_knn, classes=['Not Severe(1)','Severe(2)'],normalize= True,  title='KNN Confusion matrix')\n",
    "plt.show()"
   ]
  },
  {
   "cell_type": "code",
   "execution_count": 91,
   "metadata": {},
   "outputs": [
    {
     "data": {
      "image/png": "[encoded data removed]",
      "text/plain": [
       "<Figure size 432x288 with 2 Axes>"
      ]
     },
     "metadata": {
      "needs_background": "light"
     },
     "output_type": "display_data"
    }
   ],
   "source": [
    "plot_confusion_matrix(cnf_matrix_logreg, classes=['Not Severe(1)','Severe(2)'],normalize= True,  title='Logistic Regression Confusion matrix')\n",
    "plt.show()"
   ]
  },
  {
   "cell_type": "code",
   "execution_count": 92,
   "metadata": {},
   "outputs": [
    {
     "data": {
      "image/png": "[encoded data removed]",
      "text/plain": [
       "<Figure size 432x288 with 2 Axes>"
      ]
     },
     "metadata": {
      "needs_background": "light"
     },
     "output_type": "display_data"
    }
   ],
   "source": [
    "plot_confusion_matrix(cnf_matrix_dectree, classes=['Not Severe(1)','Severe(2)'],normalize= True,  title='Decision Tree Confusion matrix')\n",
    "plt.show()"
   ]
  },
  {
   "cell_type": "code",
   "execution_count": 93,
   "metadata": {},
   "outputs": [
    {
     "data": {
      "image/png": "[encoded data removed]",
      "text/plain": [
       "<Figure size 432x288 with 2 Axes>"
      ]
     },
     "metadata": {
      "needs_background": "light"
     },
     "output_type": "display_data"
    }
   ],
   "source": [
    "plot_confusion_matrix(cnf_matrix_ranfor, classes=['Not Severe(1)','Severe(2)'],normalize= True,  title='Random Forest Confusion matrix')\n",
    "plt.show()"
   ]
  }
 ],
 "metadata": {
  "kernelspec": {
   "display_name": "Python 3",
   "language": "python",
   "name": "python3"
  },
  "language_info": {
   "codemirror_mode": {
    "name": "ipython",
    "version": 3
   },
   "file_extension": ".py",
   "mimetype": "text/x-python",
   "name": "python",
   "nbconvert_exporter": "python",
   "pygments_lexer": "ipython3",
   "version": "3.7.6"
  }
 },
 "nbformat": 4,
 "nbformat_minor": 4
}
